{
 "cells": [
  {
   "cell_type": "code",
   "execution_count": 1,
   "metadata": {},
   "outputs": [],
   "source": [
    "import weaviate\n",
    "import weaviate.classes as wvc\n",
    "import os\n",
    "import requests\n",
    "import json\n",
    "from dotenv import load_dotenv\n",
    "from weaviate.classes.config import Configure, Property, DataType, Tokenization\n",
    "from langchain_community.document_loaders import PyPDFLoader\n",
    "from langchain_text_splitters import CharacterTextSplitter\n",
    "\n",
    "load_dotenv()\n",
    "openai_api_key = os.getenv(\"OPENAI_KEY\")\n",
    "\n",
    "client = weaviate.connect_to_local(\n",
    "    port=8080,\n",
    "    grpc_port=50051,\n",
    "    additional_config=weaviate.config.AdditionalConfig(timeout=(10, 25)),\n",
    "    headers={\n",
    "        \"X-OpenAI-Api-Key\": openai_api_key  # Replace with your inference API key\n",
    "    }\n",
    ")"
   ]
  },
  {
   "cell_type": "code",
   "execution_count": 2,
   "metadata": {},
   "outputs": [
    {
     "data": {
      "text/plain": [
       "['Claiming a social welfare payment.pdf',\n",
       " 'Pregnancy and social welfare payments.pdf']"
      ]
     },
     "execution_count": 2,
     "metadata": {},
     "output_type": "execute_result"
    }
   ],
   "source": [
    "path_to_pdf = 'pdf_docs'\n",
    "os.listdir(path_to_pdf)"
   ]
  },
  {
   "cell_type": "code",
   "execution_count": 3,
   "metadata": {},
   "outputs": [],
   "source": [
    "path_to_pdf = 'pdf_docs'\n",
    "\n",
    "documents_text = []\n",
    "\n",
    "for doc in os.listdir(path_to_pdf):\n",
    "\n",
    "    doc_path = f'{path_to_pdf}/{doc}'\n",
    "    loader = PyPDFLoader(doc_path)\n",
    "    pages = loader.load_and_split()\n",
    "    text_splitter = CharacterTextSplitter(chunk_size = 1000, chunk_overlap = 100)\n",
    "    docs = text_splitter.split_documents(pages)\n",
    "    documents_text.append(docs)\n",
    "\n",
    "documents_text = [item for sublist in documents_text for item in sublist]"
   ]
  },
  {
   "cell_type": "code",
   "execution_count": 4,
   "metadata": {},
   "outputs": [
    {
     "name": "stdout",
     "output_type": "stream",
     "text": [
      "{'source': 'pdf_docs/Claiming a social welfare payment.pdf', 'page': 0}\n",
      "4/16/24, 10:04 PM Claiming a social welfare payment\n",
      "https://www.citizensinformation.ie/en/social-welfare/irish-social-welfare-system/claiming-a-social-welfare-payment/applying-for-a-social-welfare-p… 1/4Claiming a social welfare payment\n",
      "Introduc\u0000on\n",
      "Rules\n",
      "How to apply\n",
      "Where to apply\n",
      "Further informa\u0000on\n",
      "Introduc\u0000on\n",
      "The Department of Social Protec\u0000on has a range of social welfare payments that provide ﬁnancial\n",
      "support. To get a social welfare payment, you must apply for it. So, if you think you are en\u0000tled to a\n",
      "payment you should always apply.\n",
      "Your ﬁrst step before applying, is to ﬁnd out which payment you may be en\u0000tled to.\n",
      "Payments are available for:\n",
      "People who are unemployed\n",
      "Families and children\n",
      "Widows, widowers and surviving civil partners\n",
      "Guardians or orphans\n",
      "Older and re\u0000red people\n",
      "People with a disability\n",
      "Carers\n",
      "If you get a social welfare payment you may also qualify for extra social welfare beneﬁts.\n",
      "Household Budget Scheme\n",
      "If you get certain social welfare payments, you can put a regular amount towards your household\n",
      "bills using the Household Budget Scheme. For example, telephone, gas, electricity, and local\n",
      "authority rent.\n",
      "Rules\n",
      "To apply for a social welfare payment, you must ﬁll in an applica\u0000on form and provide other\n",
      "suppor\u0000ng documenta\u0000on. The informa\u0000on and documents you must submit depend on the\n",
      "payment and your personal circumstances. However, in general you must submit some documents\n",
      "when you apply for a payment.\n",
      "If you apply for, or are currently ge\u0000ng a social welfare payment (including Child Beneﬁt) you may\n",
      "be asked to register for a Public Services Card.\n",
      "Adult and child dependents\n",
      "If you qualify for a payment, you may be able to get an increase in your payment for an adult\n",
      "dependant or a child dependant. If it is possible to claim for dependants, the Department of Social\n",
      "Protec\u0000on will ask for informa\u0000on about your dependants on the applica\u0000on form.\n",
      "How long to process claims\n",
      "pdf_docs/Claiming a social welfare payment.pdf\n",
      "0\n"
     ]
    }
   ],
   "source": [
    "for d in documents_text:\n",
    "    print(d.metadata)\n",
    "    print(d.page_content)\n",
    "    print(d.metadata['source'])\n",
    "    print(d.metadata['page'])\n",
    "    break"
   ]
  },
  {
   "cell_type": "code",
   "execution_count": 7,
   "metadata": {},
   "outputs": [
    {
     "data": {
      "text/plain": [
       "<weaviate.collections.collection.Collection at 0x7f5b2c1c6ec0>"
      ]
     },
     "execution_count": 7,
     "metadata": {},
     "output_type": "execute_result"
    }
   ],
   "source": [
    "client.collections.delete(\"citizens_info_docs\") \n",
    "client.collections.create(\n",
    "    \"citizens_info_docs\",\n",
    "\n",
    "    properties=[  \n",
    "        Property(\n",
    "            name=\"source\",\n",
    "            data_type=DataType.TEXT,\n",
    "\n",
    "        ),\n",
    "        Property(\n",
    "            name=\"page\", \n",
    "            data_type=DataType.TEXT\n",
    "        ),\n",
    "\n",
    "        Property(\n",
    "            name=\"content\", \n",
    "            data_type=DataType.TEXT,\n",
    "            vectorize_property_name=True,\n",
    "            tokenization=Tokenization.LOWERCASE\n",
    "        )\n",
    "    ],\n",
    "\n",
    "    vectorizer_config=[\n",
    "        Configure.NamedVectors.text2vec_openai(\n",
    "            name=\"content\", source_properties=['content','source']\n",
    "        )\n",
    "    ]\n",
    ")"
   ]
  },
  {
   "cell_type": "code",
   "execution_count": 8,
   "metadata": {},
   "outputs": [
    {
     "data": {
      "text/plain": [
       "BatchObjectReturn(all_responses=[UUID('528165da-54ea-4bee-8e66-287ad368c5e5'), UUID('d0b28834-51ff-4508-8442-2958b07d9a49'), UUID('d6f552b6-2889-4da1-863b-e9e43868dbc3'), UUID('9250580e-7e94-476d-8e43-f4cfe0ef7512'), UUID('953b8865-1401-4f9a-8095-2deb5fc52727'), UUID('b0555e8c-77cf-4b94-82fc-d84d07dda038'), UUID('a13f3c9d-edd1-4b24-b902-0fe626f1a839')], elapsed_seconds=0.5612339973449707, errors={}, uuids={0: UUID('528165da-54ea-4bee-8e66-287ad368c5e5'), 1: UUID('d0b28834-51ff-4508-8442-2958b07d9a49'), 2: UUID('d6f552b6-2889-4da1-863b-e9e43868dbc3'), 3: UUID('9250580e-7e94-476d-8e43-f4cfe0ef7512'), 4: UUID('953b8865-1401-4f9a-8095-2deb5fc52727'), 5: UUID('b0555e8c-77cf-4b94-82fc-d84d07dda038'), 6: UUID('a13f3c9d-edd1-4b24-b902-0fe626f1a839')}, has_errors=False)"
      ]
     },
     "execution_count": 8,
     "metadata": {},
     "output_type": "execute_result"
    }
   ],
   "source": [
    "document_objs = list()\n",
    "\n",
    "for d in documents_text:\n",
    "    # Extract data from each document\n",
    "    source = d.metadata['source']\n",
    "    page = str(d.metadata['page'])  # Convert page number to string if it's an integer\n",
    "    content = d.page_content\n",
    "\n",
    "    # Prepare properties for the data object according to your schema\n",
    "    document_objs.append({\n",
    "        \"source\": source,\n",
    "        \"page\": page,\n",
    "        \"content\": content\n",
    "    })\n",
    "\n",
    "# Assuming you have a collection named 'Documents' set up in Weaviate\n",
    "documents = client.collections.get(\"citizens_info_docs\")\n",
    "documents.data.insert_many(document_objs)  # Insert all documents at once"
   ]
  },
  {
   "cell_type": "code",
   "execution_count": 9,
   "metadata": {},
   "outputs": [],
   "source": [
    "query_return = documents.query.fetch_objects(\n",
    "    include_vector=True, \n",
    "    limit=2)"
   ]
  },
  {
   "cell_type": "code",
   "execution_count": 10,
   "metadata": {},
   "outputs": [
    {
     "name": "stdout",
     "output_type": "stream",
     "text": [
      "4/12/24, 2:46 PM Pregnancy and social welfare payments\n",
      "https://www.citizensinformation.ie/en/social-welfare/families-and-children/pregnancy-and-social-welfare-payments/#5011b8 3/3If you are taking part in an employment scheme you have the full range of statutory employment\n",
      "rights including maternity leave.\n",
      "If you become pregnant while on an employment scheme (Community Employment, Rural Social\n",
      "Scheme, Tús and Gateway schemes) you are en\u0000tled to take 26 weeks’ maternity leave including an\n",
      "addi\u0000onal 16 weeks of op\u0000onal unpaid leave. If possible, you will be supported to complete your 52\n",
      "weeks of paid work on the same or another project when you ﬁnish your maternity leave.\n",
      "You should discuss with your sponsor the payment you qualify for while you are on maternity leave.\n",
      "You may qualify for Maternity Beneﬁt if you have enough PRSI contribu\u0000ons. Otherwise, if your\n",
      "spouse or partner is ge\u0000ng a social welfare payment, you may get a qualiﬁed adult increase on their\n",
      "payment.\n",
      "Page edited: 21 September 2023\n",
      "Manage cookie preferences\n",
      "Manage preferences\n"
     ]
    }
   ],
   "source": [
    "response = documents.query.near_text(\n",
    "    query=\"How should one apply for Maternity Benefit and what are the deadlines?\",\n",
    "    limit=1\n",
    ")\n",
    "\n",
    "for o in response.objects:\n",
    "    print(o.properties['content'])  # Object properties"
   ]
  },
  {
   "cell_type": "code",
   "execution_count": 11,
   "metadata": {},
   "outputs": [
    {
     "name": "stdout",
     "output_type": "stream",
     "text": [
      "4/16/24, 10:04 PM Claiming a social welfare payment\n",
      "https://www.citizensinformation.ie/en/social-welfare/irish-social-welfare-system/claiming-a-social-welfare-payment/applying-for-a-social-welfare-p… 1/4Claiming a social welfare payment\n",
      "Introduc\u0000on\n",
      "Rules\n",
      "How to apply\n",
      "Where to apply\n",
      "Further informa\u0000on\n",
      "Introduc\u0000on\n",
      "The Department of Social Protec\u0000on has a range of social welfare payments that provide ﬁnancial\n",
      "support. To get a social welfare payment, you must apply for it. So, if you think you are en\u0000tled to a\n",
      "payment you should always apply.\n",
      "Your ﬁrst step before applying, is to ﬁnd out which payment you may be en\u0000tled to.\n",
      "Payments are available for:\n",
      "People who are unemployed\n",
      "Families and children\n",
      "Widows, widowers and surviving civil partners\n",
      "Guardians or orphans\n",
      "Older and re\u0000red people\n",
      "People with a disability\n",
      "Carers\n",
      "If you get a social welfare payment you may also qualify for extra social welfare beneﬁts.\n",
      "Household Budget Scheme\n",
      "If you get certain social welfare payments, you can put a regular amount towards your household\n",
      "bills using the Household Budget Scheme. For example, telephone, gas, electricity, and local\n",
      "authority rent.\n",
      "Rules\n",
      "To apply for a social welfare payment, you must ﬁll in an applica\u0000on form and provide other\n",
      "suppor\u0000ng documenta\u0000on. The informa\u0000on and documents you must submit depend on the\n",
      "payment and your personal circumstances. However, in general you must submit some documents\n",
      "when you apply for a payment.\n",
      "If you apply for, or are currently ge\u0000ng a social welfare payment (including Child Beneﬁt) you may\n",
      "be asked to register for a Public Services Card.\n",
      "Adult and child dependents\n",
      "If you qualify for a payment, you may be able to get an increase in your payment for an adult\n",
      "dependant or a child dependant. If it is possible to claim for dependants, the Department of Social\n",
      "Protec\u0000on will ask for informa\u0000on about your dependants on the applica\u0000on form.\n",
      "How long to process claims\n",
      "4/16/24, 10:04 PM Claiming a social welfare payment\n",
      "https://www.citizensinformation.ie/en/social-welfare/irish-social-welfare-system/claiming-a-social-welfare-payment/applying-for-a-social-welfare-p… 2/4It may take some \u0000me for the Department to process your claim. As part of the procedure, you may\n",
      "be interviewed in your home or asked to a\u0000end an interview at your local social welfare oﬃce.\n",
      "While your claim is being processed by the Department, you may qualify for Supplementary Welfare\n",
      "Allowance.\n",
      "Late claims\n",
      "It is important that you make your claim as soon as you know you are en\u0000tled to the payment. All\n",
      "payments must be claimed within a speciﬁc period of \u0000me. If you don't claim on \u0000me you may lose\n",
      "out. Find out more about making a late claim.\n",
      "Further informa\u0000on or documents\n",
      "If you are asked to provide informa\u0000on reasonably required by a social welfare inspector when\n",
      "inves\u0000ga\u0000ng your claim, you must provide the statements, informa\u0000on or documents within 21\n",
      "days. The same \u0000me period applies to your spouse, civil partner, cohabitant, employer and certain\n",
      "other people (for example, landlords).\n",
      "If you are refused a social welfare payment or get a lesser amount than you expected, you have 21\n",
      "days to appeal the decision of the Department of Social Protec\u0000on.\n",
      "There is more informa\u0000on about how the Department makes decisions on claims in 'More\n",
      "informa\u0000on' below.\n",
      "How to apply\n",
      "You must complete the applica\u0000on form and provide suppor\u0000ng documents.\n",
      "You can apply for most payments online. You can also get an applica\u0000on form from your local Intreo\n",
      "Centre or Social Welfare Branch Oﬃce or your local Ci\u0000zens Informa\u0000on Centre. You can also get an\n",
      "applica\u0000on form on gov.ie.\n",
      "Your Intreo Centre, Social Welfare Branch Oﬃce or your local Ci\u0000zens Informa\u0000on Centre can help\n",
      "you ﬁll in your applica\u0000on form.\n",
      "Birth certs for social welfare\n",
      "You are no longer required to provide copies of birth cer\u0000ﬁcates for social welfare purposes if you\n",
      "were born in Ireland and your birth is in the Register of Births. The Department of Social Protec\u0000on\n",
      "can access this informa\u0000on directly.\n",
      "You can get more informa\u0000on about ge\u0000ng a Birth, Marriage or Death cer\u0000ﬁcate.\n",
      "Where to apply\n",
      "To apply for a social welfare payment you should either:\n",
      "Apply online at MyWelfare.ie (only certain payments)\n",
      "Send a paper applica\u0000on form to the address printed on the form\n",
      "You can get informa\u0000on about applying for social welfare payments through MyWelfare.ie. You can\n",
      "also call 0818 405 060.\n"
     ]
    }
   ],
   "source": [
    "# Assuming 'client' has been properly initialized and connected to Weaviate\n",
    "response = documents.query.near_text(\n",
    "    query=\"How to apply for social walfare\",\n",
    "    limit=2\n",
    ")\n",
    "\n",
    "# Printing properties of the objects retrieved\n",
    "for o in response.objects:\n",
    "    print(o.properties['content'])  # Object properties"
   ]
  },
  {
   "cell_type": "code",
   "execution_count": 26,
   "metadata": {},
   "outputs": [
    {
     "name": "stdout",
     "output_type": "stream",
     "text": [
      "4/12/24, 2:46 PM Pregnancy and social welfare payments\n",
      "https://www.citizensinformation.ie/en/social-welfare/families-and-children/pregnancy-and-social-welfare-payments/#5011b8 2/3What if I am unemployed but don't qualify for a jobseeker's payment because of illness during\n",
      "pregnancy?\n",
      "If you are sick or ill during your pregnancy you are not en\u0000tled to Jobseeker's Allowance or\n",
      "Jobseeker's Beneﬁt.\n",
      "You may get Illness Beneﬁt if you have worked and have enough social insurance contribu\u0000ons (see\n",
      "below). If you are not en\u0000tled to Illness Beneﬁt and your illness is expected to last for more than 12\n",
      "months you may be en\u0000tled to Disability Allowance.\n",
      "If you are pregnant and either not ge\u0000ng a social welfare payment or not en\u0000tled to any of the\n",
      "above social welfare payments, you may get some ﬁnancial support under the Supplementary\n",
      "Welfare Allowance Scheme.\n",
      "Pregnancy and Illness Beneﬁt\n",
      "If you are pregnant and claiming Illness Beneﬁt, you will con\u0000nue to be paid Illness Beneﬁt if you\n",
      "have an illness which meets the criteria for the payment. You cannot use pregnancy itself as a\n",
      "medical reason to claim Illness Beneﬁt. However, medical complica\u0000ons arising from your pregnancy\n",
      "can sa\u0000sfy the medical criteria for Illness Beneﬁt.\n",
      "You must con\u0000nue to send in medical cer\u0000ﬁcates to qualify for Illness Beneﬁt.\n",
      "When your baby is born you may qualify for an increase in your Illness Beneﬁt for a child dependant.\n",
      "You should contact the Illness Beneﬁt sec\u0000on to ﬁnd out if you qualify.\n",
      "Pregnant and on sick leave from work\n",
      "If you are on sick leave from work and ge\u0000ng Illness Beneﬁt immediately before you are due to start\n",
      "your maternity leave, you will transfer from Illness Beneﬁt to Maternity Beneﬁt when your maternity\n",
      "leave starts, if you sa\u0000sfy the social insurance contribu\u0000ons.\n",
      "The social insurance contribu\u0000ons for Maternity Beneﬁt and Illness Beneﬁt are not the same.\n",
      "Therefore, if you are in employment but on sick leave and not ge\u0000ng Illness Beneﬁt, you may s\u0000ll\n",
      "qualify for Maternity Beneﬁt if you sa\u0000sfy social insurance contribu\u0000ons.\n",
      "Health and Safety Beneﬁt is a weekly payment for employed women who are pregnant or\n",
      "breas\u0000eeding, and who are granted health and safety leave by their employer.\n",
      "Pregnancy and One-Parent Family Payment\n",
      "If you are pregnant and ge\u0000ng a One-Parent Family Payment, you will con\u0000nue to get the payment\n",
      "as long as you sa\u0000sfy the condi\u0000ons. When your baby is born you will qualify for an increase in your\n",
      "payment for a child dependant. If you are pregnant and do not have other children, you are not\n",
      "en\u0000tled to One-Parent Family Payment un\u0000l your baby is born.\n",
      "You may get half-rate Maternity Beneﬁt with your One-Parent Family Payment if you meet the\n",
      "conditons for both payments. If you are not en\u0000tled to a One-Parent Family Payment, and you have\n",
      "no other income you may get some ﬁnancial support under the Supplementary Welfare Allowance\n",
      "Scheme.\n",
      "Pregnancy and employment schemes\n"
     ]
    }
   ],
   "source": [
    "# Assuming 'client' has been properly initialized and connected to Weaviate\n",
    "documents = client.collections.get(\"Documents\")\n",
    "response = documents.query.near_text(\n",
    "    query=\"What are the rules for switching from Illness Benefit to Maternity Benefit?\",\n",
    "    limit=1\n",
    ")\n",
    "\n",
    "# Printing properties of the objects retrieved\n",
    "for o in response.objects:\n",
    "    print(o.properties['content'])  # Object properties"
   ]
  },
  {
   "cell_type": "code",
   "execution_count": null,
   "metadata": {},
   "outputs": [
    {
     "name": "stdout",
     "output_type": "stream",
     "text": [
      "4/12/24, 2:46 PM Pregnancy and social welfare payments\n",
      "https://www.citizensinformation.ie/en/social-welfare/families-and-children/pregnancy-and-social-welfare-payments/#5011b8 3/3If you are taking part in an employment scheme you have the full range of statutory employment\n",
      "rights including maternity leave.\n",
      "If you become pregnant while on an employment scheme (Community Employment, Rural Social\n",
      "Scheme, Tús and Gateway schemes) you are en\u0000tled to take 26 weeks’ maternity leave including an\n",
      "addi\u0000onal 16 weeks of op\u0000onal unpaid leave. If possible, you will be supported to complete your 52\n",
      "weeks of paid work on the same or another project when you ﬁnish your maternity leave.\n",
      "You should discuss with your sponsor the payment you qualify for while you are on maternity leave.\n",
      "You may qualify for Maternity Beneﬁt if you have enough PRSI contribu\u0000ons. Otherwise, if your\n",
      "spouse or partner is ge\u0000ng a social welfare payment, you may get a qualiﬁed adult increase on their\n",
      "payment.\n",
      "Page edited: 21 September 2023\n",
      "Manage cookie preferences\n",
      "Manage preferences\n"
     ]
    }
   ],
   "source": [
    "# Assuming 'client' has been properly initialized and connected to Weaviate\n",
    "documents = client.collections.get(\"Documents\")\n",
    "response = documents.query.near_text(\n",
    "    query=\"Can you participate in employment schemes while pregnant and what rights do you have?\",\n",
    "    limit=1\n",
    ")\n",
    "\n",
    "# Printing properties of the objects retrieved\n",
    "for o in response.objects:\n",
    "    print(o.properties['content'])  # Object properties"
   ]
  },
  {
   "cell_type": "code",
   "execution_count": 21,
   "metadata": {},
   "outputs": [
    {
     "name": "stdout",
     "output_type": "stream",
     "text": [
      "4/12/24, 2:46 PM Pregnancy and social welfare payments\n",
      "https://www.citizensinformation.ie/en/social-welfare/families-and-children/pregnancy-and-social-welfare-payments/#5011b8 3/3If you are taking part in an employment scheme you have the full range of statutory employment\n",
      "rights including maternity leave.\n",
      "If you become pregnant while on an employment scheme (Community Employment, Rural Social\n",
      "Scheme, Tús and Gateway schemes) you are en\u0000tled to take 26 weeks’ maternity leave including an\n",
      "addi\u0000onal 16 weeks of op\u0000onal unpaid leave. If possible, you will be supported to complete your 52\n",
      "weeks of paid work on the same or another project when you ﬁnish your maternity leave.\n",
      "You should discuss with your sponsor the payment you qualify for while you are on maternity leave.\n",
      "You may qualify for Maternity Beneﬁt if you have enough PRSI contribu\u0000ons. Otherwise, if your\n",
      "spouse or partner is ge\u0000ng a social welfare payment, you may get a qualiﬁed adult increase on their\n",
      "payment.\n",
      "Page edited: 21 September 2023\n",
      "Manage cookie preferences\n",
      "Manage preferences\n"
     ]
    }
   ],
   "source": [
    "print(o.properties['content'])"
   ]
  }
 ],
 "metadata": {
  "kernelspec": {
   "display_name": "cit",
   "language": "python",
   "name": "python3"
  },
  "language_info": {
   "codemirror_mode": {
    "name": "ipython",
    "version": 3
   },
   "file_extension": ".py",
   "mimetype": "text/x-python",
   "name": "python",
   "nbconvert_exporter": "python",
   "pygments_lexer": "ipython3",
   "version": "3.10.14"
  }
 },
 "nbformat": 4,
 "nbformat_minor": 2
}
