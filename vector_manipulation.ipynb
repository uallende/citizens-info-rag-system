{
 "cells": [
  {
   "cell_type": "code",
   "execution_count": 1,
   "metadata": {},
   "outputs": [],
   "source": [
    "import weaviate\n",
    "import weaviate.classes as wvc\n",
    "import os\n",
    "import requests\n",
    "import json\n",
    "from dotenv import load_dotenv\n",
    "\n",
    "load_dotenv()\n",
    "openai_api_key = os.getenv(\"OPENAI_KEY\")\n",
    "\n",
    "client = weaviate.connect_to_local(\n",
    "    port=8080,\n",
    "    grpc_port=50051,\n",
    "    additional_config=weaviate.config.AdditionalConfig(timeout=(10, 25)),\n",
    "    headers={\n",
    "        \"X-OpenAI-Api-Key\": openai_api_key  # Replace with your inference API key\n",
    "    }\n",
    ")"
   ]
  },
  {
   "cell_type": "code",
   "execution_count": 2,
   "metadata": {},
   "outputs": [],
   "source": [
    "assert client.is_live()"
   ]
  },
  {
   "cell_type": "code",
   "execution_count": 3,
   "metadata": {},
   "outputs": [
    {
     "data": {
      "text/plain": [
       "{'hostname': 'http://[::]:8080',\n",
       " 'modules': {'generative-cohere': {'documentationHref': 'https://docs.cohere.com/reference/generate',\n",
       "   'name': 'Generative Search - Cohere'},\n",
       "  'generative-openai': {'documentationHref': 'https://platform.openai.com/docs/api-reference/completions',\n",
       "   'name': 'Generative Search - OpenAI'},\n",
       "  'generative-palm': {'documentationHref': 'https://cloud.google.com/vertex-ai/docs/generative-ai/chat/test-chat-prompts',\n",
       "   'name': 'Generative Search - Google PaLM'},\n",
       "  'qna-openai': {'documentationHref': 'https://platform.openai.com/docs/api-reference/completions',\n",
       "   'name': 'OpenAI Question & Answering Module'},\n",
       "  'ref2vec-centroid': {},\n",
       "  'reranker-cohere': {'documentationHref': 'https://txt.cohere.com/rerank/',\n",
       "   'name': 'Reranker - Cohere'},\n",
       "  'text2vec-cohere': {'documentationHref': 'https://docs.cohere.ai/embedding-wiki/',\n",
       "   'name': 'Cohere Module'},\n",
       "  'text2vec-huggingface': {'documentationHref': 'https://huggingface.co/docs/api-inference/detailed_parameters#feature-extraction-task',\n",
       "   'name': 'Hugging Face Module'},\n",
       "  'text2vec-openai': {'documentationHref': 'https://platform.openai.com/docs/guides/embeddings/what-are-embeddings',\n",
       "   'name': 'OpenAI Module'},\n",
       "  'text2vec-palm': {'documentationHref': 'https://cloud.google.com/vertex-ai/docs/generative-ai/embeddings/get-text-embeddings',\n",
       "   'name': 'Google PaLM Module'}},\n",
       " 'version': '1.24.8'}"
      ]
     },
     "execution_count": 3,
     "metadata": {},
     "output_type": "execute_result"
    }
   ],
   "source": [
    "client.get_meta()"
   ]
  },
  {
   "cell_type": "code",
   "execution_count": 4,
   "metadata": {},
   "outputs": [],
   "source": [
    "from langchain_community.document_loaders import PyPDFLoader\n",
    "from langchain_community.embeddings import OllamaEmbeddings\n",
    "from langchain_text_splitters import CharacterTextSplitter\n",
    "\n",
    "\n",
    "# embeddings = OllamaEmbeddings()\n",
    "\n",
    "path_to_pdf = 'Pregnancy and social welfare payments.pdf'\n",
    "loader = PyPDFLoader(path_to_pdf)\n",
    "pages = loader.load_and_split()\n",
    "text_splitter = CharacterTextSplitter(chunk_size = 1000, chunk_overlap = 100)\n",
    "docs = text_splitter.split_documents(pages)"
   ]
  },
  {
   "cell_type": "code",
   "execution_count": 5,
   "metadata": {},
   "outputs": [
    {
     "name": "stdout",
     "output_type": "stream",
     "text": [
      "{'source': 'Pregnancy and social welfare payments.pdf', 'page': 0}\n",
      "4/12/24, 2:46 PM Pregnancy and social welfare payments\n",
      "https://www.citizensinformation.ie/en/social-welfare/families-and-children/pregnancy-and-social-welfare-payments/#5011b8 1/3Pregnancy and social welfare payments\n",
      "Introduc\u0000on\n",
      "Pregnancy and jobseeker's payments\n",
      "Pregnancy and Illness Beneﬁt\n",
      "Pregnancy and One-Parent Family Payment\n",
      "Pregnancy and employment schemes\n",
      "Introduc\u0000on\n",
      "If you are pregnant and ge\u0000ng a social welfare payment, you may be able to con\u0000nue to get your\n",
      "payment as long as you sa\u0000sfy the condi\u0000ons, or transfer to another payment that be\u0000er suits your\n",
      "needs.\n",
      "This page explains how pregnancy is treated if you are ge\u0000ng Jobseeker’s Beneﬁt, Jobseeker’s\n",
      "Allowance, Illness Beneﬁt, One-Parent Family Payment or are on an employment scheme.\n",
      "Pregnancy and Maternity Beneﬁt\n",
      "If you are on maternity leave from work and have paid enough social insurance (PRSI), you can get\n",
      "Maternity Beneﬁt. You should apply for Maternity Beneﬁt at least 6 weeks before you plan to go on\n",
      "maternity leave or 12 weeks if you are self-employed.\n",
      "If you don’t qualify for Maternity Beneﬁt, you may be able to stay on your current payment or you\n",
      "may qualify for another payment.\n",
      "Working family payment\n",
      "If you are on maternity leave from work, you may get the Working Family Payment (WFP) with your\n",
      "Maternity Beneﬁt if you meet the condi\u0000ons for the WFP. If you are pregnant and have no other\n",
      "children, you will not qualify for WFP un\u0000l your baby is born.\n",
      "Pregnancy and jobseeker's payments\n",
      "If you are pregnant, and claiming Jobseeker’s Beneﬁt or Jobseeker's Allowance, you can con\u0000nue to\n",
      "get your payment. You are considered capable of work unless you have complica\u0000ons during your\n",
      "pregnancy, or you are ill.\n",
      "You must be available for and genuinely seeking work to get a jobseeker's payment. This means that\n",
      "you must con\u0000nue to look for work throughout your pregnancy.\n",
      "You do not have to sign-on at your local Social Welfare or Intreo oﬃce 4 weeks before your baby is\n",
      "due to be born and for 8 weeks a\u0000er the birth. You also do not have to prove that you are seeking\n",
      "work. You must tell your Intreo Centre or local Social Welfare Branch Oﬃce about your pregnancy.\n",
      "Your Jobseeker’s Beneﬁt will only be paid for the number of weeks remaining on your claim. If you\n",
      "no longer qualify for Jobseeker’s Beneﬁt, you can apply for Jobseeker’s Allowance. The rules for\n",
      "Jobseeker's Allowance are similar to Jobseeker's Beneﬁt but you will have to pass a means test.\n",
      "Increase for a qualiﬁed child\n",
      "When your baby is born, you may qualify for an increase in your Jobseeker’s Beneﬁt or Allowance for\n",
      "your child. If you are paren\u0000ng alone, you may qualify for the One-Parent Family Payment.\n",
      "Pregnancy and social welfare payments.pdf\n",
      "0\n"
     ]
    }
   ],
   "source": [
    "for d in docs:\n",
    "    print(d.metadata)\n",
    "    print(d.page_content)\n",
    "    print(d.metadata['source'])\n",
    "    print(d.metadata['page'])\n",
    "    break"
   ]
  },
  {
   "cell_type": "code",
   "execution_count": 6,
   "metadata": {},
   "outputs": [],
   "source": [
    "client.collections.delete(\"Documents\") "
   ]
  },
  {
   "cell_type": "code",
   "execution_count": 8,
   "metadata": {},
   "outputs": [
    {
     "data": {
      "text/plain": [
       "<weaviate.collections.collection.Collection at 0x7fd0f6432bf0>"
      ]
     },
     "execution_count": 8,
     "metadata": {},
     "output_type": "execute_result"
    }
   ],
   "source": [
    "from weaviate.classes.config import Configure, Property, DataType, Tokenization\n",
    "\n",
    "client.collections.delete(\"Documents\") \n",
    "\n",
    "client.collections.create(\n",
    "    \"Documents\",\n",
    "    # vectorizer_config=Configure.Vectorizer.text2vec_openai(),\n",
    "    properties=[  # properties configuration is optional\n",
    "        Property(\n",
    "            name=\"source\",\n",
    "            data_type=DataType.TEXT,\n",
    "            vectorize_property_name=True,\n",
    "            tokenization=Tokenization.LOWERCASE\n",
    "        ),\n",
    "        Property(\n",
    "            name=\"page\", \n",
    "            data_type=DataType.TEXT,\n",
    "            vectorize_property_name=True,\n",
    "            tokenization=Tokenization.LOWERCASE),\n",
    "\n",
    "        Property(name=\"content\", data_type=DataType.TEXT),\n",
    "    ],\n",
    "\n",
    "    vectorizer_config=[\n",
    "        Configure.NamedVectors.text2vec_openai(\n",
    "            name=\"title\", source_properties=['title']\n",
    "        ),\n",
    "        Configure.NamedVectors.text2vec_openai(\n",
    "            name=\"content\", source_properties=['content']\n",
    "        )\n",
    "    ]\n",
    ")"
   ]
  },
  {
   "cell_type": "code",
   "execution_count": 14,
   "metadata": {},
   "outputs": [
    {
     "ename": "AttributeError",
     "evalue": "'WeaviateClient' object has no attribute 'data_object_creator'",
     "output_type": "error",
     "traceback": [
      "\u001b[0;31m---------------------------------------------------------------------------\u001b[0m",
      "\u001b[0;31mAttributeError\u001b[0m                            Traceback (most recent call last)",
      "Cell \u001b[0;32mIn[14], line 15\u001b[0m\n\u001b[1;32m      8\u001b[0m data_object \u001b[38;5;241m=\u001b[39m {\n\u001b[1;32m      9\u001b[0m     \u001b[38;5;124m\"\u001b[39m\u001b[38;5;124msource\u001b[39m\u001b[38;5;124m\"\u001b[39m: source,\n\u001b[1;32m     10\u001b[0m     \u001b[38;5;124m\"\u001b[39m\u001b[38;5;124mpage\u001b[39m\u001b[38;5;124m\"\u001b[39m: page,\n\u001b[1;32m     11\u001b[0m     \u001b[38;5;124m\"\u001b[39m\u001b[38;5;124mcontent\u001b[39m\u001b[38;5;124m\"\u001b[39m: content\n\u001b[1;32m     12\u001b[0m }\n\u001b[1;32m     14\u001b[0m \u001b[38;5;66;03m# Insert the data object into the Weaviate collection\u001b[39;00m\n\u001b[0;32m---> 15\u001b[0m \u001b[43mclient\u001b[49m\u001b[38;5;241;43m.\u001b[39;49m\u001b[43mdata_object_creator\u001b[49m()\u001b[38;5;241m.\u001b[39mwith_data_object(data_object)\u001b[38;5;241m.\u001b[39mwith_class_name(\u001b[38;5;124m\"\u001b[39m\u001b[38;5;124mDocuments\u001b[39m\u001b[38;5;124m\"\u001b[39m)\u001b[38;5;241m.\u001b[39mdo()\n",
      "\u001b[0;31mAttributeError\u001b[0m: 'WeaviateClient' object has no attribute 'data_object_creator'"
     ]
    }
   ],
   "source": [
    "with client.batch as batch:\n",
    "    for i, d in enumerate(docs):\n",
    "        # Extracting data from your document's structure\n",
    "        source = d.metadata['source']\n",
    "        page = str(d.metadata['page'])  # Converting page number to string if it's not already\n",
    "        content = d.page_content\n",
    "\n",
    "        # Create a data object for each document\n",
    "        properties = {\n",
    "            \"source\": d['source'],\n",
    "            \"page\": d['page'],\n",
    "            \"content\": d['content']\n",
    "        }\n",
    "\n",
    "        # Insert the data object into the Weaviate collection\n",
    "        batch.add_data_object(properties, \"Question\")"
   ]
  },
  {
   "cell_type": "code",
   "execution_count": 12,
   "metadata": {},
   "outputs": [
    {
     "data": {
      "text/html": [
       "<div>\n",
       "<style scoped>\n",
       "    .dataframe tbody tr th:only-of-type {\n",
       "        vertical-align: middle;\n",
       "    }\n",
       "\n",
       "    .dataframe tbody tr th {\n",
       "        vertical-align: top;\n",
       "    }\n",
       "\n",
       "    .dataframe thead th {\n",
       "        text-align: right;\n",
       "    }\n",
       "</style>\n",
       "<table border=\"1\" class=\"dataframe\">\n",
       "  <thead>\n",
       "    <tr style=\"text-align: right;\">\n",
       "      <th></th>\n",
       "      <th>description</th>\n",
       "      <th>content</th>\n",
       "    </tr>\n",
       "  </thead>\n",
       "  <tbody>\n",
       "    <tr>\n",
       "      <th>0</th>\n",
       "      <td>page_content</td>\n",
       "      <td>4/12/24, 2:46 PM Pregnancy and social welfare ...</td>\n",
       "    </tr>\n",
       "    <tr>\n",
       "      <th>1</th>\n",
       "      <td>metadata</td>\n",
       "      <td>{'source': 'Pregnancy and social welfare payme...</td>\n",
       "    </tr>\n",
       "    <tr>\n",
       "      <th>2</th>\n",
       "      <td>type</td>\n",
       "      <td>Document</td>\n",
       "    </tr>\n",
       "  </tbody>\n",
       "</table>\n",
       "</div>"
      ],
      "text/plain": [
       "    description                                            content\n",
       "0  page_content  4/12/24, 2:46 PM Pregnancy and social welfare ...\n",
       "1      metadata  {'source': 'Pregnancy and social welfare payme...\n",
       "2          type                                           Document"
      ]
     },
     "execution_count": 12,
     "metadata": {},
     "output_type": "execute_result"
    }
   ],
   "source": [
    "df"
   ]
  }
 ],
 "metadata": {
  "kernelspec": {
   "display_name": "cit",
   "language": "python",
   "name": "python3"
  },
  "language_info": {
   "codemirror_mode": {
    "name": "ipython",
    "version": 3
   },
   "file_extension": ".py",
   "mimetype": "text/x-python",
   "name": "python",
   "nbconvert_exporter": "python",
   "pygments_lexer": "ipython3",
   "version": "3.10.14"
  }
 },
 "nbformat": 4,
 "nbformat_minor": 2
}
