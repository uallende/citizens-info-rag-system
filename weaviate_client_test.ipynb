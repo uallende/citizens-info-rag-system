{
 "cells": [
  {
   "cell_type": "code",
   "execution_count": 4,
   "metadata": {},
   "outputs": [
    {
     "name": "stderr",
     "output_type": "stream",
     "text": [
      "/tmp/ipykernel_7438/2553797101.py:6: ResourceWarning: unclosed <socket.socket fd=73, family=AddressFamily.AF_INET, type=SocketKind.SOCK_STREAM, proto=6, laddr=('127.0.0.1', 58822), raddr=('127.0.0.1', 8080)>\n",
      "  client = weaviate.connect_to_local(\n",
      "ResourceWarning: Enable tracemalloc to get the object allocation traceback\n"
     ]
    }
   ],
   "source": [
    "## NEED TO SPIN UP THE WEAVIATE CONTAINER FIRST\n",
    "## docker run -p 8080:8080 -p 50051:50051 semitechnologies/weaviate\n",
    "\n",
    "import weaviate\n",
    "\n",
    "client = weaviate.connect_to_local(\n",
    "    port=8080,\n",
    "    grpc_port=50051,\n",
    "    additional_config=weaviate.config.AdditionalConfig(timeout=(10, 25))  # Values in seconds\n",
    ")"
   ]
  },
  {
   "cell_type": "code",
   "execution_count": 5,
   "metadata": {},
   "outputs": [],
   "source": [
    "from langchain_community.document_loaders import PyPDFLoader\n",
    "from langchain_community.embeddings import OllamaEmbeddings\n",
    "from langchain_text_splitters import CharacterTextSplitter\n",
    "from langchain_community.vectorstores import FAISS\n",
    "\n",
    "\n",
    "embeddings = OllamaEmbeddings()\n",
    "\n",
    "path_to_pdf = 'Pregnancy and social welfare payments.pdf'\n",
    "loader = PyPDFLoader(path_to_pdf)\n",
    "pages = loader.load_and_split()\n",
    "text_splitter = CharacterTextSplitter(chunk_size = 1000, chunk_overlap = 100)\n",
    "docs = text_splitter.split_documents(pages)\n",
    "retriever = FAISS.from_documents(docs, embeddings).as_retriever()"
   ]
  },
  {
   "cell_type": "code",
   "execution_count": 3,
   "metadata": {},
   "outputs": [
    {
     "ename": "ImportError",
     "evalue": "cannot import name 'RequestsConnectionError' from 'weaviate.exceptions' (/root/miniconda3/envs/cit/lib/python3.10/site-packages/weaviate/exceptions.py)",
     "output_type": "error",
     "traceback": [
      "\u001b[0;31m---------------------------------------------------------------------------\u001b[0m",
      "\u001b[0;31mImportError\u001b[0m                               Traceback (most recent call last)",
      "Cell \u001b[0;32mIn[3], line 2\u001b[0m\n\u001b[1;32m      1\u001b[0m \u001b[38;5;28;01mimport\u001b[39;00m \u001b[38;5;21;01mweaviate\u001b[39;00m\n\u001b[0;32m----> 2\u001b[0m \u001b[38;5;28;01mfrom\u001b[39;00m \u001b[38;5;21;01mweaviate\u001b[39;00m\u001b[38;5;21;01m.\u001b[39;00m\u001b[38;5;21;01mexceptions\u001b[39;00m \u001b[38;5;28;01mimport\u001b[39;00m RequestsConnectionError, SchemaValidationException, ObjectAlreadyExistsException\n\u001b[1;32m      4\u001b[0m client \u001b[38;5;241m=\u001b[39m weaviate\u001b[38;5;241m.\u001b[39mClient(\u001b[38;5;124m\"\u001b[39m\u001b[38;5;124mhttp://localhost:8080\u001b[39m\u001b[38;5;124m\"\u001b[39m)\n\u001b[1;32m      6\u001b[0m schema \u001b[38;5;241m=\u001b[39m {\n\u001b[1;32m      7\u001b[0m     \u001b[38;5;124m\"\u001b[39m\u001b[38;5;124mclasses\u001b[39m\u001b[38;5;124m\"\u001b[39m: [\n\u001b[1;32m      8\u001b[0m         {\n\u001b[0;32m   (...)\u001b[0m\n\u001b[1;32m     15\u001b[0m     ],\n\u001b[1;32m     16\u001b[0m }\n",
      "\u001b[0;31mImportError\u001b[0m: cannot import name 'RequestsConnectionError' from 'weaviate.exceptions' (/root/miniconda3/envs/cit/lib/python3.10/site-packages/weaviate/exceptions.py)"
     ]
    }
   ],
   "source": [
    "import weaviate\n",
    "from weaviate.exceptions import RequestsConnectionError, SchemaValidationException, ObjectAlreadyExistsException\n",
    "\n",
    "client = weaviate.Client(\"http://localhost:8080\")\n",
    "\n",
    "schema = {\n",
    "    \"classes\": [\n",
    "        {\n",
    "            \"class\": \"Person\",\n",
    "            \"properties\": [\n",
    "                {\"name\": \"name\", \"dataType\": [\"string\"]},\n",
    "                {\"name\": \"age\", \"dataType\": [\"int\"]},\n",
    "            ],\n",
    "        },\n",
    "    ],\n",
    "}\n",
    "\n",
    "# Error handling for creating schema\n",
    "try:\n",
    "    client.schema.create(schema)\n",
    "except (RequestsConnectionError, SchemaValidationException) as e:\n",
    "    print(f\"Failed to create schema: {e}\")\n",
    "\n",
    "# Data to be added\n",
    "person = {\"name\": \"John Doe\", \"age\": 30}\n",
    "\n",
    "# Error handling for adding data\n",
    "try:\n",
    "    client.data_object.create(person, \"Person\")\n",
    "except (RequestsConnectionError, ObjectAlreadyExistsException) as e:\n",
    "    print(f\"Failed to add data object: {e}\")\n"
   ]
  },
  {
   "cell_type": "code",
   "execution_count": null,
   "metadata": {},
   "outputs": [
    {
     "ename": "AttributeError",
     "evalue": "'PyPDFLoader' object has no attribute 'get'",
     "output_type": "error",
     "traceback": [
      "\u001b[0;31m---------------------------------------------------------------------------\u001b[0m",
      "\u001b[0;31mAttributeError\u001b[0m                            Traceback (most recent call last)",
      "Cell \u001b[0;32mIn[3], line 2\u001b[0m\n\u001b[1;32m      1\u001b[0m \u001b[38;5;28;01mfor\u001b[39;00m page \u001b[38;5;129;01min\u001b[39;00m pages:\n\u001b[0;32m----> 2\u001b[0m     \u001b[43mloader\u001b[49m\u001b[38;5;241;43m.\u001b[39;49m\u001b[43mget\u001b[49m\n",
      "\u001b[0;31mAttributeError\u001b[0m: 'PyPDFLoader' object has no attribute 'get'"
     ]
    }
   ],
   "source": [
    "for page in pages:\n",
    "    loader.get"
   ]
  }
 ],
 "metadata": {
  "kernelspec": {
   "display_name": "cit",
   "language": "python",
   "name": "python3"
  },
  "language_info": {
   "codemirror_mode": {
    "name": "ipython",
    "version": 3
   },
   "file_extension": ".py",
   "mimetype": "text/x-python",
   "name": "python",
   "nbconvert_exporter": "python",
   "pygments_lexer": "ipython3",
   "version": "3.10.14"
  }
 },
 "nbformat": 4,
 "nbformat_minor": 2
}
