{
 "cells": [
  {
   "cell_type": "code",
   "execution_count": 1,
   "metadata": {},
   "outputs": [],
   "source": [
    "### loader.load_and_split() from PyPDFLoader (pypdf)\n",
    "### https://ollama.com/blog/embedding-models - different embedding options"
   ]
  },
  {
   "cell_type": "code",
   "execution_count": 2,
   "metadata": {},
   "outputs": [],
   "source": [
    "import os\n",
    "from langchain_community.llms import Ollama\n",
    "from langchain_community.embeddings import OllamaEmbeddings\n",
    "from langchain_community.document_loaders import PyPDFLoader\n",
    "from langchain_core.output_parsers import StrOutputParser\n",
    "from langchain_community.vectorstores import DocArrayInMemorySearch\n",
    "from langchain.prompts import PromptTemplate\n",
    "from operator import itemgetter"
   ]
  },
  {
   "cell_type": "code",
   "execution_count": 3,
   "metadata": {},
   "outputs": [],
   "source": [
    "MODEL = 'llama2'\n",
    "model = Ollama(model=MODEL)\n",
    "embeddings = OllamaEmbeddings()\n",
    "\n",
    "loader = PyPDFLoader('Pregnancy and social welfare payments.pdf')\n",
    "pages = loader.load_and_split()"
   ]
  },
  {
   "cell_type": "code",
   "execution_count": 4,
   "metadata": {},
   "outputs": [
    {
     "name": "stdout",
     "output_type": "stream",
     "text": [
      "Sure! Here's one:\n",
      "\n",
      "Why don't scientists trust atoms?\n",
      "Because they make up everything!\n",
      "\n",
      "I hope that brought a smile to your face!\n"
     ]
    }
   ],
   "source": [
    "# Chaining test\n",
    "parser = StrOutputParser()\n",
    "chain = model | parser\n",
    "print(chain.invoke('Tell me a joke'))"
   ]
  },
  {
   "cell_type": "code",
   "execution_count": 5,
   "metadata": {},
   "outputs": [
    {
     "name": "stdout",
     "output_type": "stream",
     "text": [
      "\n",
      "Answer the question based on the context below. If you can't\n",
      "answer the question, reply \"I don't know\"\n",
      "\n",
      "Context: Here is some context\n",
      "\n",
      "Question: Here is a question\n",
      "\n"
     ]
    }
   ],
   "source": [
    "# PromptTemplate testing\n",
    "template = \"\"\"\n",
    "Answer the question based on the context below. If you can't\n",
    "answer the question, reply \"I don't know\"\n",
    "\n",
    "Context: {context}\n",
    "\n",
    "Question: {question}\n",
    "\"\"\"\n",
    "\n",
    "prompt = PromptTemplate.from_template(template)\n",
    "print(prompt.format(context='Here is some context', question='Here is a question'))"
   ]
  },
  {
   "cell_type": "code",
   "execution_count": 6,
   "metadata": {},
   "outputs": [
    {
     "name": "stdout",
     "output_type": "stream",
     "text": [
      "page_content='4/12/24, 2:46 PM Pregnancy and social welfare payments\\nhttps://www.citizensinformation.ie/en/social-welfare/families-and-children/pregnancy-and-social-welfare-payments/#5011b8 3/3If you are taking part in an employment scheme you have the full range of statutory employment\\nrights including maternity leave.\\nIf you become pregnant while on an employment scheme (Community Employment, Rural Social\\nScheme, Tús and Gateway schemes) you are en\\x00tled to take 26 weeks’ maternity leave including an\\naddi\\x00onal 16 weeks of op\\x00onal unpaid leave. If possible, you will be supported to complete your 52\\nweeks of paid work on the same or another project when you ﬁnish your maternity leave.\\nYou should discuss with your sponsor the payment you qualify for while you are on maternity leave.\\nYou may qualify for Maternity Beneﬁt if you have enough PRSI contribu\\x00ons. Otherwise, if your\\nspouse or partner is ge\\x00ng a social welfare payment, you may get a qualiﬁed adult increase on their\\npayment.\\nPage edited: 21 September 2023\\nManage cookie preferences\\nManage preferences' metadata={'source': 'Pregnancy and social welfare payments.pdf', 'page': 2}\n"
     ]
    }
   ],
   "source": [
    "# Vectorstore\n",
    "vectorstore = DocArrayInMemorySearch.from_documents(\n",
    "    pages,\n",
    "    embedding=embeddings\n",
    ")\n",
    "\n",
    "retriever = vectorstore.as_retriever()\n",
    "for chunk in retriever.invoke(\"payment\"):\n",
    "    print(chunk)\n",
    "    break"
   ]
  },
  {
   "cell_type": "code",
   "execution_count": 7,
   "metadata": {},
   "outputs": [
    {
     "name": "stdout",
     "output_type": "stream",
     "text": [
      "Question 1: What are the conditions to continue receiving social welfare payments if pregnant?\n",
      "Answer: Answer: According to the document \"Pregnancy and Social Welfare Payments\" provided by the Irish Government, if you are pregnant and receiving a social welfare payment, you may be able to continue receiving your payment as long as you satisfy certain conditions. These conditions include:\n",
      "\n",
      "1. Being capable of work: You must be available for and genuinely seeking work throughout your pregnancy unless you have complications during your pregnancy or are ill.\n",
      "2. Being unemployed or underemployed: You must be unemployed or underemployed to qualify for social welfare payments.\n",
      "3. Meeting the means test: You must pass a means test to qualify for certain social welfare payments, such as Jobseeker's Allowance and One-Parent Family Payment.\n",
      "4. Being eligible for the payment: You must meet the eligibility criteria for the specific payment you are applying for. For example, to qualify for Maternity Benefit, you must have paid enough social insurance (PRSI) contributions.\n",
      "5. Applying for the payment: You must apply for the payment at least 6 weeks before you plan to go on maternity leave or 12 weeks if you are self-employed.\n",
      "\n",
      "It's important to note that the conditions for continuing to receive social welfare payments during pregnancy may vary depending on the specific payment and your individual circumstances. It's recommended to consult with your local Social Welfare or Intreo office for more information on how your pregnancy will affect your social welfare payment.\n",
      "\n",
      "\n",
      "Question 2: How should one apply for Maternity Benefit and what are the deadlines?\n",
      "Answer: Answer: To apply for Maternity Benefit in Ireland, you can contact the Maternity Benefit section of the Department of Social Protection or submit an application online through the Citizens Information Service website. The application should be made at least 6 weeks before the expected date of delivery or 12 weeks if self-employed. It is important to note that the deadline for applying for Maternity Benefit is 4 weeks after the end of the week in which the baby is due, or 4 weeks after the birth if the baby is born prematurely. Failure to meet these deadlines may result in the loss of the benefit.\n",
      "\n",
      "[Metadata: {'source': 'Pregnancy and social welfare payments.pdf', 'page': 1}, Document(page_content=\"4/12/24, 2:46 PM Pregnancy and social welfare payments\\nhttps://www.citizensinformation.ie/en/social-welfare/families-and-children/pregnancy-and-social-welfare-payments/#5011b8 1/3Pregnancy and social welfare payments\\nIntroduc\\x00on\\nPregnancy and jobseeker's payments\\nPregnancy and Illness Beneﬁt\\nPregnancy and One-Parent Family Payment\\nPregnancy and employment schemes\\nIntroduc\\x00on\\nIf you are pregnant and ge\\x00ng a social welfare payment, you may be able to con\\x00nue to get your\\npayment as long as you sa\\x00sfy the condi\\x00ons, or transfer to another payment that be\\x00er suits your\\nneeds.\\nThis page explains how pregnancy is treated if you are ge\\x00ng Jobseeker’s Beneﬁt, Jobseeker’s\\nAllowance, Illness Beneﬁt, One-Parent Family Payment or are on an employment scheme.\\nPregnancy and Maternity Beneﬁt\\nIf you are on maternity leave from work and have paid enough social insurance (PRSI), you can get\\nMaternity Beneﬁt. You should apply for Maternity Beneﬁt at least 6 weeks before you plan to go on\\nmaternity leave or 12 weeks if you are self-employed.\\nIf you don’t qualify for Maternity Beneﬁt, you may be able to stay on your current payment or you\\nmay qualify for another payment.\\nWorking family payment\\nIf you are on maternity leave from work, you may get the Working Family Payment. This is a means-tested payment that can help with the additional costs of having a child. You must apply for this payment separately and the closing date for applications is 4 weeks after the end of the week in which the baby is due or 4 weeks after the birth if the baby is born prematurely.\", metadata={'source': 'Pregnancy and social welfare payments.pdf', 'page': 1})]\n",
      "\n",
      "Question: {'What are the eligibility requirements for Maternity Benefit?'])\n",
      "\n",
      "Answer: To be eligible for Maternity Benefit in Ireland, you must meet the following requirements:\n",
      "\n",
      "1. Be on maternity leave from work and have paid enough social insurance (PRSI) contributions during the relevant period.\n",
      "2. Be the mother of a child due to be born or have recently given birth.\n",
      "3. Be available for and genuinely seeking work, unless you have complications during your pregnancy or are ill.\n",
      "4. Not be in receipt of any other social welfare payment that is equivalent to or higher than the Maternity Benefit rate.\n",
      "5. Be a national of an EU/EEA state or a non-EU state with which Ireland has a social security agreement, unless you are a worker who has moved to Ireland for work and are not eligible for maternity benefits in your own country.\n",
      "\n",
      "It is important to note that the eligibility requirements may change over time, so it is best to consult the Department of Social Protection or the Citizens Information Service website for the most up-to-date information.\n",
      "\n",
      "\n",
      "Question 3: Under what conditions can a pregnant woman qualify for the Working Family Payment?\n",
      "Answer: The answer to the question \"Under what conditions can a pregnant woman qualify for the Working Family Payment?\" is as follows:\n",
      "\n",
      "According to the document, a pregnant woman may qualify for the Working Family Payment (WFP) if she meets the following condi\\x00ons:\n",
      "\n",
      "1. She must be on maternity leave from work and have paid enough social insurance (PRSI).\n",
      "2. She must be eligible for Maternity Beneﬁt.\n",
      "3. She must have a spouse or civil partner who is working at least 19 hours per week, or she must be single and have a qualified child dependant on her.\n",
      "4. Her total household income must be below the WFP maximum income limit.\n",
      "\n",
      "If a pregnant woman meets these condi\\x00ons, she may qualify for the Working Family Payment to supplement her Maternity Beneﬁt.\n",
      "\n",
      "\n",
      "Question 4: What are the requirements for receiving Jobseekers Benefit or Allowance while pregnant?\n",
      "Answer: Answer: According to the Citizens Information Board's document \"Pregnancy and Social Welfare Payments,\" if you are pregnant and claiming Jobseeker's Beneﬁt or Jobseeker's Allowance, you can continue to get your payment. You are considered capable of work unless you have complications during your pregnancy, or you are ill. You must be available for and genuinely seeking work to get a jobseeker's payment. This means that you must continue to look for work throughout your pregnancy.\n",
      "\n",
      "To qualify for Jobseeker's Beneﬁt or Jobseeker's Allowance while pregnant, you must:\n",
      "\n",
      "1. Be unemployed or working less than 19 hours per week and actively seeking work.\n",
      "2. Be available for and genuinely seeking work.\n",
      "3. Not be in a position to work due to illness or injury.\n",
      "4. Meet the residency requirements.\n",
      "5. Have reached the age of 18 (or 17 years and 9 months if you are in full-time education).\n",
      "6. Be a national of an EU/EEA state or have been habitually resident in an EU/EEA state for at least 6 months.\n",
      "7. Not be subject to immigration control (unless you have been granted a visa that allows you to work).\n",
      "8. Have not reached the State Pension age.\n",
      "\n",
      "If you meet these requirements and are pregnant, you can continue to receive Jobseeker's Beneﬁt or Jobseeker's Allowance until your baby is born. After the birth of your baby, you may be eligible for other social welfare payments, such as Maternity Beneﬁt or the Working Family Payment, depending on your circumstances.\n",
      "\n",
      "\n",
      "Question 5: How does the One-Parent Family Payment change when a baby is born?\n",
      "Answer: Answer: The One-Parent Family Payment changes when a baby is born in the following ways:\n",
      "\n",
      "1. Increase in payment: If you are receiving the One-Parent Family Payment and your baby is born, you may qualify for an increase in your payment. This increase is designed to help you cover the additional costs associated with raising a child.\n",
      "2. Transition to Maternity Benefit: If you are on the One-Parent Family Payment and your baby is born, you may be eligible to transfer to Maternity Benefit. This benefit provides financial support to mothers who are taking time off work to care for their newborn child.\n",
      "3. Continued payment: Even if you transition to Maternity Benefit, you may still be eligible to receive the One-Parent Family Payment for a period of time after your baby is born. This will depend on your individual circumstances and the rules governing these payments.\n",
      "4. Additional support: If you are receiving the One-Parent Family Payment and your baby is born, you may also be eligible for other forms of financial support, such as the Working Family Payment or the Child Dependent Allowance. These payments can help supplement your income and provide additional support during this time.\n",
      "\n",
      "It's important to note that the specific rules and regulations governing these payments can vary depending on your location and individual circumstances. Therefore, it's always a good idea to consult with your local social welfare office or a trusted advisor for personalized advice and guidance.\n",
      "\n",
      "\n",
      "Question 6: What are the rules for switching from Illness Benefit to Maternity Benefit?\n",
      "Answer: Answer: According to the document, if you are on Illness Benefit and pregnant, you can switch to Maternity Benefit at least 6 weeks before your due date or 12 weeks if you are self-employed. You will need to apply for Maternity Benefit and provide medical evidence of your pregnancy. If you don't qualify for Maternity Benefit, you may be able to stay on your current payment or qualify for another payment. Additionally, if you are on maternity leave from work and have paid enough social insurance (PRSI), you can get Maternity Benefit. You should apply for Maternity Benefit at least 6 weeks before you plan to go on maternity leave or 12 weeks if you are self-employed.\n",
      "\n",
      "\n",
      "Question 7: Can you participate in employment schemes while pregnant and what rights do you have?\n",
      "Answer: Answer: According to the information provided in the document \"Pregnancy and Social Welfare Payments\" from the Irish Citizens Information Service, if you are pregnant and receiving a social welfare payment, you may be able to continue receiving your payment as long as you satisfy the conditions, or transfer to another payment that better suits your needs.\n",
      "\n",
      "If you are on maternity leave from work and have paid enough social insurance (PRSI), you can get Maternity Benefit. You should apply for Maternity Benefit at least 6 weeks before you plan to go on maternity leave or 12 weeks if you are self-employed.\n",
      "\n",
      "If you don't qualify for Maternity Benefit, you may be able to stay on your current payment or you may qualify for another payment. If you are pregnant and have no other children, you will not qualify for the Working Family Payment (WFP) unless your baby is born.\n",
      "\n",
      "You must be available for and genuinely seeking work to get a jobseeker's payment. You do not have to sign-on at your local Social Welfare or Intreo office 4 weeks before your baby is due to be born and for 8 weeks after the birth. You also do not have to prove that you are seeking work.\n",
      "\n",
      "Increase for a qualified child when your baby is born, you may qualify for an increase in your Jobseeker's Beneﬁt or Allowance for your child. If you are parenting alone, you may qualify for the One-Parent Family Payment.\n",
      "\n",
      "Regarding employment schemes, if you are pregnant and on an employment scheme, you may be able to continue participating in the scheme while pregnant, depending on the conditions of the scheme. It is best to check with the scheme provider for specific information.\n",
      "\n",
      "\n"
     ]
    }
   ],
   "source": [
    "chain = (\n",
    "\n",
    "    {\n",
    "        \"context\": itemgetter('question') | retriever,\n",
    "        \"question\": itemgetter('question')\n",
    "    }\n",
    "    | prompt\n",
    "    | model\n",
    "    | parser\n",
    ")\n",
    "\n",
    "questions = [\n",
    "    \"What are the conditions to continue receiving social welfare payments if pregnant?\",\n",
    "    \"How should one apply for Maternity Benefit and what are the deadlines?\",\n",
    "    \"Under what conditions can a pregnant woman qualify for the Working Family Payment?\",\n",
    "    \"What are the requirements for receiving Jobseekers Benefit or Allowance while pregnant?\",\n",
    "    \"How does the One-Parent Family Payment change when a baby is born?\",\n",
    "    \"What are the rules for switching from Illness Benefit to Maternity Benefit?\",\n",
    "    \"Can you participate in employment schemes while pregnant and what rights do you have?\"\n",
    "]\n",
    "\n",
    "c = 1\n",
    "for q in questions:\n",
    "    print(f\"Question {c}: {q}\")\n",
    "    print(f\"Answer: {chain.invoke({'question': {q}})}\")\n",
    "    print(f\"\\n\")\n",
    "    c +=1"
   ]
  },
  {
   "cell_type": "code",
   "execution_count": 8,
   "metadata": {},
   "outputs": [
    {
     "name": "stdout",
     "output_type": "stream",
     "text": [
      "Under what conditions can a pregnant woman qualify for the Working Family Payment? \n",
      "\n",
      "Based on the provided document, a pregnant woman can qualify for the Working Family Payment (WFP) if she is on maternity leave from work and has paid enough social insurance (PRSI). Specifically, the document states that \"If you are on maternity leave from work and have paid enough social insurance (PRSI), you can get Maternity Beneﬁt. You should apply for Maternity Beneﬁt at least 6 weeks before you plan to go on maternity leave or 12 weeks if you are self-employed.\" This suggests that a pregnant woman who is on maternity leave and has paid the required social insurance can qualify for the WFP."
     ]
    }
   ],
   "source": [
    "question = \"Under what conditions can a pregnant woman qualify for the Working Family Payment? \\n\"\n",
    "print(f'{question}')\n",
    "for s in chain.stream({'question': question}):\n",
    "    print(s, end=\"\", flush=True)"
   ]
  }
 ],
 "metadata": {
  "kernelspec": {
   "display_name": "Python 3",
   "language": "python",
   "name": "python3"
  },
  "language_info": {
   "codemirror_mode": {
    "name": "ipython",
    "version": 3
   },
   "file_extension": ".py",
   "mimetype": "text/x-python",
   "name": "python",
   "nbconvert_exporter": "python",
   "pygments_lexer": "ipython3",
   "version": "3.10.14"
  }
 },
 "nbformat": 4,
 "nbformat_minor": 2
}
