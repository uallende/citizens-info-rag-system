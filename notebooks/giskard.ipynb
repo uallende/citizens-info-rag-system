{
 "cells": [
  {
   "cell_type": "code",
   "execution_count": 1,
   "metadata": {},
   "outputs": [
    {
     "name": "stderr",
     "output_type": "stream",
     "text": [
      "/root/miniconda3/envs/cit/lib/python3.10/site-packages/tqdm/auto.py:21: TqdmWarning: IProgress not found. Please update jupyter and ipywidgets. See https://ipywidgets.readthedocs.io/en/stable/user_install.html\n",
      "  from .autonotebook import tqdm as notebook_tqdm\n"
     ]
    }
   ],
   "source": [
    "import giskard\n",
    "from typing import Sequence, Optional\n",
    "from giskard.llm.client import set_default_client\n",
    "from giskard.llm.client.base import LLMClient, ChatMessage\n",
    "import torch\n",
    "from transformers import AutoConfig, AutoTokenizer, AutoModelForCausalLM, BitsAndBytesConfig, TextStreamer\n",
    "from transformers import AutoTokenizer, AutoModelForCausalLM, pipeline, AutoModelForSeq2SeqLM\n",
    "from langchain.llms import HuggingFacePipeline\n",
    "from sentence_transformers import SentenceTransformer\n",
    "from langchain.embeddings import HuggingFaceEmbeddings\n",
    "from langchain import PromptTemplate, LLMChain\n",
    "\n",
    "from dotenv import load_dotenv\n",
    "import os\n",
    "from llama_parse import LlamaParse\n",
    "import nest_asyncio\n",
    "\n",
    "import pandas as pd\n",
    "from giskard.rag import KnowledgeBase\n",
    "from giskard.rag import generate_testset\n",
    "\n",
    "from langchain_community.document_loaders.text import TextLoader\n",
    "from langchain.text_splitter import RecursiveCharacterTextSplitter\n",
    "\n",
    "nest_asyncio.apply()"
   ]
  },
  {
   "cell_type": "code",
   "execution_count": 2,
   "metadata": {},
   "outputs": [
    {
     "name": "stderr",
     "output_type": "stream",
     "text": [
      "Special tokens have been added in the vocabulary, make sure the associated word embeddings are fine-tuned or trained.\n",
      "Loading checkpoint shards: 100%|██████████| 4/4 [00:26<00:00,  6.58s/it]\n"
     ]
    }
   ],
   "source": [
    "# mistralai/Mistral-7B-Instruct-v0.2\n",
    "model_name_or_path = \"NousResearch/Hermes-2-Pro-Llama-3-8B\"\n",
    "\n",
    "config = AutoConfig.from_pretrained(model_name_or_path, trust_remote_code=True)\n",
    "config.max_position_embeddings = 8096\n",
    "quantization_config = BitsAndBytesConfig(\n",
    "llm_int8_enable_fp32_cpu_offload=True,\n",
    "bnb_4bit_quant_type='nf4',\n",
    "bnb_4bit_use_double_quant=True,\n",
    "bnb_4bit_compute_dtype=torch.bfloat16,\n",
    "load_in_4bit=True\n",
    ")\n",
    "\n",
    "tokenizer = AutoTokenizer.from_pretrained(model_name_or_path, use_fast=True)\n",
    "model = AutoModelForCausalLM.from_pretrained(\n",
    "model_name_or_path,\n",
    "config=config,\n",
    "trust_remote_code=True,\n",
    "quantization_config=quantization_config,\n",
    "device_map=\"cuda\",\n",
    ")\n",
    "\n",
    "# tokenizer = AutoTokenizer.from_pretrained('mistralai/Mistral-7B-Instruct-v0.2', token=hf_token)"
   ]
  },
  {
   "cell_type": "code",
   "execution_count": 27,
   "metadata": {},
   "outputs": [],
   "source": [
    "current_dir = os.getcwd()\n",
    "parent_dir = os.path.dirname(current_dir)\n",
    "env_dir = os.path.join(parent_dir, 'app')\n",
    "env_file = os.path.join(env_dir, '.env')\n",
    "\n",
    "load_dotenv(dotenv_path=env_file)\n",
    "llama_parse_key = os.getenv(\"LLAMA_INDEX_TOKEN\")\n",
    "\n",
    "\n",
    "parser = LlamaParse(\n",
    "    result_type = 'markdown',\n",
    "    verbose = True,\n",
    "    language = 'en',\n",
    "    num_workers = 8,\n",
    "    api_key = llama_parse_key\n",
    ")\n",
    "\n",
    "parent_dir = os.path.dirname(current_dir)\n",
    "path_to_pdf = 'app/pdf_docs'\n",
    "file_path = os.path.join(parent_dir, path_to_pdf)\n",
    "\n",
    "c = 0\n",
    "documents_list = []\n",
    "\n",
    "for doc in os.listdir(file_path):\n",
    "    if doc.endswith(\".pdf\"):\n",
    "        documents_list.append(f'{file_path}/{doc}')\n",
    "\n",
    "    c += 1\n",
    "    if c >= 5:\n",
    "        break\n",
    "\n",
    "documents = parser.load_data(documents_list)\n",
    "stiched_docs = [\"\".join(doc.text) for doc in documents]\n",
    "stiched_docs = \"\".join(stiched_docs)"
   ]
  },
  {
   "cell_type": "code",
   "execution_count": 53,
   "metadata": {},
   "outputs": [],
   "source": [
    "# save stiched_docs as a txt file\n",
    "with open('stiched_docs.txt', 'w') as f:\n",
    "    f.write(stiched_docs)"
   ]
  },
  {
   "cell_type": "code",
   "execution_count": 58,
   "metadata": {},
   "outputs": [],
   "source": [
    "text_splitter = RecursiveCharacterTextSplitter(chunk_size=1000, chunk_overlap=200)\n",
    "loader = TextLoader(file_path='stiched_docs.txt')\n",
    "documents = loader.load_and_split(text_splitter)"
   ]
  },
  {
   "cell_type": "code",
   "execution_count": 59,
   "metadata": {},
   "outputs": [
    {
     "data": {
      "text/plain": [
       "[Document(page_content='# Noise pollution and noise complaints\\n\\nWhat is noise pollution?\\n\\n- Is considered a nuisance\\n- Is dangerous to human health\\n- Could damage property\\n- Could damage the environment\\n\\nThere are no universal noise standard laws that apply in Ireland but your local authority may refer to particular noise standards. Noise pollution is outlined in the Environmental Protection Agency Act 1992.\\n\\nWho do I complain to about noise pollution?\\n\\nWhile the law does not mention an exact level or standard of noise that is illegal, if noise is affecting your quality of life, then you have a right to complain. Who you complain to depends on the source of the noise.\\n\\nYour first step should generally be to contact the person causing the noise to try to fix the issue. If this doesn’t work, you can take the necessary next steps to make your complaint. There are different bodies who deal with these complaints, but the 2 main places to make your complaints are:\\n\\n- Local authorities\\n- The District Court', metadata={'source': 'stiched_docs.txt'}),\n",
       " Document(page_content='- Local authorities\\n- The District Court\\n\\n# Local authorities\\n\\nYou can report a noise nuisance to the Environment Section of your local authority, who can take actions to prevent or limit noise. Read more detail about the role of the local authorities in noise complaints.\\n\\n# District Court\\n\\nIf you are still concerned about excessive noise, you can make a formal complaint to the District Court. This should be the last step you take to resolving the issue. This is outlined in regulations made under the Act.\\n---\\nYou can get a complaint form in your local district court office and will have to pay a fee to process the complaint.\\n\\nOther organisations for noise complaints\\n\\nDepending on the source of the noise, you may complain elsewhere. Other places where you can lodge a complaint include:\\n\\n- An Garda Síochánna\\n- The Environmental Protection Agency (EPA)\\n- Residential Tenancies Board (RTB)\\n- Transport Infrastructure Ireland (TII)', metadata={'source': 'stiched_docs.txt'}),\n",
       " Document(page_content='- An Garda Síochánna\\n- The Environmental Protection Agency (EPA)\\n- Residential Tenancies Board (RTB)\\n- Transport Infrastructure Ireland (TII)\\n\\nYou can read the gov.ie Guide to Noise Regulations on the steps you can take if you are experiencing a nuisance caused by noise.\\n\\nHow to make a noise complaint\\n\\nIf you plan to complain about excessive noise, try to keep a detailed list of:\\n\\n- The times when the noise occurred\\n- How long the noise lasted\\n- The levels of noise involved (if possible)\\n\\nStep 1: Try to resolve the issue yourself\\n\\nYou should first contact the person or business causing the noise, explain that it is a nuisance and try to solve the issue together.\\n\\nStep 2: Contact your local authority or the EPA', metadata={'source': 'stiched_docs.txt'}),\n",
       " Document(page_content='You should first contact the person or business causing the noise, explain that it is a nuisance and try to solve the issue together.\\n\\nStep 2: Contact your local authority or the EPA\\n\\nIf this doesn’t work, you can contact your local authority or the EPA who may be able to advise you on how to deal with the noise complaint. The local authority or the EPA are not likely to get involved in disputes between neighbours. But if it is coming from an industrial or commercial source, the EPA or the local authority may serve a notice to those causing the noise.\\n\\nStep 3: Apply to the District Court\\n\\nIf this does not work, you can make a noise complaint to the District Court, following the steps outlined below. There is a small fee attached.\\n\\nHow to apply to the District Court with a noise complaint', metadata={'source': 'stiched_docs.txt'}),\n",
       " Document(page_content='How to apply to the District Court with a noise complaint\\n\\n1. Get an appointment for a hearing: Ask the local District Court Clerk about an appointment for a hearing. You will need to refer exactly to the legislation under which you are making the complaint:\\n1. Section 108 of the Environmental Protection Agency Act 1992\\n2. The Environmental Protection Agency Act (Noise) Regulations 1994\\n2. Inform the other party: At least 7 days before the date of your hearing, you must inform the person or business you are complaining about that you have made a complaint to the District Court about them.\\n3. Fill in the form: The District Court will give you a form for making the complaint, which you must fill out in full.\\n---\\nAttend the hearing date: You must then attend court at your appointment time to present your complaint.\\n\\nOutcome of District Court noise complaints\\n\\nIf the person is making noise during trade or business, they may have a defence if they can show that:', metadata={'source': 'stiched_docs.txt'}),\n",
       " Document(page_content='Outcome of District Court noise complaints\\n\\nIf the person is making noise during trade or business, they may have a defence if they can show that:\\n\\n- They took all reasonable care to prevent the noise\\n- The noise is in line with a licence issued under the Act\\n\\nIf you win the case, the Court can order those responsible for the noise to take measures to prevent or limit the noise. These orders must be obeyed.\\n\\nWhat is environmental noise?\\n\\nEnvironmental noise means unwanted or harmful outdoor sound created by human activities. This can come from a variety of sources and includes noise from:\\n\\n- Transport\\n- Road traffic\\n- Rail traffic\\n- Air traffic\\n- Industrial sites\\n\\nYou can experience environmental noise anywhere, for example in or around:\\n\\n- Built-up areas\\n- Public parks or other quiet areas within built-up areas\\n- In quiet areas in open country\\n- Schools\\n- Hospitals\\n- Other noise-sensitive buildings and areas\\n\\nWhat is not considered environmental noise?', metadata={'source': 'stiched_docs.txt'}),\n",
       " Document(page_content='What is not considered environmental noise?\\n\\nIn Ireland, environmental noise does not apply to noise:\\n\\n- From domestic activities\\n- Created by neighbors\\n- At workplaces\\n- Inside transport vehicles\\n- Due to military activities in military areas\\n- Caused by the person exposed to the noise\\n\\nThis is outlined in the European Communities (Environmental Noise) Regulations 2018.\\n\\nWhat are the impacts of environmental noise?\\n\\nIf you are exposed to environmental noise long-term, it can have negative effects on your health. It can:\\n\\n- Impact your sleep\\n- Contribute to heart disease\\n- Impact your mental health and wellbeing\\n- Cause annoyance and interfere with your daily activities\\n- Cause cognitive impairment (damage to your ability to think)\\n- Cause hearing problems including tinnitus\\n---\\nThe EPA have more information on the potential impacts of long-term exposure to environmental noise.\\n\\nNoise from fireworks', metadata={'source': 'stiched_docs.txt'}),\n",
       " Document(page_content='Noise from fireworks\\n\\nIf there are fireworks being set off where you live, you can report it to your local Garda station, or you can call the Garda confidential line on 1800 666 111. If your pet is distressed by fireworks, dogstrust.ie have firework advice and resources available.\\n\\nNoise from homes\\n\\nDomestic noise is noise from a domestic setting, like a home. Depending on the cause of the noise, you will complain in a different way. This is outlined below. If the noise is coming from a person’s home, the Gardaí can ask them to lower noise but they can’t enter the property with the sole intention of asking them to lower the noise. If the noise continues, you can complain to the District Court (see above). There is useful information in the leaflet on neighbour disputes (pdf) published by FLAC, the Free Legal Advice Centres.\\n\\nNoise from rented properties', metadata={'source': 'stiched_docs.txt'}),\n",
       " Document(page_content='If there is noise coming from a rented home, you should approach the tenant first and ask them to lower the noise. If this doesn’t work, you can complain to the landlord. This may be a:• Private landlord • Local authority • Housing association People who are renting from private landlords or housing associations have certain obligations. These include not engaging in anti-social behaviour, which includes persistent noise that affects others around them. You can complain to the Residential Tenancies Board (RTB) if a private landlord or housing association doesn’t enforce these obligations. If the tenant is renting from a local authority housing, they must avoid causing any nuisance such as noise to other properties around you. If they do make excessive and persistent noise, they are breaking the tenancy agreement and the local authority can take steps to make sure they follow the terms of the agreement. You can read the legislation on noise from rented properties.\\n\\nNoise from alarms', metadata={'source': 'stiched_docs.txt'}),\n",
       " Document(page_content='Noise from alarms\\n\\nAll alarm installers must have licences from the Private Security Authority. To get a licence, they have to follow certain standards. This includes a limit on the length of time an external alarm can sound for – the maximum under the European standard is 15 minutes. The local authority, the EPA or an individual may take action under the EPA Act to deal with breaches of these standards. You can read about car alarms in the Noise from transport section below.\\n---\\nNoise from dogs\\n\\nIf your neighbour’s dog is barking, you should go to your neighbour directly to try to resolve the issue. If this doesn’t work, you can complain to the District Court. You can do this by completing a Section 108 Form, which you can get from your local authority or District Court. Before you do this, you must let the dog owner know that you are making a complaint.\\n\\nTo deal with noise from a dog, the Court can:', metadata={'source': 'stiched_docs.txt'}),\n",
       " Document(page_content='To deal with noise from a dog, the Court can:\\n\\n- Order the dog owner (or occupier of the house where the dog is kept) to exercise control over the dog to reduce the barking\\n- Limit the number of dogs that can be kept on a property\\n- Order that the dog warden takes the dog to the dog shelter\\n- Make the owner pay a fine for the noise and cost of taking and keeping the in the shelter.\\n\\nYou can find out more about owning a dog on our page Dog licences and ownership.\\n\\nNoise from bird scarers (such as crow bangers)\\n\\nBird scarers are used by farmers to keep birds away from their crops. They can work by making a loud noise to scare away any birds or pests in the area. Some bird scarers, such as crow bangers, can be extremely loud. There are no laws in place to deal with bird scarers specifically. If you want to complain about the noise from a crow banger, follow the steps in the How to make a noise complaint section above.\\n\\nNoise from entertainment venues and events', metadata={'source': 'stiched_docs.txt'}),\n",
       " Document(page_content='Noise from entertainment venues and events\\n\\nContact your local authority if you want to complain about noise coming from:\\n\\n- Bars\\n- Restaurants\\n- Nightclubs\\n- Concerts\\n- Other outdoor events\\n\\nYour local authority may serve a notice to the organizers of the entertainment to prevent or limit noise. Then if the organizers do not stop or limit the noise, the local authority may prosecute them. If you want to complain about noise from outside a premise or event, for example, anti-social behavior, you should contact An Garda Síochána. The Gardaí have the power to arrest a person for breach of the peace in a public place.\\n\\nNoise from transport\\n\\nNoise from motor vehicles', metadata={'source': 'stiched_docs.txt'}),\n",
       " Document(page_content='Noise from transport\\n\\nNoise from motor vehicles\\n\\nAll vehicles with an internal combustion engine must be fitted with a silencer or a similar device to reduce the noise. This does not apply to vehicles taking part in a trial, competition, or race carried out on a closed road. Read the laws on vehicle noise.\\n---\\nThis does not apply to electric vehicles, as they don’t have an internal combustion engine; they have an electric engine.\\n\\nYou can’t drive a vehicle that causes excessive noise in a public place. The National Car Test (NCT) assess how effectively the silencer reduces exhaust-related noise.\\n\\nBeeping a car horn\\n\\nYou should only beep or use a horn to warn other road users of oncoming danger, or to make them aware of your presence for safety reasons.\\n\\nYou shouldn’t use a horn in a built-up area between 11pm and 7am unless there is a traffic emergency.\\n\\nContact the Gardaí if you wish to complain about breaches of these rules.\\n\\nCar alarms', metadata={'source': 'stiched_docs.txt'}),\n",
       " Document(page_content='You shouldn’t use a horn in a built-up area between 11pm and 7am unless there is a traffic emergency.\\n\\nContact the Gardaí if you wish to complain about breaches of these rules.\\n\\nCar alarms\\n\\nNo standards have been set in Ireland for the operation of car alarm noise. The EU standards for car alarms set minimum and maximum time limits for the sounding of the alarm (25 seconds minimum and 30 seconds maximum).\\n\\nNoise from aircrafts\\n\\nIf you want to make a complaint about aeroplane noise, you can make it directly to the airport in question. The Aircraft Noise Competent Authority is responsible for managing noise regulation at Dublin airport.\\n\\nYou can read more about making a noise complaint to Dublin Airport.\\n\\nThe Irish Aviation Authority (IAA) is responsible for controlling noise from aircraft.\\n\\nCheck the law on noise from aircrafts in Dublin airport.\\n\\nCommercial or industrial noise', metadata={'source': 'stiched_docs.txt'}),\n",
       " Document(page_content='The Irish Aviation Authority (IAA) is responsible for controlling noise from aircraft.\\n\\nCheck the law on noise from aircrafts in Dublin airport.\\n\\nCommercial or industrial noise\\n\\nIf there is excessive noise coming from commercial or industrial works, you may be able to make a complaint to the Environmental Protection Agency (EPA) or your local authority.\\n\\nSites licenced by the EPA\\n\\nYou can search for a licenced premise on the EPA website. If the commercial or industrial work site is licenced with the EPA, they can take steps to make sure the site is following the terms of a notice to control noise. The EPA can then recover the cost of doing this.\\n\\nThe EPA can tell the person or body to take specific action to prevent or limit noise. If those causing the noise don’t comply, they can be prosecuted.\\n\\nThe EPA usually deals with waste disposal activities and activities that require Integrated Pollution Prevention and Control (IPPC) licences.\\n\\nSites not licenced with the EPA', metadata={'source': 'stiched_docs.txt'}),\n",
       " Document(page_content='The EPA usually deals with waste disposal activities and activities that require Integrated Pollution Prevention and Control (IPPC) licences.\\n\\nSites not licenced with the EPA\\n\\nIf the premise is not licenced with the EPA, you can report it to your local authority.\\n\\nLocal authorities have similar powers to the EPA and can also serve notices. This notice requires the person in charge to follow instructions set out in the notice to prevent or limit noise.\\n---\\nThe local authority can prosecute you if you fail to comply with the notice. Or, it may take steps itself to ensure compliance and then recover the costs from the person in charge.\\n\\nNoise from within your workplace', metadata={'source': 'stiched_docs.txt'}),\n",
       " Document(page_content='Noise from within your workplace\\n\\nIf you want to make a complaint about noise at work, you should contact your HR department first. If this doesn’t work, you can contact the Health and Safety Authority (HSA). The HAS deals with queries regarding noise in the workplace and it has FAQs on this issue. You can read more on our page on health and safety at work.\\n\\nPlanning permission and noise complaints\\n\\nWhen granting planning permission for a building, the local authority can include conditions to prevent or reduce noise. These conditions can relate to the construction or building phase and/or to the use of the building when it is complete. You can appeal to An Bord Pleanála against these requirements (or the absence of them).\\n\\nFurther information and contacts\\n\\nContact your local authority for more information on noise complaints. Contact your local Garda station.\\n\\nEnvironmental Protection Agency', metadata={'source': 'stiched_docs.txt'}),\n",
       " Document(page_content='Further information and contacts\\n\\nContact your local authority for more information on noise complaints. Contact your local Garda station.\\n\\nEnvironmental Protection Agency\\n\\n|PO Box 3000|Johnstown Castle Estate|Wexford|Ireland|\\n|---|---|---|---|\\n|Tel: (053) 916 0600|Locall: 0818 33 55 99|Fax: (053) 916 0699| |\\n|Homepage: http://www.epa.ie|Email: info@epa.ie| | |\\n\\nTransport Infrastructure Ireland\\n\\n|Parkgate Business Centre|Parkgate Street|Dublin 8|Ireland|\\n|---|---|---|---|\\n|Tel: +353 1 646 3600|Homepage: http://www.tii.ie|Email: info@tii.ie| |\\n---\\nResidential Tenancies Board\\n\\nPO Box 47\\n\\nClonakilty\\n\\nCo. Cork\\n\\nIreland\\n\\nOpening Hours: 9am to 5pm\\n\\nTel: 0818 303 037 or 01 702 8100\\n\\nFax: 0818 303 039\\n\\nHomepage: http://www.rtb.ie/\\n\\nPage edited: 2 February 2024\\n\\nManage cookie preferences# Further education and training (FET) courses\\n\\n# What is further education and training (FET)?', metadata={'source': 'stiched_docs.txt'}),\n",
       " Document(page_content='Homepage: http://www.rtb.ie/\\n\\nPage edited: 2 February 2024\\n\\nManage cookie preferences# Further education and training (FET) courses\\n\\n# What is further education and training (FET)?\\n\\nFurther education and training (FET) covers any education and training after second-level education (post-primary school) and up to third-level education (higher level education). FET is for adults and young people aged over 16. You can still participate in a FET course, if you left school and didn’t complete your second-level education. FET can help you get new skills if you are:\\n\\n- Leaving school\\n- Unemployed\\n- Looking for your first job\\n- Changing direction in your career\\n\\nYou can choose from many FET courses and programmes. FET includes:\\n\\n- Apprenticeships\\n- Traineeships\\n- Post Leaving Cert (PLC) courses\\n- Community education\\n- Adult literacy and numeracy skills\\n\\n# Finding the right FET course\\n\\nThere is a wide range of further education and training (FET) courses available. You can choose from:', metadata={'source': 'stiched_docs.txt'}),\n",
       " Document(page_content='# Finding the right FET course\\n\\nThere is a wide range of further education and training (FET) courses available. You can choose from:\\n\\n- Full-time courses, or\\n- Part-time courses.\\n\\nQualifax has a database of all further education courses. It also has the information you need to make an informed choice about your education, training, and career path. How to qualify and what training allowances are available vary from course to course, so check the details of each course carefully. You can also get more information on FET courses, how to access them, and the financial supports available on The Right Course portal on Gov.ie.\\n\\n# Help to find the right course\\n\\nIf you need help finding a FET course, you can contact the Adult Educational Guidance and Information Service.\\n---\\nThis service is available to:\\n\\n- Everyone over 18\\n- People over 16 who are not in full-time education.', metadata={'source': 'stiched_docs.txt'}),\n",
       " Document(page_content='- Everyone over 18\\n- People over 16 who are not in full-time education.\\n\\nThe service prioritises people who are unemployed. Read more about returning to education. Further education and training qualifications\\n\\nThe National Framework of Qualifications (NFQ) allows the different levels of qualifications to be compared. There are 10 Levels on the NFQ. FET courses are provided at Levels 1 to 6 on the NFQ.\\n\\nProgression to third-level education\\n\\nIf you have a qualification at NFQ Level 5 and Level 6, you can progress to third-level education with the Higher Education Links Scheme. The tertiary education programme is a new pathway to third level education. You start in a further education institution and progress to a higher education institution to complete a degree. You can also access third-level education as a mature student.\\n\\nEducation and training supports if you are unemployed\\n\\nIf you are unemployed, you can access further education and training through a number of programmes:', metadata={'source': 'stiched_docs.txt'}),\n",
       " Document(page_content='Education and training supports if you are unemployed\\n\\nIf you are unemployed, you can access further education and training through a number of programmes:\\n\\n- Vocational Training Opportunities Scheme (VTOS)\\n\\nIf you are unemployed or getting certain social welfare payments, the Vocational Training Opportunities Scheme (VTOS) can help you to return to full-time education. VTOS courses are particularly suitable if you have been unemployed or out of school for some time.\\n\\n- Back to Education Training Programme\\n\\nThe Back to Education Training Programme can help you to return to part-time or full-time education and keep your social welfare payment or get a Back to Education Allowance.\\n\\n- Work Placement Experience Programme (WPEP)', metadata={'source': 'stiched_docs.txt'}),\n",
       " Document(page_content='- Work Placement Experience Programme (WPEP)\\n\\nThe Work Placement Experience Programme (WPEP) can provide you with work experience if you have never had a job, or if you have lost your job. You must be getting a qualifying social welfare payment for a minimum time. If you qualify, you will get a weekly WPEP allowance.\\n---\\n# Training Support Grant (TSG)\\n\\nThe Training Support Grant (TSG) is available to people on certain qualifying payments or schemes, including the Work Placement Experience Programme. It funds quick access to short-term training, including courses up to and including QQI level 6. You may get a TSG if your Employment Personal Adviser finds you can’t start a job without:\\n\\n- Getting an immediate skill\\n- Getting or renewing a certification or permit.\\n\\nYou must apply for a TSG through your Employment Personal Adviser or Job Coach.\\n\\n# Fastrack to IT', metadata={'source': 'stiched_docs.txt'}),\n",
       " Document(page_content=\"- Getting an immediate skill\\n- Getting or renewing a certification or permit.\\n\\nYou must apply for a TSG through your Employment Personal Adviser or Job Coach.\\n\\n# Fastrack to IT\\n\\nFIT (Fastrack to IT) provides information technology training for people who are getting certain social welfare payments or signing for credits. Courses include office administration, web design and programming, broadband communications and PC maintenance.\\n\\n# The Traineeship Programme\\n\\nThe Traineeship Programme provides training and work experience. The duration of the programme depends on your area of training. You may keep your social welfare payment or get a FET training allowance. To get a FET training allowance, you must be entitled to a qualifying social welfare payment, such as Jobseeker's Allowance or Jobseeker's Benefit.\\n\\n# Specific Skills Training\", metadata={'source': 'stiched_docs.txt'}),\n",
       " Document(page_content=\"# Specific Skills Training\\n\\nSpecific Skills Training lets you learn new work-related skills. The courses on offer vary from centre to centre and from year to year, with different levels of certification. The courses are run during the day and in the evenings. Priority on daytime courses is given to unemployed people. A day course is free to all unemployed people, even if you are not getting a social welfare payment. An evening course is not free unless you are getting a social welfare payment. You may be able to keep your social welfare payment or get a FET training allowance if you are doing a day course. To get a FET training allowance, you must be entitled to a qualifying social welfare payment, such as Jobseeker's Allowance or Jobseeker's Benefit.\\n\\n# Local Training Initiative Programme (LTI)\", metadata={'source': 'stiched_docs.txt'}),\n",
       " Document(page_content='# Local Training Initiative Programme (LTI)\\n\\nLocal Training Initiative Programme (LTI) is for people who are unemployed and finding it difficult to get a job. It is for people aged 18-35. Courses are full-time and lead to major awards on the NFQ at levels 3, 4 and 5.\\n---\\n# Other education and training supports\\n\\n# For younger people\\n\\nYouthreach\\n\\nIf you are aged between 15 and 20 and have left school without any formal qualifications, the Youthreach programme will provide you with opportunities for:\\n\\n- Basic education\\n- Personal development\\n- Vocational training\\n- Work experience\\n\\nCommunity Training Centres (CTCs)\\n\\nCommunity Training Centres (CTCs) are independent community-based organisations, which provide training and education for early school leavers, primarily aged between 16 and 21. Courses are generally for one year, full-time, and lead to major awards on the NFQ at levels 3 and 4.\\n\\nOnline learning', metadata={'source': 'stiched_docs.txt'}),\n",
       " Document(page_content='Online learning\\n\\neCollege is the national online learning service for further education and training. Learn with NALA can help you improve your reading, writing, maths, and digital skills up to Level 3.\\n\\n# Accessing higher education\\n\\nTertiary education programme\\n\\nThe tertiary education programme lets you start in a further education setting and progress to a higher education institution to complete a degree.\\n\\nSpringboard+\\n\\nSpringboard+ provides free higher education places for unemployed people. You can keep your social welfare payment for as long are you are entitled to it while you are participating on a Springboard+ course. If you are working, only level 6 courses are free.\\n\\n# If you are working\\n\\nSkills for Work', metadata={'source': 'stiched_docs.txt'}),\n",
       " Document(page_content='# If you are working\\n\\nSkills for Work\\n\\nSkills for Work can help you to improve the basic skills you need in the workplace such as literacy, numeracy, and IT skills. The courses are 35 hours long and free of charge. It is delivered by the Educational and Training Boards for people in part-time or full-time employment.\\n---\\nSkillnet Ireland\\n\\nSkillnet Ireland supports groups of private sector companies to set up training networks to deliver a range of accredited or industry-recognised programmes. Skillnet Ireland offers some training to unemployed people. If you are unemployed, you will not pay for this training.\\n\\nFinancial supports\\n\\nDepending on your situation, you may be able to access financial supports, such as:\\n\\n- The Back to Education Programme\\n- The Back to Education Allowance\\n- Training allowances.\\n\\nYou can find out more about financial supports available to you from your local Citizens Information Centre.\\n\\nPage edited: 11 April 2024\\n\\nManage cookie preferences', metadata={'source': 'stiched_docs.txt'}),\n",
       " Document(page_content='You can find out more about financial supports available to you from your local Citizens Information Centre.\\n\\nPage edited: 11 April 2024\\n\\nManage cookie preferences\\n\\nManage preferences# Introduction\\n\\nThe National Archives of Ireland is where researchers and members of the public can view original documents and records from departments of state, the courts, public bodies as well as many private collections. The documents held in the Archives help to provide an understanding of the social, economic and political history of Ireland. The National Archives was formed in 1988, when the Public Record Office (founded 1867, formerly at the Four Courts) and the State Paper Office (founded 1702, formerly at Dublin Castle) were merged to create a single institution.\\n\\n# What does the National Archives do?\\n\\nThe functions of the National Archives include the following:', metadata={'source': 'stiched_docs.txt'}),\n",
       " Document(page_content='# What does the National Archives do?\\n\\nThe functions of the National Archives include the following:\\n\\n- The preservation, restoration, arrangement and description of archives\\n- The preparation of guides, lists, indexes and other finding aids to archives\\n- Making archives available for public inspection\\n- Making and providing copies of archives\\n- The provision of educational services relating to archives\\n\\nMany of the archives held by the Public Record Office of Ireland before 1922 were destroyed by fire and explosion at the beginning of the Irish Civil War in June 1922. Because of this, the archives that are now held by the National Archives date mainly from the 19th and 20th centuries, although some date back as far as the 13th century.\\n\\n# Using the National Archives', metadata={'source': 'stiched_docs.txt'}),\n",
       " Document(page_content=\"# Using the National Archives\\n\\nYou can search for records online or in person. The National Archives holds millions of records and you should read about how it organises its catalogue on the National Archives website before visiting. You can also read research guides, which contain information on specific research topics.\\n\\n# Online catalogue\\n\\nYou can search for a record using the National Archives’ online catalogue, but not all records are listed online so you may need to use the hard copy catalogue which is available in person at the reading room.\\n\\n# In person\\n\\nDocuments cannot be removed from the National Archives building, but you can inspect them in the Reading Room. The Reading Room is open to all members of the public, although you will need to apply for a Reader’s Ticket when you arrive.\\n---\\nCurrently it is necessary to book a time in advance. Reader's tickets are free and last for three years. You can apply for a Reader’s Ticket on your first visit. You should bring:\", metadata={'source': 'stiched_docs.txt'}),\n",
       " Document(page_content='- A photo ID, such as a driver’s license or passport\\n- Proof of your address, such as a utility bill\\n\\nIn order to look at the archives you will have to sign the ‘Rules for Readers’ which are written to provide a comfortable working environment for readers and to keep the archives safe.\\n\\nIf you are interested in an archive that is held in off-site storage you should order it in advance. You will need to know the correct reference code and place the order at least 3 days before your visit. You cannot advance order archives that are held onsite.\\n\\nGetting copies of archives\\n\\nCopies of the archives are available at the National Archives. These are generally in the form of photocopies, copies from microforms (small-scale images of the original document) or copies from digital images.', metadata={'source': 'stiched_docs.txt'}),\n",
       " Document(page_content='You are not able to make copies of the archives yourself, although if you ask for permission from the Archivist on Duty you may be able to take digital photographs for your personal use. You can order copies in the Reading Room by e-mail or through the post. You can collect them or have them posted to your address. The National Archive provides a summary of the fees for copies on their website.\\n\\nOther archive collections\\n\\nThe archives of the Department of Defence and the Defence Forces are not housed at the National Archives in Bishop Street but at the Military Archives in Cathal Brugha Barracks, Rathmines, Dublin 6. Likewise, the archives of the Geological Survey of Ireland are housed at the Geological Survey Building, Beggars Bush, Dublin 4. To view these archives, you are advised to write or phone in advance.\\n\\nResearching your family tree', metadata={'source': 'stiched_docs.txt'}),\n",
       " Document(page_content=\"Researching your family tree\\n\\nMany records relevant to Irish family history can be found within the National Archives. The archive has digitized many relevant records which are freely available on their genealogy website. They also provide a free genealogy advisory service which is currently available through email. If you wish to hire a professional researcher to look into your genealogy for you, you can contact an accredited genealogist.\\n\\nRecords relating to births, marriages and deaths are not held in the National Archives. For these, you must contact the General Register Office – see ‘Further Information and Contacts' below.\\n\\nFurther Information and Contacts\\n\\nFor details of documents held in the National Archives, contact:\\n\\nThe National Archives of Ireland\\n\\nBishop Street Dublin 8 Ireland Tel: +353 (0)1 4072300\\n---\\n# Locall: 1890 252424\\n\\nFax: +353 (0)1 4072333\\n\\nHomepage: http://www.nationalarchives.ie\\n\\nEmail: mail@nationalarchives.ie\", metadata={'source': 'stiched_docs.txt'}),\n",
       " Document(page_content='Bishop Street Dublin 8 Ireland Tel: +353 (0)1 4072300\\n---\\n# Locall: 1890 252424\\n\\nFax: +353 (0)1 4072333\\n\\nHomepage: http://www.nationalarchives.ie\\n\\nEmail: mail@nationalarchives.ie\\n\\nFor enquiries relating to registers of births, deaths and marriages, adoption and stillbirths, contact the General Register Office. If you want to order a copy of a testamentary record from the National Archives but do not know the details of the deceased person that are required, you may also make an application to this address:\\n\\nGeneral Register Office\\n\\nGovernment Offices\\n\\nConvent Road\\n\\nRoscommon\\n\\nF42 VX53\\n\\nIreland\\n\\nTel: +353 90 663 2900\\n\\nFax: +353 90 663 2999\\n\\nHomepage: http://www.gov.ie/gro\\n\\nEmail: gro@welfare.ie\\n\\nFor archives of the Department of Defence and the Defence Forces, which are held in the Military Archives, contact:\\n\\nMilitary Archives\\n\\nCathal Brugha Barracks\\n\\nRathmines\\n\\nDublin 6\\n\\nD06 RX00\\n\\nIreland\\n\\nTel: +353 (0)1 804 6457\\n\\nHomepage: https://www.militaryarchives.ie/home', metadata={'source': 'stiched_docs.txt'}),\n",
       " Document(page_content='Military Archives\\n\\nCathal Brugha Barracks\\n\\nRathmines\\n\\nDublin 6\\n\\nD06 RX00\\n\\nIreland\\n\\nTel: +353 (0)1 804 6457\\n\\nHomepage: https://www.militaryarchives.ie/home\\n\\nEmail: militaryarchives@defenceforces.ie\\n\\nGeological Survey of Ireland\\n\\nBeggars Bush\\n\\nHaddington Road\\n\\nDublin 4\\n\\nD04 K7X4\\n\\nIreland\\n\\nTel: +353 1 678 2000\\n\\nHomepage: https://www.gsi.ie/en-ie/more-on-us/facilities/Pages/Archives.aspx\\n\\nEmail: gsisales@gsi.ie\\n\\nPage edited: 21 September 2021\\n\\nManage cookie preferences\\n\\nManage preferences# Being selected for redundancy\\n\\nYour employer should use a fair and objective way of selecting people to make redundant. This means that it should be based on some objective (unbiased and factual) reasons why you were selected and other employees were not selected.\\n\\n# Methods of selection', metadata={'source': 'stiched_docs.txt'}),\n",
       " Document(page_content='# Methods of selection\\n\\nIf a method for deciding redundancies has been agreed with a trade union, your employer should follow it. It is up to your employer which selection criteria they use, as long as they can show that they are fair and reasonable. The most commonly used selection methods are:\\n\\n- The ‘last in, first out’ method, where the newest member of staff is the first one to go\\n- Asking if employees want to volunteer for redundancy, known as voluntary redundancy\\n- A points system, where all employees doing the same job are ranked by objective criteria (could include attendance record, standard of work, skills and qualifications).\\n\\n# Unfair selection\\n\\nYour employer cannot select you for redundancy unless they can prove they followed a fair process. Your employer cannot select you for redundancy for personal or non-job-related reasons. They must be able to show the objective reasons (unbiased and factual reasons) why you were selected and other employees were not selected.', metadata={'source': 'stiched_docs.txt'}),\n",
       " Document(page_content='# Grounds that are always unfair\\n\\nUnder the unfair dismissals legislation, it is unfair if you are selected for redundancy based on certain specific grounds, including:\\n\\n- Trade union activity\\n- Pregnancy\\n- Religious\\n- Political opinions\\n\\nYour employer cannot make you redundant using any of the 9 grounds for discrimination, including your age, gender, race, or sexual orientation.\\n---\\nIf you are unfairly selected for redundancy\\n\\nYour employer should use fair and reasonable selection criteria in choosing people to make redundant – see above.\\n\\nYou are unfairly selected\\n\\nIf you feel that your employer has selected you unfairly, you are entitled to bring a claim for unfair dismissal.\\n\\nYour employer does not follow their process\\n\\nExamples of these situations might include:\\n\\n- Where the custom and practice in your workplace has been last in, first out and your selection did not follow this procedure\\n- Where your contract of employment sets out criteria for selection which were not followed', metadata={'source': 'stiched_docs.txt'}),\n",
       " Document(page_content=\"More information\\n\\nYou can get more information about your employment rights from the WRC. You can contact their Information and Customer service – see below.\\n\\nThe laws on redundancy are set out in the Redundancy Payments Acts 1967–2014\\n\\nWorkplace Relations Commission - Information and Customer Service\\n\\nO'Brien Road Carlow R93 E920 Opening Hours: Mon. to Fri. 9.30am to 1pm, 2pm to 5pm Tel: (059) 917 8990 Locall: 0818 80 80 90 Homepage: https://www.workplacerelations.ie/en/\\n\\nPage edited: 2 June 2022\\n\\nManage cookie preferences\\n\\nManage preferences# Law enforcement\", metadata={'source': 'stiched_docs.txt'}),\n",
       " Document(page_content='Garda Síochána - national police force\\nThe Garda Síochána is pe national police force. It has responsibility for carrying out all policing duties in pe State.\\nGarda Síochána Ombudsman Commission\\nThe Garda Síochána Ombudsman Commission or Garda Ombudsman is an independent agency pat deals wip complaints from pe public about members of pe Gardaí.\\nReporting a crime\\nIf you are a victim of a crime you should contact pe Gardai. Find out how to report a crime.\\nCrowd control at public events in Ireland\\nThere are laws in place designed to give pe Gardai (Irish police force) clear and comprehensive legal powers to deal wip crowd control.\\nAnti-social behaviour by adults\\nThe Criminal Justice Act 2006 has provisions dealing wip anti-social behaviour by adults. These provisions allow gardaí to deal wip anti-social behaviour prough a civil process using behaviour warnings and orders or ASBOs.\\nAdult Cautioning Scheme', metadata={'source': 'stiched_docs.txt'}),\n",
       " Document(page_content='Adult Cautioning Scheme\\nThe Adult Cautioning Scheme can be an alternative to prosecution for certain offences where a caution is considered to be in pe public interest.\\nRestriction on movement orders\\nThe courts can impose restrictions on pe movements of pose convicted of some minor offences as an alternative to imposing a custodial sentence. Find out when pey are used here.\\nDirector of Public Prosecutions\\nThe Director of Public Prosecutions is responsible for pe prosecution of people charged wip committing crimes in pe State.', metadata={'source': 'stiched_docs.txt'})]"
      ]
     },
     "execution_count": 59,
     "metadata": {},
     "output_type": "execute_result"
    }
   ],
   "source": [
    "documents"
   ]
  },
  {
   "cell_type": "code",
   "execution_count": 74,
   "metadata": {},
   "outputs": [
    {
     "name": "stdout",
     "output_type": "stream",
     "text": [
      "2024-05-24 16:00:27,198 pid:2627 MainThread giskard.rag  INFO     Finding topics in the knowledge base.\n"
     ]
    },
    {
     "name": "stderr",
     "output_type": "stream",
     "text": [
      "/root/miniconda3/envs/cit/lib/python3.10/site-packages/umap/umap_.py:2437: UserWarning: n_neighbors is larger than the dataset size; truncating to X.shape[0] - 1\n",
      "  warn(\n"
     ]
    },
    {
     "name": "stdout",
     "output_type": "stream",
     "text": [
      "2024-05-24 16:00:32,374 pid:2627 MainThread giskard.rag  INFO     Found 4 topics in the knowledge base.\n"
     ]
    },
    {
     "name": "stderr",
     "output_type": "stream",
     "text": [
      "Generating questions: 100%|██████████| 60/60 [08:36<00:00,  8.60s/it]\n"
     ]
    }
   ],
   "source": [
    "df = pd.DataFrame([d.page_content for d in documents], columns=[\"text\"])\n",
    "load_dotenv(dotenv_path=env_file)\n",
    "OPENAI_API_KEY = os.getenv(\"OPENAI_KEY\")\n",
    "os.environ[\"OPENAI_API_KEY\"] = OPENAI_API_KEY\n",
    "MODEL = \"gpt-3.5-turbo\"\n",
    "knowledge_base = KnowledgeBase(df)\n",
    "\n",
    "testset = generate_testset(\n",
    "    knowledge_base,\n",
    "    num_questions=60,\n",
    "    agent_description=\"Tests for Citizens Information\",\n",
    ")"
   ]
  },
  {
   "cell_type": "code",
   "execution_count": 77,
   "metadata": {},
   "outputs": [
    {
     "name": "stdout",
     "output_type": "stream",
     "text": [
      "Question 1: Who is prioritized by the National Framework of Qualifications (NFQ) service?\n",
      "Reference answer: The service prioritises people who are unemployed.\n",
      "Reference context:\n",
      "Document 20: - Everyone over 18\n",
      "- People over 16 who are not in full-time education.\n",
      "\n",
      "The service prioritises people who are unemployed. Read more about returning to education. Further education and training qualifications\n",
      "\n",
      "The National Framework of Qualifications (NFQ) allows the different levels of qualifications to be compared. There are 10 Levels on the NFQ. FET courses are provided at Levels 1 to 6 on the NFQ.\n",
      "\n",
      "Progression to third-level education\n",
      "\n",
      "If you have a qualification at NFQ Level 5 and Level 6, you can progress to third-level education with the Higher Education Links Scheme. The tertiary education programme is a new pathway to third level education. You start in a further education institution and progress to a higher education institution to complete a degree. You can also access third-level education as a mature student.\n",
      "\n",
      "Education and training supports if you are unemployed\n",
      "\n",
      "If you are unemployed, you can access further education and training through a number of programmes:\n",
      "******************\n",
      "\n",
      "Question 2: What is the purpose of the Training Support Grant (TSG)?\n",
      "Reference answer: The Training Support Grant (TSG) is available to people on certain qualifying payments or schemes, including the Work Placement Experience Programme. It funds quick access to short-term training, including courses up to and including QQI level 6. It is intended for people who can’t start a job without getting an immediate skill or renewing a certification or permit.\n",
      "Reference context:\n",
      "Document 23: - Getting an immediate skill\n",
      "- Getting or renewing a certification or permit.\n",
      "\n",
      "You must apply for a TSG through your Employment Personal Adviser or Job Coach.\n",
      "\n",
      "# Fastrack to IT\n",
      "\n",
      "FIT (Fastrack to IT) provides information technology training for people who are getting certain social welfare payments or signing for credits. Courses include office administration, web design and programming, broadband communications and PC maintenance.\n",
      "\n",
      "# The Traineeship Programme\n",
      "\n",
      "The Traineeship Programme provides training and work experience. The duration of the programme depends on your area of training. You may keep your social welfare payment or get a FET training allowance. To get a FET training allowance, you must be entitled to a qualifying social welfare payment, such as Jobseeker's Allowance or Jobseeker's Benefit.\n",
      "\n",
      "# Specific Skills Training\n",
      "\n",
      "Document 22: - Work Placement Experience Programme (WPEP)\n",
      "\n",
      "The Work Placement Experience Programme (WPEP) can provide you with work experience if you have never had a job, or if you have lost your job. You must be getting a qualifying social welfare payment for a minimum time. If you qualify, you will get a weekly WPEP allowance.\n",
      "---\n",
      "# Training Support Grant (TSG)\n",
      "\n",
      "The Training Support Grant (TSG) is available to people on certain qualifying payments or schemes, including the Work Placement Experience Programme. It funds quick access to short-term training, including courses up to and including QQI level 6. You may get a TSG if your Employment Personal Adviser finds you can’t start a job without:\n",
      "\n",
      "- Getting an immediate skill\n",
      "- Getting or renewing a certification or permit.\n",
      "\n",
      "You must apply for a TSG through your Employment Personal Adviser or Job Coach.\n",
      "\n",
      "# Fastrack to IT\n",
      "******************\n",
      "\n",
      "Question 3: What are some of the negative effects of long-term exposure to environmental noise?\n",
      "Reference answer: Long-term exposure to environmental noise can impact your sleep, contribute to heart disease, impact your mental health and wellbeing, cause annoyance and interfere with your daily activities, cause cognitive impairment (damage to your ability to think), and cause hearing problems including tinnitus.\n",
      "Reference context:\n",
      "Document 6: What is not considered environmental noise?\n",
      "\n",
      "In Ireland, environmental noise does not apply to noise:\n",
      "\n",
      "- From domestic activities\n",
      "- Created by neighbors\n",
      "- At workplaces\n",
      "- Inside transport vehicles\n",
      "- Due to military activities in military areas\n",
      "- Caused by the person exposed to the noise\n",
      "\n",
      "This is outlined in the European Communities (Environmental Noise) Regulations 2018.\n",
      "\n",
      "What are the impacts of environmental noise?\n",
      "\n",
      "If you are exposed to environmental noise long-term, it can have negative effects on your health. It can:\n",
      "\n",
      "- Impact your sleep\n",
      "- Contribute to heart disease\n",
      "- Impact your mental health and wellbeing\n",
      "- Cause annoyance and interfere with your daily activities\n",
      "- Cause cognitive impairment (damage to your ability to think)\n",
      "- Cause hearing problems including tinnitus\n",
      "---\n",
      "The EPA have more information on the potential impacts of long-term exposure to environmental noise.\n",
      "\n",
      "Noise from fireworks\n",
      "******************\n",
      "\n"
     ]
    }
   ],
   "source": [
    "test_set_df = testset.to_pandas()\n",
    "\n",
    "for index, row in enumerate(test_set_df.head(3).iterrows()):\n",
    "    print(f\"Question {index + 1}: {row[1]['question']}\")\n",
    "    print(f\"Reference answer: {row[1]['reference_answer']}\")\n",
    "    print(\"Reference context:\")\n",
    "    print(row[1]['reference_context'])\n",
    "    print(\"******************\", end=\"\\n\\n\")"
   ]
  },
  {
   "cell_type": "code",
   "execution_count": 78,
   "metadata": {},
   "outputs": [],
   "source": [
    "test_set_df.to_pickle(\"test_set_df.pkl\")"
   ]
  },
  {
   "cell_type": "code",
   "execution_count": 71,
   "metadata": {},
   "outputs": [],
   "source": []
  },
  {
   "cell_type": "code",
   "execution_count": 72,
   "metadata": {},
   "outputs": [
    {
     "data": {
      "text/plain": [
       "<giskard.rag.knowledge_base.KnowledgeBase at 0x7efc80aa4c70>"
      ]
     },
     "execution_count": 72,
     "metadata": {},
     "output_type": "execute_result"
    }
   ],
   "source": [
    "knowledge_base"
   ]
  },
  {
   "cell_type": "code",
   "execution_count": 73,
   "metadata": {},
   "outputs": [
    {
     "name": "stdout",
     "output_type": "stream",
     "text": [
      "2024-05-24 15:59:23,436 pid:2627 MainThread giskard.rag  INFO     Finding topics in the knowledge base.\n"
     ]
    },
    {
     "name": "stderr",
     "output_type": "stream",
     "text": [
      "/root/miniconda3/envs/cit/lib/python3.10/site-packages/umap/umap_.py:2437: UserWarning: n_neighbors is larger than the dataset size; truncating to X.shape[0] - 1\n",
      "  warn(\n",
      "Exception ignored on calling ctypes callback function: <function ExecutionEngine._raw_object_cache_notify at 0x7efc83db04c0>\n",
      "Traceback (most recent call last):\n",
      "  File \"/root/miniconda3/envs/cit/lib/python3.10/site-packages/llvmlite/binding/executionengine.py\", line 178, in _raw_object_cache_notify\n",
      "    def _raw_object_cache_notify(self, data):\n",
      "KeyboardInterrupt: \n"
     ]
    },
    {
     "name": "stdout",
     "output_type": "stream",
     "text": [
      "2024-05-24 15:59:30,865 pid:2627 MainThread giskard.rag  INFO     Found 3 topics in the knowledge base.\n"
     ]
    },
    {
     "name": "stderr",
     "output_type": "stream",
     "text": [
      "Generating questions:   2%|▏         | 1/60 [00:10<10:13, 10.40s/it]\n"
     ]
    },
    {
     "ename": "KeyboardInterrupt",
     "evalue": "",
     "output_type": "error",
     "traceback": [
      "\u001b[0;31m---------------------------------------------------------------------------\u001b[0m",
      "\u001b[0;31mKeyboardInterrupt\u001b[0m                         Traceback (most recent call last)",
      "Cell \u001b[0;32mIn[73], line 3\u001b[0m\n\u001b[1;32m      1\u001b[0m \u001b[38;5;28;01mfrom\u001b[39;00m \u001b[38;5;21;01mgiskard\u001b[39;00m\u001b[38;5;21;01m.\u001b[39;00m\u001b[38;5;21;01mrag\u001b[39;00m \u001b[38;5;28;01mimport\u001b[39;00m generate_testset\n\u001b[0;32m----> 3\u001b[0m testset \u001b[38;5;241m=\u001b[39m \u001b[43mgenerate_testset\u001b[49m\u001b[43m(\u001b[49m\n\u001b[1;32m      4\u001b[0m \u001b[43m    \u001b[49m\u001b[43mknowledge_base\u001b[49m\u001b[43m,\u001b[49m\n\u001b[1;32m      5\u001b[0m \u001b[43m    \u001b[49m\u001b[43mnum_questions\u001b[49m\u001b[38;5;241;43m=\u001b[39;49m\u001b[38;5;241;43m60\u001b[39;49m\u001b[43m,\u001b[49m\n\u001b[1;32m      6\u001b[0m \u001b[43m    \u001b[49m\u001b[43magent_description\u001b[49m\u001b[38;5;241;43m=\u001b[39;49m\u001b[38;5;124;43m\"\u001b[39;49m\u001b[38;5;124;43mA chatbot answering questions about the Machine Learning School Website\u001b[39;49m\u001b[38;5;124;43m\"\u001b[39;49m\u001b[43m,\u001b[49m\n\u001b[1;32m      7\u001b[0m \u001b[43m)\u001b[49m\n",
      "File \u001b[0;32m~/miniconda3/envs/cit/lib/python3.10/site-packages/giskard/rag/testset_generation.py:85\u001b[0m, in \u001b[0;36mgenerate_testset\u001b[0;34m(knowledge_base, num_questions, question_generators, language, agent_description)\u001b[0m\n\u001b[1;32m     68\u001b[0m generator_num_questions \u001b[38;5;241m=\u001b[39m [\n\u001b[1;32m     69\u001b[0m     num_questions \u001b[38;5;241m/\u001b[39m\u001b[38;5;241m/\u001b[39m \u001b[38;5;28mlen\u001b[39m(question_generators) \u001b[38;5;241m+\u001b[39m (\u001b[38;5;241m1\u001b[39m \u001b[38;5;28;01mif\u001b[39;00m i \u001b[38;5;241m<\u001b[39m num_questions \u001b[38;5;241m%\u001b[39m \u001b[38;5;28mlen\u001b[39m(question_generators) \u001b[38;5;28;01melse\u001b[39;00m \u001b[38;5;241m0\u001b[39m)\n\u001b[1;32m     70\u001b[0m     \u001b[38;5;28;01mfor\u001b[39;00m i \u001b[38;5;129;01min\u001b[39;00m \u001b[38;5;28mrange\u001b[39m(\u001b[38;5;28mlen\u001b[39m(question_generators))\n\u001b[1;32m     71\u001b[0m ]\n\u001b[1;32m     73\u001b[0m main_generator \u001b[38;5;241m=\u001b[39m itertools\u001b[38;5;241m.\u001b[39mchain\u001b[38;5;241m.\u001b[39mfrom_iterable(\n\u001b[1;32m     74\u001b[0m     [\n\u001b[1;32m     75\u001b[0m         generator\u001b[38;5;241m.\u001b[39mgenerate_questions(\n\u001b[0;32m   (...)\u001b[0m\n\u001b[1;32m     82\u001b[0m     ]\n\u001b[1;32m     83\u001b[0m )\n\u001b[0;32m---> 85\u001b[0m questions \u001b[38;5;241m=\u001b[39m \u001b[38;5;28;43mlist\u001b[39;49m\u001b[43m(\u001b[49m\u001b[43mmaybe_tqdm\u001b[49m\u001b[43m(\u001b[49m\u001b[43mmain_generator\u001b[49m\u001b[43m,\u001b[49m\u001b[43m \u001b[49m\u001b[43mtotal\u001b[49m\u001b[38;5;241;43m=\u001b[39;49m\u001b[43mnum_questions\u001b[49m\u001b[43m,\u001b[49m\u001b[43m \u001b[49m\u001b[43mdesc\u001b[49m\u001b[38;5;241;43m=\u001b[39;49m\u001b[38;5;124;43m\"\u001b[39;49m\u001b[38;5;124;43mGenerating questions\u001b[39;49m\u001b[38;5;124;43m\"\u001b[39;49m\u001b[43m)\u001b[49m\u001b[43m)\u001b[49m\n\u001b[1;32m     87\u001b[0m \u001b[38;5;28;01mfor\u001b[39;00m question \u001b[38;5;129;01min\u001b[39;00m questions:\n\u001b[1;32m     88\u001b[0m     topic_id \u001b[38;5;241m=\u001b[39m knowledge_base[question\u001b[38;5;241m.\u001b[39mmetadata[\u001b[38;5;124m\"\u001b[39m\u001b[38;5;124mseed_document_id\u001b[39m\u001b[38;5;124m\"\u001b[39m]]\u001b[38;5;241m.\u001b[39mtopic_id\n",
      "File \u001b[0;32m~/miniconda3/envs/cit/lib/python3.10/site-packages/tqdm/std.py:1181\u001b[0m, in \u001b[0;36mtqdm.__iter__\u001b[0;34m(self)\u001b[0m\n\u001b[1;32m   1178\u001b[0m time \u001b[38;5;241m=\u001b[39m \u001b[38;5;28mself\u001b[39m\u001b[38;5;241m.\u001b[39m_time\n\u001b[1;32m   1180\u001b[0m \u001b[38;5;28;01mtry\u001b[39;00m:\n\u001b[0;32m-> 1181\u001b[0m     \u001b[38;5;28;01mfor\u001b[39;00m obj \u001b[38;5;129;01min\u001b[39;00m iterable:\n\u001b[1;32m   1182\u001b[0m         \u001b[38;5;28;01myield\u001b[39;00m obj\n\u001b[1;32m   1183\u001b[0m         \u001b[38;5;66;03m# Update and possibly print the progressbar.\u001b[39;00m\n\u001b[1;32m   1184\u001b[0m         \u001b[38;5;66;03m# Note: does not call self.update(1) for speed optimisation.\u001b[39;00m\n",
      "File \u001b[0;32m~/miniconda3/envs/cit/lib/python3.10/site-packages/giskard/rag/question_generators/base.py:57\u001b[0m, in \u001b[0;36mGenerateFromSingleQuestionMixin.generate_questions\u001b[0;34m(self, knowledge_base, num_questions, *args, **kwargs)\u001b[0m\n\u001b[1;32m     55\u001b[0m \u001b[38;5;28;01mfor\u001b[39;00m _ \u001b[38;5;129;01min\u001b[39;00m \u001b[38;5;28mrange\u001b[39m(num_questions):\n\u001b[1;32m     56\u001b[0m     \u001b[38;5;28;01mtry\u001b[39;00m:\n\u001b[0;32m---> 57\u001b[0m         \u001b[38;5;28;01myield\u001b[39;00m \u001b[38;5;28;43mself\u001b[39;49m\u001b[38;5;241;43m.\u001b[39;49m\u001b[43mgenerate_single_question\u001b[49m\u001b[43m(\u001b[49m\u001b[43mknowledge_base\u001b[49m\u001b[43m,\u001b[49m\u001b[43m \u001b[49m\u001b[38;5;241;43m*\u001b[39;49m\u001b[43margs\u001b[49m\u001b[43m,\u001b[49m\u001b[43m \u001b[49m\u001b[38;5;241;43m*\u001b[39;49m\u001b[38;5;241;43m*\u001b[39;49m\u001b[43mkwargs\u001b[49m\u001b[43m)\u001b[49m\n\u001b[1;32m     58\u001b[0m     \u001b[38;5;28;01mexcept\u001b[39;00m \u001b[38;5;167;01mException\u001b[39;00m \u001b[38;5;28;01mas\u001b[39;00m e:  \u001b[38;5;66;03m# @TODO: specify exceptions\u001b[39;00m\n\u001b[1;32m     59\u001b[0m         logger\u001b[38;5;241m.\u001b[39merror(\u001b[38;5;124mf\u001b[39m\u001b[38;5;124m\"\u001b[39m\u001b[38;5;124mEncountered error in question generation: \u001b[39m\u001b[38;5;132;01m{\u001b[39;00me\u001b[38;5;132;01m}\u001b[39;00m\u001b[38;5;124m. Skipping.\u001b[39m\u001b[38;5;124m\"\u001b[39m)\n",
      "File \u001b[0;32m~/miniconda3/envs/cit/lib/python3.10/site-packages/giskard/rag/question_generators/simple_questions.py:96\u001b[0m, in \u001b[0;36mSimpleQuestionsGenerator.generate_single_question\u001b[0;34m(self, knowledge_base, agent_description, language)\u001b[0m\n\u001b[1;32m     89\u001b[0m reference_context \u001b[38;5;241m=\u001b[39m \u001b[38;5;124m\"\u001b[39m\u001b[38;5;130;01m\\n\u001b[39;00m\u001b[38;5;130;01m\\n\u001b[39;00m\u001b[38;5;124m\"\u001b[39m\u001b[38;5;241m.\u001b[39mjoin([\u001b[38;5;124mf\u001b[39m\u001b[38;5;124m\"\u001b[39m\u001b[38;5;124mDocument \u001b[39m\u001b[38;5;132;01m{\u001b[39;00mdoc\u001b[38;5;241m.\u001b[39mid\u001b[38;5;132;01m}\u001b[39;00m\u001b[38;5;124m: \u001b[39m\u001b[38;5;132;01m{\u001b[39;00mdoc\u001b[38;5;241m.\u001b[39mcontent\u001b[38;5;132;01m}\u001b[39;00m\u001b[38;5;124m\"\u001b[39m \u001b[38;5;28;01mfor\u001b[39;00m doc \u001b[38;5;129;01min\u001b[39;00m context_documents])\n\u001b[1;32m     91\u001b[0m messages \u001b[38;5;241m=\u001b[39m \u001b[38;5;28mself\u001b[39m\u001b[38;5;241m.\u001b[39m_prompt\u001b[38;5;241m.\u001b[39mto_messages(\n\u001b[1;32m     92\u001b[0m     system_prompt_input\u001b[38;5;241m=\u001b[39m{\u001b[38;5;124m\"\u001b[39m\u001b[38;5;124magent_description\u001b[39m\u001b[38;5;124m\"\u001b[39m: agent_description, \u001b[38;5;124m\"\u001b[39m\u001b[38;5;124mlanguage\u001b[39m\u001b[38;5;124m\"\u001b[39m: language},\n\u001b[1;32m     93\u001b[0m     user_input\u001b[38;5;241m=\u001b[39mcontext_str,\n\u001b[1;32m     94\u001b[0m )\n\u001b[0;32m---> 96\u001b[0m generated_qa \u001b[38;5;241m=\u001b[39m \u001b[38;5;28;43mself\u001b[39;49m\u001b[38;5;241;43m.\u001b[39;49m\u001b[43m_llm_complete\u001b[49m\u001b[43m(\u001b[49m\u001b[43mmessages\u001b[49m\u001b[38;5;241;43m=\u001b[39;49m\u001b[43mmessages\u001b[49m\u001b[43m)\u001b[49m\n\u001b[1;32m     97\u001b[0m question_metadata \u001b[38;5;241m=\u001b[39m {\u001b[38;5;124m\"\u001b[39m\u001b[38;5;124mquestion_type\u001b[39m\u001b[38;5;124m\"\u001b[39m: \u001b[38;5;28mself\u001b[39m\u001b[38;5;241m.\u001b[39m_question_type, \u001b[38;5;124m\"\u001b[39m\u001b[38;5;124mseed_document_id\u001b[39m\u001b[38;5;124m\"\u001b[39m: seed_document\u001b[38;5;241m.\u001b[39mid}\n\u001b[1;32m     99\u001b[0m question \u001b[38;5;241m=\u001b[39m QuestionSample(\n\u001b[1;32m    100\u001b[0m     \u001b[38;5;28mid\u001b[39m\u001b[38;5;241m=\u001b[39m\u001b[38;5;28mstr\u001b[39m(uuid\u001b[38;5;241m.\u001b[39muuid4()),\n\u001b[1;32m    101\u001b[0m     question\u001b[38;5;241m=\u001b[39mgenerated_qa[\u001b[38;5;124m\"\u001b[39m\u001b[38;5;124mquestion\u001b[39m\u001b[38;5;124m\"\u001b[39m],\n\u001b[0;32m   (...)\u001b[0m\n\u001b[1;32m    105\u001b[0m     metadata\u001b[38;5;241m=\u001b[39mquestion_metadata,\n\u001b[1;32m    106\u001b[0m )\n",
      "File \u001b[0;32m~/miniconda3/envs/cit/lib/python3.10/site-packages/giskard/rag/question_generators/base.py:42\u001b[0m, in \u001b[0;36m_LLMBasedQuestionGenerator._llm_complete\u001b[0;34m(self, messages)\u001b[0m\n\u001b[1;32m     41\u001b[0m \u001b[38;5;28;01mdef\u001b[39;00m \u001b[38;5;21m_llm_complete\u001b[39m(\u001b[38;5;28mself\u001b[39m, messages: Sequence[ChatMessage]) \u001b[38;5;241m-\u001b[39m\u001b[38;5;241m>\u001b[39m \u001b[38;5;28mdict\u001b[39m:\n\u001b[0;32m---> 42\u001b[0m     out \u001b[38;5;241m=\u001b[39m \u001b[38;5;28;43mself\u001b[39;49m\u001b[38;5;241;43m.\u001b[39;49m\u001b[43m_llm_client\u001b[49m\u001b[38;5;241;43m.\u001b[39;49m\u001b[43mcomplete\u001b[49m\u001b[43m(\u001b[49m\n\u001b[1;32m     43\u001b[0m \u001b[43m        \u001b[49m\u001b[43mmessages\u001b[49m\u001b[38;5;241;43m=\u001b[39;49m\u001b[43mmessages\u001b[49m\u001b[43m,\u001b[49m\n\u001b[1;32m     44\u001b[0m \u001b[43m        \u001b[49m\u001b[43mtemperature\u001b[49m\u001b[38;5;241;43m=\u001b[39;49m\u001b[38;5;241;43m0.5\u001b[39;49m\u001b[43m,\u001b[49m\n\u001b[1;32m     45\u001b[0m \u001b[43m        \u001b[49m\u001b[43mcaller_id\u001b[49m\u001b[38;5;241;43m=\u001b[39;49m\u001b[38;5;28;43mself\u001b[39;49m\u001b[38;5;241;43m.\u001b[39;49m\u001b[38;5;18;43m__class__\u001b[39;49m\u001b[38;5;241;43m.\u001b[39;49m\u001b[38;5;18;43m__name__\u001b[39;49m\u001b[43m,\u001b[49m\n\u001b[1;32m     46\u001b[0m \u001b[43m    \u001b[49m\u001b[43m)\u001b[49m\n\u001b[1;32m     48\u001b[0m     \u001b[38;5;28;01mreturn\u001b[39;00m parse_json_output(out\u001b[38;5;241m.\u001b[39mcontent, \u001b[38;5;28mself\u001b[39m\u001b[38;5;241m.\u001b[39m_llm_client, caller_id\u001b[38;5;241m=\u001b[39m\u001b[38;5;28mself\u001b[39m\u001b[38;5;241m.\u001b[39m\u001b[38;5;18m__class__\u001b[39m\u001b[38;5;241m.\u001b[39m\u001b[38;5;18m__name__\u001b[39m)\n",
      "File \u001b[0;32m~/miniconda3/envs/cit/lib/python3.10/site-packages/giskard/llm/client/openai.py:63\u001b[0m, in \u001b[0;36mOpenAIClient.complete\u001b[0;34m(self, messages, temperature, max_tokens, caller_id, seed, format)\u001b[0m\n\u001b[1;32m     60\u001b[0m         extra_params[\u001b[38;5;124m\"\u001b[39m\u001b[38;5;124mresponse_format\u001b[39m\u001b[38;5;124m\"\u001b[39m] \u001b[38;5;241m=\u001b[39m {\u001b[38;5;124m\"\u001b[39m\u001b[38;5;124mtype\u001b[39m\u001b[38;5;124m\"\u001b[39m: \u001b[38;5;124m\"\u001b[39m\u001b[38;5;124mjson_object\u001b[39m\u001b[38;5;124m\"\u001b[39m}\n\u001b[1;32m     62\u001b[0m \u001b[38;5;28;01mtry\u001b[39;00m:\n\u001b[0;32m---> 63\u001b[0m     completion \u001b[38;5;241m=\u001b[39m \u001b[38;5;28;43mself\u001b[39;49m\u001b[38;5;241;43m.\u001b[39;49m\u001b[43m_client\u001b[49m\u001b[38;5;241;43m.\u001b[39;49m\u001b[43mchat\u001b[49m\u001b[38;5;241;43m.\u001b[39;49m\u001b[43mcompletions\u001b[49m\u001b[38;5;241;43m.\u001b[39;49m\u001b[43mcreate\u001b[49m\u001b[43m(\u001b[49m\n\u001b[1;32m     64\u001b[0m \u001b[43m        \u001b[49m\u001b[43mmodel\u001b[49m\u001b[38;5;241;43m=\u001b[39;49m\u001b[38;5;28;43mself\u001b[39;49m\u001b[38;5;241;43m.\u001b[39;49m\u001b[43mmodel\u001b[49m\u001b[43m,\u001b[49m\n\u001b[1;32m     65\u001b[0m \u001b[43m        \u001b[49m\u001b[43mmessages\u001b[49m\u001b[38;5;241;43m=\u001b[39;49m\u001b[43m[\u001b[49m\u001b[43masdict\u001b[49m\u001b[43m(\u001b[49m\u001b[43mm\u001b[49m\u001b[43m)\u001b[49m\u001b[43m \u001b[49m\u001b[38;5;28;43;01mfor\u001b[39;49;00m\u001b[43m \u001b[49m\u001b[43mm\u001b[49m\u001b[43m \u001b[49m\u001b[38;5;129;43;01min\u001b[39;49;00m\u001b[43m \u001b[49m\u001b[43mmessages\u001b[49m\u001b[43m]\u001b[49m\u001b[43m,\u001b[49m\n\u001b[1;32m     66\u001b[0m \u001b[43m        \u001b[49m\u001b[43mtemperature\u001b[49m\u001b[38;5;241;43m=\u001b[39;49m\u001b[43mtemperature\u001b[49m\u001b[43m,\u001b[49m\n\u001b[1;32m     67\u001b[0m \u001b[43m        \u001b[49m\u001b[43mmax_tokens\u001b[49m\u001b[38;5;241;43m=\u001b[39;49m\u001b[43mmax_tokens\u001b[49m\u001b[43m,\u001b[49m\n\u001b[1;32m     68\u001b[0m \u001b[43m        \u001b[49m\u001b[38;5;241;43m*\u001b[39;49m\u001b[38;5;241;43m*\u001b[39;49m\u001b[43mextra_params\u001b[49m\u001b[43m,\u001b[49m\n\u001b[1;32m     69\u001b[0m \u001b[43m    \u001b[49m\u001b[43m)\u001b[49m\n\u001b[1;32m     70\u001b[0m \u001b[38;5;28;01mexcept\u001b[39;00m openai\u001b[38;5;241m.\u001b[39mAuthenticationError \u001b[38;5;28;01mas\u001b[39;00m err:\n\u001b[1;32m     71\u001b[0m     \u001b[38;5;28;01mraise\u001b[39;00m LLMConfigurationError(AUTH_ERROR_MESSAGE) \u001b[38;5;28;01mfrom\u001b[39;00m \u001b[38;5;21;01merr\u001b[39;00m\n",
      "File \u001b[0;32m~/miniconda3/envs/cit/lib/python3.10/site-packages/openai/_utils/_utils.py:277\u001b[0m, in \u001b[0;36mrequired_args.<locals>.inner.<locals>.wrapper\u001b[0;34m(*args, **kwargs)\u001b[0m\n\u001b[1;32m    275\u001b[0m             msg \u001b[38;5;241m=\u001b[39m \u001b[38;5;124mf\u001b[39m\u001b[38;5;124m\"\u001b[39m\u001b[38;5;124mMissing required argument: \u001b[39m\u001b[38;5;132;01m{\u001b[39;00mquote(missing[\u001b[38;5;241m0\u001b[39m])\u001b[38;5;132;01m}\u001b[39;00m\u001b[38;5;124m\"\u001b[39m\n\u001b[1;32m    276\u001b[0m     \u001b[38;5;28;01mraise\u001b[39;00m \u001b[38;5;167;01mTypeError\u001b[39;00m(msg)\n\u001b[0;32m--> 277\u001b[0m \u001b[38;5;28;01mreturn\u001b[39;00m \u001b[43mfunc\u001b[49m\u001b[43m(\u001b[49m\u001b[38;5;241;43m*\u001b[39;49m\u001b[43margs\u001b[49m\u001b[43m,\u001b[49m\u001b[43m \u001b[49m\u001b[38;5;241;43m*\u001b[39;49m\u001b[38;5;241;43m*\u001b[39;49m\u001b[43mkwargs\u001b[49m\u001b[43m)\u001b[49m\n",
      "File \u001b[0;32m~/miniconda3/envs/cit/lib/python3.10/site-packages/openai/resources/chat/completions.py:590\u001b[0m, in \u001b[0;36mCompletions.create\u001b[0;34m(self, messages, model, frequency_penalty, function_call, functions, logit_bias, logprobs, max_tokens, n, presence_penalty, response_format, seed, stop, stream, stream_options, temperature, tool_choice, tools, top_logprobs, top_p, user, extra_headers, extra_query, extra_body, timeout)\u001b[0m\n\u001b[1;32m    558\u001b[0m \u001b[38;5;129m@required_args\u001b[39m([\u001b[38;5;124m\"\u001b[39m\u001b[38;5;124mmessages\u001b[39m\u001b[38;5;124m\"\u001b[39m, \u001b[38;5;124m\"\u001b[39m\u001b[38;5;124mmodel\u001b[39m\u001b[38;5;124m\"\u001b[39m], [\u001b[38;5;124m\"\u001b[39m\u001b[38;5;124mmessages\u001b[39m\u001b[38;5;124m\"\u001b[39m, \u001b[38;5;124m\"\u001b[39m\u001b[38;5;124mmodel\u001b[39m\u001b[38;5;124m\"\u001b[39m, \u001b[38;5;124m\"\u001b[39m\u001b[38;5;124mstream\u001b[39m\u001b[38;5;124m\"\u001b[39m])\n\u001b[1;32m    559\u001b[0m \u001b[38;5;28;01mdef\u001b[39;00m \u001b[38;5;21mcreate\u001b[39m(\n\u001b[1;32m    560\u001b[0m     \u001b[38;5;28mself\u001b[39m,\n\u001b[0;32m   (...)\u001b[0m\n\u001b[1;32m    588\u001b[0m     timeout: \u001b[38;5;28mfloat\u001b[39m \u001b[38;5;241m|\u001b[39m httpx\u001b[38;5;241m.\u001b[39mTimeout \u001b[38;5;241m|\u001b[39m \u001b[38;5;28;01mNone\u001b[39;00m \u001b[38;5;241m|\u001b[39m NotGiven \u001b[38;5;241m=\u001b[39m NOT_GIVEN,\n\u001b[1;32m    589\u001b[0m ) \u001b[38;5;241m-\u001b[39m\u001b[38;5;241m>\u001b[39m ChatCompletion \u001b[38;5;241m|\u001b[39m Stream[ChatCompletionChunk]:\n\u001b[0;32m--> 590\u001b[0m     \u001b[38;5;28;01mreturn\u001b[39;00m \u001b[38;5;28;43mself\u001b[39;49m\u001b[38;5;241;43m.\u001b[39;49m\u001b[43m_post\u001b[49m\u001b[43m(\u001b[49m\n\u001b[1;32m    591\u001b[0m \u001b[43m        \u001b[49m\u001b[38;5;124;43m\"\u001b[39;49m\u001b[38;5;124;43m/chat/completions\u001b[39;49m\u001b[38;5;124;43m\"\u001b[39;49m\u001b[43m,\u001b[49m\n\u001b[1;32m    592\u001b[0m \u001b[43m        \u001b[49m\u001b[43mbody\u001b[49m\u001b[38;5;241;43m=\u001b[39;49m\u001b[43mmaybe_transform\u001b[49m\u001b[43m(\u001b[49m\n\u001b[1;32m    593\u001b[0m \u001b[43m            \u001b[49m\u001b[43m{\u001b[49m\n\u001b[1;32m    594\u001b[0m \u001b[43m                \u001b[49m\u001b[38;5;124;43m\"\u001b[39;49m\u001b[38;5;124;43mmessages\u001b[39;49m\u001b[38;5;124;43m\"\u001b[39;49m\u001b[43m:\u001b[49m\u001b[43m \u001b[49m\u001b[43mmessages\u001b[49m\u001b[43m,\u001b[49m\n\u001b[1;32m    595\u001b[0m \u001b[43m                \u001b[49m\u001b[38;5;124;43m\"\u001b[39;49m\u001b[38;5;124;43mmodel\u001b[39;49m\u001b[38;5;124;43m\"\u001b[39;49m\u001b[43m:\u001b[49m\u001b[43m \u001b[49m\u001b[43mmodel\u001b[49m\u001b[43m,\u001b[49m\n\u001b[1;32m    596\u001b[0m \u001b[43m                \u001b[49m\u001b[38;5;124;43m\"\u001b[39;49m\u001b[38;5;124;43mfrequency_penalty\u001b[39;49m\u001b[38;5;124;43m\"\u001b[39;49m\u001b[43m:\u001b[49m\u001b[43m \u001b[49m\u001b[43mfrequency_penalty\u001b[49m\u001b[43m,\u001b[49m\n\u001b[1;32m    597\u001b[0m \u001b[43m                \u001b[49m\u001b[38;5;124;43m\"\u001b[39;49m\u001b[38;5;124;43mfunction_call\u001b[39;49m\u001b[38;5;124;43m\"\u001b[39;49m\u001b[43m:\u001b[49m\u001b[43m \u001b[49m\u001b[43mfunction_call\u001b[49m\u001b[43m,\u001b[49m\n\u001b[1;32m    598\u001b[0m \u001b[43m                \u001b[49m\u001b[38;5;124;43m\"\u001b[39;49m\u001b[38;5;124;43mfunctions\u001b[39;49m\u001b[38;5;124;43m\"\u001b[39;49m\u001b[43m:\u001b[49m\u001b[43m \u001b[49m\u001b[43mfunctions\u001b[49m\u001b[43m,\u001b[49m\n\u001b[1;32m    599\u001b[0m \u001b[43m                \u001b[49m\u001b[38;5;124;43m\"\u001b[39;49m\u001b[38;5;124;43mlogit_bias\u001b[39;49m\u001b[38;5;124;43m\"\u001b[39;49m\u001b[43m:\u001b[49m\u001b[43m \u001b[49m\u001b[43mlogit_bias\u001b[49m\u001b[43m,\u001b[49m\n\u001b[1;32m    600\u001b[0m \u001b[43m                \u001b[49m\u001b[38;5;124;43m\"\u001b[39;49m\u001b[38;5;124;43mlogprobs\u001b[39;49m\u001b[38;5;124;43m\"\u001b[39;49m\u001b[43m:\u001b[49m\u001b[43m \u001b[49m\u001b[43mlogprobs\u001b[49m\u001b[43m,\u001b[49m\n\u001b[1;32m    601\u001b[0m \u001b[43m                \u001b[49m\u001b[38;5;124;43m\"\u001b[39;49m\u001b[38;5;124;43mmax_tokens\u001b[39;49m\u001b[38;5;124;43m\"\u001b[39;49m\u001b[43m:\u001b[49m\u001b[43m \u001b[49m\u001b[43mmax_tokens\u001b[49m\u001b[43m,\u001b[49m\n\u001b[1;32m    602\u001b[0m \u001b[43m                \u001b[49m\u001b[38;5;124;43m\"\u001b[39;49m\u001b[38;5;124;43mn\u001b[39;49m\u001b[38;5;124;43m\"\u001b[39;49m\u001b[43m:\u001b[49m\u001b[43m \u001b[49m\u001b[43mn\u001b[49m\u001b[43m,\u001b[49m\n\u001b[1;32m    603\u001b[0m \u001b[43m                \u001b[49m\u001b[38;5;124;43m\"\u001b[39;49m\u001b[38;5;124;43mpresence_penalty\u001b[39;49m\u001b[38;5;124;43m\"\u001b[39;49m\u001b[43m:\u001b[49m\u001b[43m \u001b[49m\u001b[43mpresence_penalty\u001b[49m\u001b[43m,\u001b[49m\n\u001b[1;32m    604\u001b[0m \u001b[43m                \u001b[49m\u001b[38;5;124;43m\"\u001b[39;49m\u001b[38;5;124;43mresponse_format\u001b[39;49m\u001b[38;5;124;43m\"\u001b[39;49m\u001b[43m:\u001b[49m\u001b[43m \u001b[49m\u001b[43mresponse_format\u001b[49m\u001b[43m,\u001b[49m\n\u001b[1;32m    605\u001b[0m \u001b[43m                \u001b[49m\u001b[38;5;124;43m\"\u001b[39;49m\u001b[38;5;124;43mseed\u001b[39;49m\u001b[38;5;124;43m\"\u001b[39;49m\u001b[43m:\u001b[49m\u001b[43m \u001b[49m\u001b[43mseed\u001b[49m\u001b[43m,\u001b[49m\n\u001b[1;32m    606\u001b[0m \u001b[43m                \u001b[49m\u001b[38;5;124;43m\"\u001b[39;49m\u001b[38;5;124;43mstop\u001b[39;49m\u001b[38;5;124;43m\"\u001b[39;49m\u001b[43m:\u001b[49m\u001b[43m \u001b[49m\u001b[43mstop\u001b[49m\u001b[43m,\u001b[49m\n\u001b[1;32m    607\u001b[0m \u001b[43m                \u001b[49m\u001b[38;5;124;43m\"\u001b[39;49m\u001b[38;5;124;43mstream\u001b[39;49m\u001b[38;5;124;43m\"\u001b[39;49m\u001b[43m:\u001b[49m\u001b[43m \u001b[49m\u001b[43mstream\u001b[49m\u001b[43m,\u001b[49m\n\u001b[1;32m    608\u001b[0m \u001b[43m                \u001b[49m\u001b[38;5;124;43m\"\u001b[39;49m\u001b[38;5;124;43mstream_options\u001b[39;49m\u001b[38;5;124;43m\"\u001b[39;49m\u001b[43m:\u001b[49m\u001b[43m \u001b[49m\u001b[43mstream_options\u001b[49m\u001b[43m,\u001b[49m\n\u001b[1;32m    609\u001b[0m \u001b[43m                \u001b[49m\u001b[38;5;124;43m\"\u001b[39;49m\u001b[38;5;124;43mtemperature\u001b[39;49m\u001b[38;5;124;43m\"\u001b[39;49m\u001b[43m:\u001b[49m\u001b[43m \u001b[49m\u001b[43mtemperature\u001b[49m\u001b[43m,\u001b[49m\n\u001b[1;32m    610\u001b[0m \u001b[43m                \u001b[49m\u001b[38;5;124;43m\"\u001b[39;49m\u001b[38;5;124;43mtool_choice\u001b[39;49m\u001b[38;5;124;43m\"\u001b[39;49m\u001b[43m:\u001b[49m\u001b[43m \u001b[49m\u001b[43mtool_choice\u001b[49m\u001b[43m,\u001b[49m\n\u001b[1;32m    611\u001b[0m \u001b[43m                \u001b[49m\u001b[38;5;124;43m\"\u001b[39;49m\u001b[38;5;124;43mtools\u001b[39;49m\u001b[38;5;124;43m\"\u001b[39;49m\u001b[43m:\u001b[49m\u001b[43m \u001b[49m\u001b[43mtools\u001b[49m\u001b[43m,\u001b[49m\n\u001b[1;32m    612\u001b[0m \u001b[43m                \u001b[49m\u001b[38;5;124;43m\"\u001b[39;49m\u001b[38;5;124;43mtop_logprobs\u001b[39;49m\u001b[38;5;124;43m\"\u001b[39;49m\u001b[43m:\u001b[49m\u001b[43m \u001b[49m\u001b[43mtop_logprobs\u001b[49m\u001b[43m,\u001b[49m\n\u001b[1;32m    613\u001b[0m \u001b[43m                \u001b[49m\u001b[38;5;124;43m\"\u001b[39;49m\u001b[38;5;124;43mtop_p\u001b[39;49m\u001b[38;5;124;43m\"\u001b[39;49m\u001b[43m:\u001b[49m\u001b[43m \u001b[49m\u001b[43mtop_p\u001b[49m\u001b[43m,\u001b[49m\n\u001b[1;32m    614\u001b[0m \u001b[43m                \u001b[49m\u001b[38;5;124;43m\"\u001b[39;49m\u001b[38;5;124;43muser\u001b[39;49m\u001b[38;5;124;43m\"\u001b[39;49m\u001b[43m:\u001b[49m\u001b[43m \u001b[49m\u001b[43muser\u001b[49m\u001b[43m,\u001b[49m\n\u001b[1;32m    615\u001b[0m \u001b[43m            \u001b[49m\u001b[43m}\u001b[49m\u001b[43m,\u001b[49m\n\u001b[1;32m    616\u001b[0m \u001b[43m            \u001b[49m\u001b[43mcompletion_create_params\u001b[49m\u001b[38;5;241;43m.\u001b[39;49m\u001b[43mCompletionCreateParams\u001b[49m\u001b[43m,\u001b[49m\n\u001b[1;32m    617\u001b[0m \u001b[43m        \u001b[49m\u001b[43m)\u001b[49m\u001b[43m,\u001b[49m\n\u001b[1;32m    618\u001b[0m \u001b[43m        \u001b[49m\u001b[43moptions\u001b[49m\u001b[38;5;241;43m=\u001b[39;49m\u001b[43mmake_request_options\u001b[49m\u001b[43m(\u001b[49m\n\u001b[1;32m    619\u001b[0m \u001b[43m            \u001b[49m\u001b[43mextra_headers\u001b[49m\u001b[38;5;241;43m=\u001b[39;49m\u001b[43mextra_headers\u001b[49m\u001b[43m,\u001b[49m\u001b[43m \u001b[49m\u001b[43mextra_query\u001b[49m\u001b[38;5;241;43m=\u001b[39;49m\u001b[43mextra_query\u001b[49m\u001b[43m,\u001b[49m\u001b[43m \u001b[49m\u001b[43mextra_body\u001b[49m\u001b[38;5;241;43m=\u001b[39;49m\u001b[43mextra_body\u001b[49m\u001b[43m,\u001b[49m\u001b[43m \u001b[49m\u001b[43mtimeout\u001b[49m\u001b[38;5;241;43m=\u001b[39;49m\u001b[43mtimeout\u001b[49m\n\u001b[1;32m    620\u001b[0m \u001b[43m        \u001b[49m\u001b[43m)\u001b[49m\u001b[43m,\u001b[49m\n\u001b[1;32m    621\u001b[0m \u001b[43m        \u001b[49m\u001b[43mcast_to\u001b[49m\u001b[38;5;241;43m=\u001b[39;49m\u001b[43mChatCompletion\u001b[49m\u001b[43m,\u001b[49m\n\u001b[1;32m    622\u001b[0m \u001b[43m        \u001b[49m\u001b[43mstream\u001b[49m\u001b[38;5;241;43m=\u001b[39;49m\u001b[43mstream\u001b[49m\u001b[43m \u001b[49m\u001b[38;5;129;43;01mor\u001b[39;49;00m\u001b[43m \u001b[49m\u001b[38;5;28;43;01mFalse\u001b[39;49;00m\u001b[43m,\u001b[49m\n\u001b[1;32m    623\u001b[0m \u001b[43m        \u001b[49m\u001b[43mstream_cls\u001b[49m\u001b[38;5;241;43m=\u001b[39;49m\u001b[43mStream\u001b[49m\u001b[43m[\u001b[49m\u001b[43mChatCompletionChunk\u001b[49m\u001b[43m]\u001b[49m\u001b[43m,\u001b[49m\n\u001b[1;32m    624\u001b[0m \u001b[43m    \u001b[49m\u001b[43m)\u001b[49m\n",
      "File \u001b[0;32m~/miniconda3/envs/cit/lib/python3.10/site-packages/openai/_base_client.py:1240\u001b[0m, in \u001b[0;36mSyncAPIClient.post\u001b[0;34m(self, path, cast_to, body, options, files, stream, stream_cls)\u001b[0m\n\u001b[1;32m   1226\u001b[0m \u001b[38;5;28;01mdef\u001b[39;00m \u001b[38;5;21mpost\u001b[39m(\n\u001b[1;32m   1227\u001b[0m     \u001b[38;5;28mself\u001b[39m,\n\u001b[1;32m   1228\u001b[0m     path: \u001b[38;5;28mstr\u001b[39m,\n\u001b[0;32m   (...)\u001b[0m\n\u001b[1;32m   1235\u001b[0m     stream_cls: \u001b[38;5;28mtype\u001b[39m[_StreamT] \u001b[38;5;241m|\u001b[39m \u001b[38;5;28;01mNone\u001b[39;00m \u001b[38;5;241m=\u001b[39m \u001b[38;5;28;01mNone\u001b[39;00m,\n\u001b[1;32m   1236\u001b[0m ) \u001b[38;5;241m-\u001b[39m\u001b[38;5;241m>\u001b[39m ResponseT \u001b[38;5;241m|\u001b[39m _StreamT:\n\u001b[1;32m   1237\u001b[0m     opts \u001b[38;5;241m=\u001b[39m FinalRequestOptions\u001b[38;5;241m.\u001b[39mconstruct(\n\u001b[1;32m   1238\u001b[0m         method\u001b[38;5;241m=\u001b[39m\u001b[38;5;124m\"\u001b[39m\u001b[38;5;124mpost\u001b[39m\u001b[38;5;124m\"\u001b[39m, url\u001b[38;5;241m=\u001b[39mpath, json_data\u001b[38;5;241m=\u001b[39mbody, files\u001b[38;5;241m=\u001b[39mto_httpx_files(files), \u001b[38;5;241m*\u001b[39m\u001b[38;5;241m*\u001b[39moptions\n\u001b[1;32m   1239\u001b[0m     )\n\u001b[0;32m-> 1240\u001b[0m     \u001b[38;5;28;01mreturn\u001b[39;00m cast(ResponseT, \u001b[38;5;28;43mself\u001b[39;49m\u001b[38;5;241;43m.\u001b[39;49m\u001b[43mrequest\u001b[49m\u001b[43m(\u001b[49m\u001b[43mcast_to\u001b[49m\u001b[43m,\u001b[49m\u001b[43m \u001b[49m\u001b[43mopts\u001b[49m\u001b[43m,\u001b[49m\u001b[43m \u001b[49m\u001b[43mstream\u001b[49m\u001b[38;5;241;43m=\u001b[39;49m\u001b[43mstream\u001b[49m\u001b[43m,\u001b[49m\u001b[43m \u001b[49m\u001b[43mstream_cls\u001b[49m\u001b[38;5;241;43m=\u001b[39;49m\u001b[43mstream_cls\u001b[49m\u001b[43m)\u001b[49m)\n",
      "File \u001b[0;32m~/miniconda3/envs/cit/lib/python3.10/site-packages/openai/_base_client.py:921\u001b[0m, in \u001b[0;36mSyncAPIClient.request\u001b[0;34m(self, cast_to, options, remaining_retries, stream, stream_cls)\u001b[0m\n\u001b[1;32m    912\u001b[0m \u001b[38;5;28;01mdef\u001b[39;00m \u001b[38;5;21mrequest\u001b[39m(\n\u001b[1;32m    913\u001b[0m     \u001b[38;5;28mself\u001b[39m,\n\u001b[1;32m    914\u001b[0m     cast_to: Type[ResponseT],\n\u001b[0;32m   (...)\u001b[0m\n\u001b[1;32m    919\u001b[0m     stream_cls: \u001b[38;5;28mtype\u001b[39m[_StreamT] \u001b[38;5;241m|\u001b[39m \u001b[38;5;28;01mNone\u001b[39;00m \u001b[38;5;241m=\u001b[39m \u001b[38;5;28;01mNone\u001b[39;00m,\n\u001b[1;32m    920\u001b[0m ) \u001b[38;5;241m-\u001b[39m\u001b[38;5;241m>\u001b[39m ResponseT \u001b[38;5;241m|\u001b[39m _StreamT:\n\u001b[0;32m--> 921\u001b[0m     \u001b[38;5;28;01mreturn\u001b[39;00m \u001b[38;5;28;43mself\u001b[39;49m\u001b[38;5;241;43m.\u001b[39;49m\u001b[43m_request\u001b[49m\u001b[43m(\u001b[49m\n\u001b[1;32m    922\u001b[0m \u001b[43m        \u001b[49m\u001b[43mcast_to\u001b[49m\u001b[38;5;241;43m=\u001b[39;49m\u001b[43mcast_to\u001b[49m\u001b[43m,\u001b[49m\n\u001b[1;32m    923\u001b[0m \u001b[43m        \u001b[49m\u001b[43moptions\u001b[49m\u001b[38;5;241;43m=\u001b[39;49m\u001b[43moptions\u001b[49m\u001b[43m,\u001b[49m\n\u001b[1;32m    924\u001b[0m \u001b[43m        \u001b[49m\u001b[43mstream\u001b[49m\u001b[38;5;241;43m=\u001b[39;49m\u001b[43mstream\u001b[49m\u001b[43m,\u001b[49m\n\u001b[1;32m    925\u001b[0m \u001b[43m        \u001b[49m\u001b[43mstream_cls\u001b[49m\u001b[38;5;241;43m=\u001b[39;49m\u001b[43mstream_cls\u001b[49m\u001b[43m,\u001b[49m\n\u001b[1;32m    926\u001b[0m \u001b[43m        \u001b[49m\u001b[43mremaining_retries\u001b[49m\u001b[38;5;241;43m=\u001b[39;49m\u001b[43mremaining_retries\u001b[49m\u001b[43m,\u001b[49m\n\u001b[1;32m    927\u001b[0m \u001b[43m    \u001b[49m\u001b[43m)\u001b[49m\n",
      "File \u001b[0;32m~/miniconda3/envs/cit/lib/python3.10/site-packages/openai/_base_client.py:952\u001b[0m, in \u001b[0;36mSyncAPIClient._request\u001b[0;34m(self, cast_to, options, remaining_retries, stream, stream_cls)\u001b[0m\n\u001b[1;32m    949\u001b[0m log\u001b[38;5;241m.\u001b[39mdebug(\u001b[38;5;124m\"\u001b[39m\u001b[38;5;124mSending HTTP Request: \u001b[39m\u001b[38;5;132;01m%s\u001b[39;00m\u001b[38;5;124m \u001b[39m\u001b[38;5;132;01m%s\u001b[39;00m\u001b[38;5;124m\"\u001b[39m, request\u001b[38;5;241m.\u001b[39mmethod, request\u001b[38;5;241m.\u001b[39murl)\n\u001b[1;32m    951\u001b[0m \u001b[38;5;28;01mtry\u001b[39;00m:\n\u001b[0;32m--> 952\u001b[0m     response \u001b[38;5;241m=\u001b[39m \u001b[38;5;28;43mself\u001b[39;49m\u001b[38;5;241;43m.\u001b[39;49m\u001b[43m_client\u001b[49m\u001b[38;5;241;43m.\u001b[39;49m\u001b[43msend\u001b[49m\u001b[43m(\u001b[49m\n\u001b[1;32m    953\u001b[0m \u001b[43m        \u001b[49m\u001b[43mrequest\u001b[49m\u001b[43m,\u001b[49m\n\u001b[1;32m    954\u001b[0m \u001b[43m        \u001b[49m\u001b[43mstream\u001b[49m\u001b[38;5;241;43m=\u001b[39;49m\u001b[43mstream\u001b[49m\u001b[43m \u001b[49m\u001b[38;5;129;43;01mor\u001b[39;49;00m\u001b[43m \u001b[49m\u001b[38;5;28;43mself\u001b[39;49m\u001b[38;5;241;43m.\u001b[39;49m\u001b[43m_should_stream_response_body\u001b[49m\u001b[43m(\u001b[49m\u001b[43mrequest\u001b[49m\u001b[38;5;241;43m=\u001b[39;49m\u001b[43mrequest\u001b[49m\u001b[43m)\u001b[49m\u001b[43m,\u001b[49m\n\u001b[1;32m    955\u001b[0m \u001b[43m        \u001b[49m\u001b[38;5;241;43m*\u001b[39;49m\u001b[38;5;241;43m*\u001b[39;49m\u001b[43mkwargs\u001b[49m\u001b[43m,\u001b[49m\n\u001b[1;32m    956\u001b[0m \u001b[43m    \u001b[49m\u001b[43m)\u001b[49m\n\u001b[1;32m    957\u001b[0m \u001b[38;5;28;01mexcept\u001b[39;00m httpx\u001b[38;5;241m.\u001b[39mTimeoutException \u001b[38;5;28;01mas\u001b[39;00m err:\n\u001b[1;32m    958\u001b[0m     log\u001b[38;5;241m.\u001b[39mdebug(\u001b[38;5;124m\"\u001b[39m\u001b[38;5;124mEncountered httpx.TimeoutException\u001b[39m\u001b[38;5;124m\"\u001b[39m, exc_info\u001b[38;5;241m=\u001b[39m\u001b[38;5;28;01mTrue\u001b[39;00m)\n",
      "File \u001b[0;32m~/miniconda3/envs/cit/lib/python3.10/site-packages/sentry_sdk/utils.py:1711\u001b[0m, in \u001b[0;36mensure_integration_enabled.<locals>.patcher.<locals>.runner\u001b[0;34m(*args, **kwargs)\u001b[0m\n\u001b[1;32m   1708\u001b[0m \u001b[38;5;28;01mif\u001b[39;00m sentry_sdk\u001b[38;5;241m.\u001b[39mget_client()\u001b[38;5;241m.\u001b[39mget_integration(integration) \u001b[38;5;129;01mis\u001b[39;00m \u001b[38;5;28;01mNone\u001b[39;00m:\n\u001b[1;32m   1709\u001b[0m     \u001b[38;5;28;01mreturn\u001b[39;00m original_function(\u001b[38;5;241m*\u001b[39margs, \u001b[38;5;241m*\u001b[39m\u001b[38;5;241m*\u001b[39mkwargs)\n\u001b[0;32m-> 1711\u001b[0m \u001b[38;5;28;01mreturn\u001b[39;00m \u001b[43msentry_patched_function\u001b[49m\u001b[43m(\u001b[49m\u001b[38;5;241;43m*\u001b[39;49m\u001b[43margs\u001b[49m\u001b[43m,\u001b[49m\u001b[43m \u001b[49m\u001b[38;5;241;43m*\u001b[39;49m\u001b[38;5;241;43m*\u001b[39;49m\u001b[43mkwargs\u001b[49m\u001b[43m)\u001b[49m\n",
      "File \u001b[0;32m~/miniconda3/envs/cit/lib/python3.10/site-packages/sentry_sdk/integrations/httpx.py:86\u001b[0m, in \u001b[0;36m_install_httpx_client.<locals>.send\u001b[0;34m(self, request, **kwargs)\u001b[0m\n\u001b[1;32m     83\u001b[0m         \u001b[38;5;28;01melse\u001b[39;00m:\n\u001b[1;32m     84\u001b[0m             request\u001b[38;5;241m.\u001b[39mheaders[key] \u001b[38;5;241m=\u001b[39m value\n\u001b[0;32m---> 86\u001b[0m rv \u001b[38;5;241m=\u001b[39m \u001b[43mreal_send\u001b[49m\u001b[43m(\u001b[49m\u001b[38;5;28;43mself\u001b[39;49m\u001b[43m,\u001b[49m\u001b[43m \u001b[49m\u001b[43mrequest\u001b[49m\u001b[43m,\u001b[49m\u001b[43m \u001b[49m\u001b[38;5;241;43m*\u001b[39;49m\u001b[38;5;241;43m*\u001b[39;49m\u001b[43mkwargs\u001b[49m\u001b[43m)\u001b[49m\n\u001b[1;32m     88\u001b[0m span\u001b[38;5;241m.\u001b[39mset_http_status(rv\u001b[38;5;241m.\u001b[39mstatus_code)\n\u001b[1;32m     89\u001b[0m span\u001b[38;5;241m.\u001b[39mset_data(\u001b[38;5;124m\"\u001b[39m\u001b[38;5;124mreason\u001b[39m\u001b[38;5;124m\"\u001b[39m, rv\u001b[38;5;241m.\u001b[39mreason_phrase)\n",
      "File \u001b[0;32m~/miniconda3/envs/cit/lib/python3.10/site-packages/httpx/_client.py:914\u001b[0m, in \u001b[0;36mClient.send\u001b[0;34m(self, request, stream, auth, follow_redirects)\u001b[0m\n\u001b[1;32m    906\u001b[0m follow_redirects \u001b[38;5;241m=\u001b[39m (\n\u001b[1;32m    907\u001b[0m     \u001b[38;5;28mself\u001b[39m\u001b[38;5;241m.\u001b[39mfollow_redirects\n\u001b[1;32m    908\u001b[0m     \u001b[38;5;28;01mif\u001b[39;00m \u001b[38;5;28misinstance\u001b[39m(follow_redirects, UseClientDefault)\n\u001b[1;32m    909\u001b[0m     \u001b[38;5;28;01melse\u001b[39;00m follow_redirects\n\u001b[1;32m    910\u001b[0m )\n\u001b[1;32m    912\u001b[0m auth \u001b[38;5;241m=\u001b[39m \u001b[38;5;28mself\u001b[39m\u001b[38;5;241m.\u001b[39m_build_request_auth(request, auth)\n\u001b[0;32m--> 914\u001b[0m response \u001b[38;5;241m=\u001b[39m \u001b[38;5;28;43mself\u001b[39;49m\u001b[38;5;241;43m.\u001b[39;49m\u001b[43m_send_handling_auth\u001b[49m\u001b[43m(\u001b[49m\n\u001b[1;32m    915\u001b[0m \u001b[43m    \u001b[49m\u001b[43mrequest\u001b[49m\u001b[43m,\u001b[49m\n\u001b[1;32m    916\u001b[0m \u001b[43m    \u001b[49m\u001b[43mauth\u001b[49m\u001b[38;5;241;43m=\u001b[39;49m\u001b[43mauth\u001b[49m\u001b[43m,\u001b[49m\n\u001b[1;32m    917\u001b[0m \u001b[43m    \u001b[49m\u001b[43mfollow_redirects\u001b[49m\u001b[38;5;241;43m=\u001b[39;49m\u001b[43mfollow_redirects\u001b[49m\u001b[43m,\u001b[49m\n\u001b[1;32m    918\u001b[0m \u001b[43m    \u001b[49m\u001b[43mhistory\u001b[49m\u001b[38;5;241;43m=\u001b[39;49m\u001b[43m[\u001b[49m\u001b[43m]\u001b[49m\u001b[43m,\u001b[49m\n\u001b[1;32m    919\u001b[0m \u001b[43m\u001b[49m\u001b[43m)\u001b[49m\n\u001b[1;32m    920\u001b[0m \u001b[38;5;28;01mtry\u001b[39;00m:\n\u001b[1;32m    921\u001b[0m     \u001b[38;5;28;01mif\u001b[39;00m \u001b[38;5;129;01mnot\u001b[39;00m stream:\n",
      "File \u001b[0;32m~/miniconda3/envs/cit/lib/python3.10/site-packages/httpx/_client.py:942\u001b[0m, in \u001b[0;36mClient._send_handling_auth\u001b[0;34m(self, request, auth, follow_redirects, history)\u001b[0m\n\u001b[1;32m    939\u001b[0m request \u001b[38;5;241m=\u001b[39m \u001b[38;5;28mnext\u001b[39m(auth_flow)\n\u001b[1;32m    941\u001b[0m \u001b[38;5;28;01mwhile\u001b[39;00m \u001b[38;5;28;01mTrue\u001b[39;00m:\n\u001b[0;32m--> 942\u001b[0m     response \u001b[38;5;241m=\u001b[39m \u001b[38;5;28;43mself\u001b[39;49m\u001b[38;5;241;43m.\u001b[39;49m\u001b[43m_send_handling_redirects\u001b[49m\u001b[43m(\u001b[49m\n\u001b[1;32m    943\u001b[0m \u001b[43m        \u001b[49m\u001b[43mrequest\u001b[49m\u001b[43m,\u001b[49m\n\u001b[1;32m    944\u001b[0m \u001b[43m        \u001b[49m\u001b[43mfollow_redirects\u001b[49m\u001b[38;5;241;43m=\u001b[39;49m\u001b[43mfollow_redirects\u001b[49m\u001b[43m,\u001b[49m\n\u001b[1;32m    945\u001b[0m \u001b[43m        \u001b[49m\u001b[43mhistory\u001b[49m\u001b[38;5;241;43m=\u001b[39;49m\u001b[43mhistory\u001b[49m\u001b[43m,\u001b[49m\n\u001b[1;32m    946\u001b[0m \u001b[43m    \u001b[49m\u001b[43m)\u001b[49m\n\u001b[1;32m    947\u001b[0m     \u001b[38;5;28;01mtry\u001b[39;00m:\n\u001b[1;32m    948\u001b[0m         \u001b[38;5;28;01mtry\u001b[39;00m:\n",
      "File \u001b[0;32m~/miniconda3/envs/cit/lib/python3.10/site-packages/httpx/_client.py:979\u001b[0m, in \u001b[0;36mClient._send_handling_redirects\u001b[0;34m(self, request, follow_redirects, history)\u001b[0m\n\u001b[1;32m    976\u001b[0m \u001b[38;5;28;01mfor\u001b[39;00m hook \u001b[38;5;129;01min\u001b[39;00m \u001b[38;5;28mself\u001b[39m\u001b[38;5;241m.\u001b[39m_event_hooks[\u001b[38;5;124m\"\u001b[39m\u001b[38;5;124mrequest\u001b[39m\u001b[38;5;124m\"\u001b[39m]:\n\u001b[1;32m    977\u001b[0m     hook(request)\n\u001b[0;32m--> 979\u001b[0m response \u001b[38;5;241m=\u001b[39m \u001b[38;5;28;43mself\u001b[39;49m\u001b[38;5;241;43m.\u001b[39;49m\u001b[43m_send_single_request\u001b[49m\u001b[43m(\u001b[49m\u001b[43mrequest\u001b[49m\u001b[43m)\u001b[49m\n\u001b[1;32m    980\u001b[0m \u001b[38;5;28;01mtry\u001b[39;00m:\n\u001b[1;32m    981\u001b[0m     \u001b[38;5;28;01mfor\u001b[39;00m hook \u001b[38;5;129;01min\u001b[39;00m \u001b[38;5;28mself\u001b[39m\u001b[38;5;241m.\u001b[39m_event_hooks[\u001b[38;5;124m\"\u001b[39m\u001b[38;5;124mresponse\u001b[39m\u001b[38;5;124m\"\u001b[39m]:\n",
      "File \u001b[0;32m~/miniconda3/envs/cit/lib/python3.10/site-packages/httpx/_client.py:1015\u001b[0m, in \u001b[0;36mClient._send_single_request\u001b[0;34m(self, request)\u001b[0m\n\u001b[1;32m   1010\u001b[0m     \u001b[38;5;28;01mraise\u001b[39;00m \u001b[38;5;167;01mRuntimeError\u001b[39;00m(\n\u001b[1;32m   1011\u001b[0m         \u001b[38;5;124m\"\u001b[39m\u001b[38;5;124mAttempted to send an async request with a sync Client instance.\u001b[39m\u001b[38;5;124m\"\u001b[39m\n\u001b[1;32m   1012\u001b[0m     )\n\u001b[1;32m   1014\u001b[0m \u001b[38;5;28;01mwith\u001b[39;00m request_context(request\u001b[38;5;241m=\u001b[39mrequest):\n\u001b[0;32m-> 1015\u001b[0m     response \u001b[38;5;241m=\u001b[39m \u001b[43mtransport\u001b[49m\u001b[38;5;241;43m.\u001b[39;49m\u001b[43mhandle_request\u001b[49m\u001b[43m(\u001b[49m\u001b[43mrequest\u001b[49m\u001b[43m)\u001b[49m\n\u001b[1;32m   1017\u001b[0m \u001b[38;5;28;01massert\u001b[39;00m \u001b[38;5;28misinstance\u001b[39m(response\u001b[38;5;241m.\u001b[39mstream, SyncByteStream)\n\u001b[1;32m   1019\u001b[0m response\u001b[38;5;241m.\u001b[39mrequest \u001b[38;5;241m=\u001b[39m request\n",
      "File \u001b[0;32m~/miniconda3/envs/cit/lib/python3.10/site-packages/httpx/_transports/default.py:233\u001b[0m, in \u001b[0;36mHTTPTransport.handle_request\u001b[0;34m(self, request)\u001b[0m\n\u001b[1;32m    220\u001b[0m req \u001b[38;5;241m=\u001b[39m httpcore\u001b[38;5;241m.\u001b[39mRequest(\n\u001b[1;32m    221\u001b[0m     method\u001b[38;5;241m=\u001b[39mrequest\u001b[38;5;241m.\u001b[39mmethod,\n\u001b[1;32m    222\u001b[0m     url\u001b[38;5;241m=\u001b[39mhttpcore\u001b[38;5;241m.\u001b[39mURL(\n\u001b[0;32m   (...)\u001b[0m\n\u001b[1;32m    230\u001b[0m     extensions\u001b[38;5;241m=\u001b[39mrequest\u001b[38;5;241m.\u001b[39mextensions,\n\u001b[1;32m    231\u001b[0m )\n\u001b[1;32m    232\u001b[0m \u001b[38;5;28;01mwith\u001b[39;00m map_httpcore_exceptions():\n\u001b[0;32m--> 233\u001b[0m     resp \u001b[38;5;241m=\u001b[39m \u001b[38;5;28;43mself\u001b[39;49m\u001b[38;5;241;43m.\u001b[39;49m\u001b[43m_pool\u001b[49m\u001b[38;5;241;43m.\u001b[39;49m\u001b[43mhandle_request\u001b[49m\u001b[43m(\u001b[49m\u001b[43mreq\u001b[49m\u001b[43m)\u001b[49m\n\u001b[1;32m    235\u001b[0m \u001b[38;5;28;01massert\u001b[39;00m \u001b[38;5;28misinstance\u001b[39m(resp\u001b[38;5;241m.\u001b[39mstream, typing\u001b[38;5;241m.\u001b[39mIterable)\n\u001b[1;32m    237\u001b[0m \u001b[38;5;28;01mreturn\u001b[39;00m Response(\n\u001b[1;32m    238\u001b[0m     status_code\u001b[38;5;241m=\u001b[39mresp\u001b[38;5;241m.\u001b[39mstatus,\n\u001b[1;32m    239\u001b[0m     headers\u001b[38;5;241m=\u001b[39mresp\u001b[38;5;241m.\u001b[39mheaders,\n\u001b[1;32m    240\u001b[0m     stream\u001b[38;5;241m=\u001b[39mResponseStream(resp\u001b[38;5;241m.\u001b[39mstream),\n\u001b[1;32m    241\u001b[0m     extensions\u001b[38;5;241m=\u001b[39mresp\u001b[38;5;241m.\u001b[39mextensions,\n\u001b[1;32m    242\u001b[0m )\n",
      "File \u001b[0;32m~/miniconda3/envs/cit/lib/python3.10/site-packages/httpcore/_sync/connection_pool.py:216\u001b[0m, in \u001b[0;36mConnectionPool.handle_request\u001b[0;34m(self, request)\u001b[0m\n\u001b[1;32m    213\u001b[0m         closing \u001b[38;5;241m=\u001b[39m \u001b[38;5;28mself\u001b[39m\u001b[38;5;241m.\u001b[39m_assign_requests_to_connections()\n\u001b[1;32m    215\u001b[0m     \u001b[38;5;28mself\u001b[39m\u001b[38;5;241m.\u001b[39m_close_connections(closing)\n\u001b[0;32m--> 216\u001b[0m     \u001b[38;5;28;01mraise\u001b[39;00m exc \u001b[38;5;28;01mfrom\u001b[39;00m \u001b[38;5;28;01mNone\u001b[39;00m\n\u001b[1;32m    218\u001b[0m \u001b[38;5;66;03m# Return the response. Note that in this case we still have to manage\u001b[39;00m\n\u001b[1;32m    219\u001b[0m \u001b[38;5;66;03m# the point at which the response is closed.\u001b[39;00m\n\u001b[1;32m    220\u001b[0m \u001b[38;5;28;01massert\u001b[39;00m \u001b[38;5;28misinstance\u001b[39m(response\u001b[38;5;241m.\u001b[39mstream, Iterable)\n",
      "File \u001b[0;32m~/miniconda3/envs/cit/lib/python3.10/site-packages/httpcore/_sync/connection_pool.py:196\u001b[0m, in \u001b[0;36mConnectionPool.handle_request\u001b[0;34m(self, request)\u001b[0m\n\u001b[1;32m    192\u001b[0m connection \u001b[38;5;241m=\u001b[39m pool_request\u001b[38;5;241m.\u001b[39mwait_for_connection(timeout\u001b[38;5;241m=\u001b[39mtimeout)\n\u001b[1;32m    194\u001b[0m \u001b[38;5;28;01mtry\u001b[39;00m:\n\u001b[1;32m    195\u001b[0m     \u001b[38;5;66;03m# Send the request on the assigned connection.\u001b[39;00m\n\u001b[0;32m--> 196\u001b[0m     response \u001b[38;5;241m=\u001b[39m \u001b[43mconnection\u001b[49m\u001b[38;5;241;43m.\u001b[39;49m\u001b[43mhandle_request\u001b[49m\u001b[43m(\u001b[49m\n\u001b[1;32m    197\u001b[0m \u001b[43m        \u001b[49m\u001b[43mpool_request\u001b[49m\u001b[38;5;241;43m.\u001b[39;49m\u001b[43mrequest\u001b[49m\n\u001b[1;32m    198\u001b[0m \u001b[43m    \u001b[49m\u001b[43m)\u001b[49m\n\u001b[1;32m    199\u001b[0m \u001b[38;5;28;01mexcept\u001b[39;00m ConnectionNotAvailable:\n\u001b[1;32m    200\u001b[0m     \u001b[38;5;66;03m# In some cases a connection may initially be available to\u001b[39;00m\n\u001b[1;32m    201\u001b[0m     \u001b[38;5;66;03m# handle a request, but then become unavailable.\u001b[39;00m\n\u001b[1;32m    202\u001b[0m     \u001b[38;5;66;03m#\u001b[39;00m\n\u001b[1;32m    203\u001b[0m     \u001b[38;5;66;03m# In this case we clear the connection and try again.\u001b[39;00m\n\u001b[1;32m    204\u001b[0m     pool_request\u001b[38;5;241m.\u001b[39mclear_connection()\n",
      "File \u001b[0;32m~/miniconda3/envs/cit/lib/python3.10/site-packages/httpcore/_sync/connection.py:101\u001b[0m, in \u001b[0;36mHTTPConnection.handle_request\u001b[0;34m(self, request)\u001b[0m\n\u001b[1;32m     98\u001b[0m     \u001b[38;5;28mself\u001b[39m\u001b[38;5;241m.\u001b[39m_connect_failed \u001b[38;5;241m=\u001b[39m \u001b[38;5;28;01mTrue\u001b[39;00m\n\u001b[1;32m     99\u001b[0m     \u001b[38;5;28;01mraise\u001b[39;00m exc\n\u001b[0;32m--> 101\u001b[0m \u001b[38;5;28;01mreturn\u001b[39;00m \u001b[38;5;28;43mself\u001b[39;49m\u001b[38;5;241;43m.\u001b[39;49m\u001b[43m_connection\u001b[49m\u001b[38;5;241;43m.\u001b[39;49m\u001b[43mhandle_request\u001b[49m\u001b[43m(\u001b[49m\u001b[43mrequest\u001b[49m\u001b[43m)\u001b[49m\n",
      "File \u001b[0;32m~/miniconda3/envs/cit/lib/python3.10/site-packages/httpcore/_sync/http11.py:143\u001b[0m, in \u001b[0;36mHTTP11Connection.handle_request\u001b[0;34m(self, request)\u001b[0m\n\u001b[1;32m    141\u001b[0m     \u001b[38;5;28;01mwith\u001b[39;00m Trace(\u001b[38;5;124m\"\u001b[39m\u001b[38;5;124mresponse_closed\u001b[39m\u001b[38;5;124m\"\u001b[39m, logger, request) \u001b[38;5;28;01mas\u001b[39;00m trace:\n\u001b[1;32m    142\u001b[0m         \u001b[38;5;28mself\u001b[39m\u001b[38;5;241m.\u001b[39m_response_closed()\n\u001b[0;32m--> 143\u001b[0m \u001b[38;5;28;01mraise\u001b[39;00m exc\n",
      "File \u001b[0;32m~/miniconda3/envs/cit/lib/python3.10/site-packages/httpcore/_sync/http11.py:113\u001b[0m, in \u001b[0;36mHTTP11Connection.handle_request\u001b[0;34m(self, request)\u001b[0m\n\u001b[1;32m    102\u001b[0m     \u001b[38;5;28;01mpass\u001b[39;00m\n\u001b[1;32m    104\u001b[0m \u001b[38;5;28;01mwith\u001b[39;00m Trace(\n\u001b[1;32m    105\u001b[0m     \u001b[38;5;124m\"\u001b[39m\u001b[38;5;124mreceive_response_headers\u001b[39m\u001b[38;5;124m\"\u001b[39m, logger, request, kwargs\n\u001b[1;32m    106\u001b[0m ) \u001b[38;5;28;01mas\u001b[39;00m trace:\n\u001b[1;32m    107\u001b[0m     (\n\u001b[1;32m    108\u001b[0m         http_version,\n\u001b[1;32m    109\u001b[0m         status,\n\u001b[1;32m    110\u001b[0m         reason_phrase,\n\u001b[1;32m    111\u001b[0m         headers,\n\u001b[1;32m    112\u001b[0m         trailing_data,\n\u001b[0;32m--> 113\u001b[0m     ) \u001b[38;5;241m=\u001b[39m \u001b[38;5;28;43mself\u001b[39;49m\u001b[38;5;241;43m.\u001b[39;49m\u001b[43m_receive_response_headers\u001b[49m\u001b[43m(\u001b[49m\u001b[38;5;241;43m*\u001b[39;49m\u001b[38;5;241;43m*\u001b[39;49m\u001b[43mkwargs\u001b[49m\u001b[43m)\u001b[49m\n\u001b[1;32m    114\u001b[0m     trace\u001b[38;5;241m.\u001b[39mreturn_value \u001b[38;5;241m=\u001b[39m (\n\u001b[1;32m    115\u001b[0m         http_version,\n\u001b[1;32m    116\u001b[0m         status,\n\u001b[1;32m    117\u001b[0m         reason_phrase,\n\u001b[1;32m    118\u001b[0m         headers,\n\u001b[1;32m    119\u001b[0m     )\n\u001b[1;32m    121\u001b[0m network_stream \u001b[38;5;241m=\u001b[39m \u001b[38;5;28mself\u001b[39m\u001b[38;5;241m.\u001b[39m_network_stream\n",
      "File \u001b[0;32m~/miniconda3/envs/cit/lib/python3.10/site-packages/httpcore/_sync/http11.py:186\u001b[0m, in \u001b[0;36mHTTP11Connection._receive_response_headers\u001b[0;34m(self, request)\u001b[0m\n\u001b[1;32m    183\u001b[0m timeout \u001b[38;5;241m=\u001b[39m timeouts\u001b[38;5;241m.\u001b[39mget(\u001b[38;5;124m\"\u001b[39m\u001b[38;5;124mread\u001b[39m\u001b[38;5;124m\"\u001b[39m, \u001b[38;5;28;01mNone\u001b[39;00m)\n\u001b[1;32m    185\u001b[0m \u001b[38;5;28;01mwhile\u001b[39;00m \u001b[38;5;28;01mTrue\u001b[39;00m:\n\u001b[0;32m--> 186\u001b[0m     event \u001b[38;5;241m=\u001b[39m \u001b[38;5;28;43mself\u001b[39;49m\u001b[38;5;241;43m.\u001b[39;49m\u001b[43m_receive_event\u001b[49m\u001b[43m(\u001b[49m\u001b[43mtimeout\u001b[49m\u001b[38;5;241;43m=\u001b[39;49m\u001b[43mtimeout\u001b[49m\u001b[43m)\u001b[49m\n\u001b[1;32m    187\u001b[0m     \u001b[38;5;28;01mif\u001b[39;00m \u001b[38;5;28misinstance\u001b[39m(event, h11\u001b[38;5;241m.\u001b[39mResponse):\n\u001b[1;32m    188\u001b[0m         \u001b[38;5;28;01mbreak\u001b[39;00m\n",
      "File \u001b[0;32m~/miniconda3/envs/cit/lib/python3.10/site-packages/httpcore/_sync/http11.py:224\u001b[0m, in \u001b[0;36mHTTP11Connection._receive_event\u001b[0;34m(self, timeout)\u001b[0m\n\u001b[1;32m    221\u001b[0m     event \u001b[38;5;241m=\u001b[39m \u001b[38;5;28mself\u001b[39m\u001b[38;5;241m.\u001b[39m_h11_state\u001b[38;5;241m.\u001b[39mnext_event()\n\u001b[1;32m    223\u001b[0m \u001b[38;5;28;01mif\u001b[39;00m event \u001b[38;5;129;01mis\u001b[39;00m h11\u001b[38;5;241m.\u001b[39mNEED_DATA:\n\u001b[0;32m--> 224\u001b[0m     data \u001b[38;5;241m=\u001b[39m \u001b[38;5;28;43mself\u001b[39;49m\u001b[38;5;241;43m.\u001b[39;49m\u001b[43m_network_stream\u001b[49m\u001b[38;5;241;43m.\u001b[39;49m\u001b[43mread\u001b[49m\u001b[43m(\u001b[49m\n\u001b[1;32m    225\u001b[0m \u001b[43m        \u001b[49m\u001b[38;5;28;43mself\u001b[39;49m\u001b[38;5;241;43m.\u001b[39;49m\u001b[43mREAD_NUM_BYTES\u001b[49m\u001b[43m,\u001b[49m\u001b[43m \u001b[49m\u001b[43mtimeout\u001b[49m\u001b[38;5;241;43m=\u001b[39;49m\u001b[43mtimeout\u001b[49m\n\u001b[1;32m    226\u001b[0m \u001b[43m    \u001b[49m\u001b[43m)\u001b[49m\n\u001b[1;32m    228\u001b[0m     \u001b[38;5;66;03m# If we feed this case through h11 we'll raise an exception like:\u001b[39;00m\n\u001b[1;32m    229\u001b[0m     \u001b[38;5;66;03m#\u001b[39;00m\n\u001b[1;32m    230\u001b[0m     \u001b[38;5;66;03m#     httpcore.RemoteProtocolError: can't handle event type\u001b[39;00m\n\u001b[0;32m   (...)\u001b[0m\n\u001b[1;32m    234\u001b[0m     \u001b[38;5;66;03m# perspective. Instead we handle this case distinctly and treat\u001b[39;00m\n\u001b[1;32m    235\u001b[0m     \u001b[38;5;66;03m# it as a ConnectError.\u001b[39;00m\n\u001b[1;32m    236\u001b[0m     \u001b[38;5;28;01mif\u001b[39;00m data \u001b[38;5;241m==\u001b[39m \u001b[38;5;124mb\u001b[39m\u001b[38;5;124m\"\u001b[39m\u001b[38;5;124m\"\u001b[39m \u001b[38;5;129;01mand\u001b[39;00m \u001b[38;5;28mself\u001b[39m\u001b[38;5;241m.\u001b[39m_h11_state\u001b[38;5;241m.\u001b[39mtheir_state \u001b[38;5;241m==\u001b[39m h11\u001b[38;5;241m.\u001b[39mSEND_RESPONSE:\n",
      "File \u001b[0;32m~/miniconda3/envs/cit/lib/python3.10/site-packages/httpcore/_backends/sync.py:126\u001b[0m, in \u001b[0;36mSyncStream.read\u001b[0;34m(self, max_bytes, timeout)\u001b[0m\n\u001b[1;32m    124\u001b[0m \u001b[38;5;28;01mwith\u001b[39;00m map_exceptions(exc_map):\n\u001b[1;32m    125\u001b[0m     \u001b[38;5;28mself\u001b[39m\u001b[38;5;241m.\u001b[39m_sock\u001b[38;5;241m.\u001b[39msettimeout(timeout)\n\u001b[0;32m--> 126\u001b[0m     \u001b[38;5;28;01mreturn\u001b[39;00m \u001b[38;5;28;43mself\u001b[39;49m\u001b[38;5;241;43m.\u001b[39;49m\u001b[43m_sock\u001b[49m\u001b[38;5;241;43m.\u001b[39;49m\u001b[43mrecv\u001b[49m\u001b[43m(\u001b[49m\u001b[43mmax_bytes\u001b[49m\u001b[43m)\u001b[49m\n",
      "File \u001b[0;32m~/miniconda3/envs/cit/lib/python3.10/ssl.py:1292\u001b[0m, in \u001b[0;36mSSLSocket.recv\u001b[0;34m(self, buflen, flags)\u001b[0m\n\u001b[1;32m   1288\u001b[0m     \u001b[38;5;28;01mif\u001b[39;00m flags \u001b[38;5;241m!=\u001b[39m \u001b[38;5;241m0\u001b[39m:\n\u001b[1;32m   1289\u001b[0m         \u001b[38;5;28;01mraise\u001b[39;00m \u001b[38;5;167;01mValueError\u001b[39;00m(\n\u001b[1;32m   1290\u001b[0m             \u001b[38;5;124m\"\u001b[39m\u001b[38;5;124mnon-zero flags not allowed in calls to recv() on \u001b[39m\u001b[38;5;132;01m%s\u001b[39;00m\u001b[38;5;124m\"\u001b[39m \u001b[38;5;241m%\u001b[39m\n\u001b[1;32m   1291\u001b[0m             \u001b[38;5;28mself\u001b[39m\u001b[38;5;241m.\u001b[39m\u001b[38;5;18m__class__\u001b[39m)\n\u001b[0;32m-> 1292\u001b[0m     \u001b[38;5;28;01mreturn\u001b[39;00m \u001b[38;5;28;43mself\u001b[39;49m\u001b[38;5;241;43m.\u001b[39;49m\u001b[43mread\u001b[49m\u001b[43m(\u001b[49m\u001b[43mbuflen\u001b[49m\u001b[43m)\u001b[49m\n\u001b[1;32m   1293\u001b[0m \u001b[38;5;28;01melse\u001b[39;00m:\n\u001b[1;32m   1294\u001b[0m     \u001b[38;5;28;01mreturn\u001b[39;00m \u001b[38;5;28msuper\u001b[39m()\u001b[38;5;241m.\u001b[39mrecv(buflen, flags)\n",
      "File \u001b[0;32m~/miniconda3/envs/cit/lib/python3.10/ssl.py:1165\u001b[0m, in \u001b[0;36mSSLSocket.read\u001b[0;34m(self, len, buffer)\u001b[0m\n\u001b[1;32m   1163\u001b[0m         \u001b[38;5;28;01mreturn\u001b[39;00m \u001b[38;5;28mself\u001b[39m\u001b[38;5;241m.\u001b[39m_sslobj\u001b[38;5;241m.\u001b[39mread(\u001b[38;5;28mlen\u001b[39m, buffer)\n\u001b[1;32m   1164\u001b[0m     \u001b[38;5;28;01melse\u001b[39;00m:\n\u001b[0;32m-> 1165\u001b[0m         \u001b[38;5;28;01mreturn\u001b[39;00m \u001b[38;5;28;43mself\u001b[39;49m\u001b[38;5;241;43m.\u001b[39;49m\u001b[43m_sslobj\u001b[49m\u001b[38;5;241;43m.\u001b[39;49m\u001b[43mread\u001b[49m\u001b[43m(\u001b[49m\u001b[38;5;28;43mlen\u001b[39;49m\u001b[43m)\u001b[49m\n\u001b[1;32m   1166\u001b[0m \u001b[38;5;28;01mexcept\u001b[39;00m SSLError \u001b[38;5;28;01mas\u001b[39;00m x:\n\u001b[1;32m   1167\u001b[0m     \u001b[38;5;28;01mif\u001b[39;00m x\u001b[38;5;241m.\u001b[39margs[\u001b[38;5;241m0\u001b[39m] \u001b[38;5;241m==\u001b[39m SSL_ERROR_EOF \u001b[38;5;129;01mand\u001b[39;00m \u001b[38;5;28mself\u001b[39m\u001b[38;5;241m.\u001b[39msuppress_ragged_eofs:\n",
      "\u001b[0;31mKeyboardInterrupt\u001b[0m: "
     ]
    }
   ],
   "source": []
  },
  {
   "cell_type": "code",
   "execution_count": 3,
   "metadata": {},
   "outputs": [],
   "source": [
    "\n",
    "\n",
    "current_dir = os.getcwd()\n",
    "parent_dir = os.path.dirname(current_dir)\n",
    "path_to_pdf = 'app/pdf_docs'\n",
    "file_path = os.path.join(parent_dir, path_to_pdf)\n",
    "\n",
    "documents_text = []\n",
    "c = 0\n",
    "\n",
    "for doc in os.listdir(file_path):\n",
    "\n",
    "    doc_path = os.path.join(file_path, doc)\n",
    "    loader = PyPDFLoader(doc_path)\n",
    "    pages = loader.load_and_split()\n",
    "    text_splitter = RecursiveCharacterTextSplitter(chunk_size = 1000, chunk_overlap = 200)\n",
    "    docs = text_splitter.split_documents(pages)\n",
    "    documents_text.append(docs)\n",
    "    c += 1\n",
    "    if c == 5:\n",
    "        break\n",
    "\n",
    "documents_text = [item for sublist in documents_text for item in sublist]"
   ]
  },
  {
   "cell_type": "code",
   "execution_count": 6,
   "metadata": {},
   "outputs": [
    {
     "name": "stdout",
     "output_type": "stream",
     "text": [
      "You can get a complaint form in your local district court office and will have to pay a fee\n",
      "to process the complaint.\n",
      "Other organisations for noise complaints\n",
      "Depending on the source of the noise, you may complain elsewhere. Other places where\n",
      "you can lodge a complaint include:\n",
      "An Garda Síochánna\n",
      "The Environmental Protection Agency (EPA)\n",
      "Residential Tenancies Board (RTB)\n",
      "Transport Infrastructure Ireland (TII)\n",
      "You can read the gov.ie Guide to Noise Regulations  on the steps you can take if you are\n",
      "experiencing a nuisance caused by noise.\n",
      "How to make a noise complaint\n",
      "If you plan to complain about excessive noise, try to keep a detailed list of:\n",
      "The times when the noise occurred\n",
      "How long the noise lasted\n",
      "The levels of noise involved (if possible)\n",
      "Step 1: Try to resolve the issue yourself\n",
      "You should first contact the person or business causing the noise, explain that it is a\n",
      "nuisance and try to solve the issue together.\n",
      "Step 2: Contact your local authority or the EPA\n"
     ]
    }
   ],
   "source": [
    "print(documents_text[3].page_content)"
   ]
  },
  {
   "cell_type": "code",
   "execution_count": 7,
   "metadata": {},
   "outputs": [
    {
     "name": "stderr",
     "output_type": "stream",
     "text": [
      "Setting `pad_token_id` to `eos_token_id`:128003 for open-end generation.\n"
     ]
    },
    {
     "name": "stdout",
     "output_type": "stream",
     "text": [
      "\n",
      "\n",
      "\u001b[1m> Entering new LLMChain chain...\u001b[0m\n",
      "Prompt after formatting:\n",
      "\u001b[32;1m\u001b[1;3mcan you tell me a joke about spaniards?\u001b[0m\n",
      "\n",
      "\u001b[1m> Finished chain.\u001b[0m\n",
      "can you tell me a joke about spaniards? \"\n",
      "A Spaniard walks into a bar and orders a drink. The bartender asks, \"Is there a problem?\" The Spaniard replies, \"No, everything's fine. I just have a little problem with my hearing. In Spain, we call this 'un poco de sordera'.\" The bartender laughs and says, \"Well, in America, we call that a 'little white lie'.\" \n",
      "\n",
      "Here are some funny Spanish jokes:\n",
      "\n",
      "1. Why did the Spaniard cross the road?\n",
      "To get to the restaurant on the other side.\n",
      "\n",
      "2. Why did the Spaniard break up with his girlfriend?\n",
      "Because she was \"un poco loca\" (a little crazy).\n",
      "\n",
      "3. What do you call a Spaniard who speaks three languages?\n",
      "Un problema (a problem).\n",
      "\n",
      "4. Why did the Spaniard go to the hospital?\n",
      "To have his \"hijo\" (son) removed. \n",
      "\n",
      "5. How do you stop a Spaniard from speaking?\n",
      "With a gun in his mouth.\n",
      "\n",
      "6. What do you call a Spaniard who can't speak?\n",
      "Un mudo (a mute).\n",
      "\n",
      "I hope you enjoyed these jokes and they put a smile on your face! Remember,\n"
     ]
    }
   ],
   "source": [
    "pipe  = pipeline(\n",
    "    \"text-generation\",\n",
    "    model=model,\n",
    "    tokenizer=tokenizer,\n",
    "    max_length=250\n",
    ")\n",
    "\n",
    "local_llm = HuggingFacePipeline(pipeline=pipe)\n",
    "\n",
    "template = \"\"\"can you tell me a joke about {topic}?\"\"\"\n",
    "prompt = PromptTemplate(template=template, input_variables=[\"spaniards\"])\n",
    "llm_chain = LLMChain(prompt=prompt, llm=local_llm, verbose=True)\n",
    "\n",
    "model.eval()\n",
    "with torch.no_grad():\n",
    "    print(llm_chain.run({\"topic\": \"spaniards\"}))\n"
   ]
  }
 ],
 "metadata": {
  "kernelspec": {
   "display_name": "cit",
   "language": "python",
   "name": "python3"
  },
  "language_info": {
   "codemirror_mode": {
    "name": "ipython",
    "version": 3
   },
   "file_extension": ".py",
   "mimetype": "text/x-python",
   "name": "python",
   "nbconvert_exporter": "python",
   "pygments_lexer": "ipython3",
   "version": "3.10.14"
  }
 },
 "nbformat": 4,
 "nbformat_minor": 2
}
