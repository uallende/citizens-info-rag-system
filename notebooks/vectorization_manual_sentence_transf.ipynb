{
 "cells": [
  {
   "cell_type": "code",
   "execution_count": null,
   "metadata": {},
   "outputs": [],
   "source": [
    "import weaviate\n",
    "import weaviate.classes as wvc\n",
    "import os\n",
    "from dotenv import load_dotenv\n",
    "from weaviate.classes.config import Property, DataType\n",
    "from langchain_community.document_loaders import PyPDFLoader\n",
    "from langchain_text_splitters import CharacterTextSplitter\n",
    "from sklearn.metrics.pairwise import cosine_similarity\n",
    "from sentence_transformers import SentenceTransformer\n",
    "\n",
    "import torch.nn.functional as F\n",
    "\n",
    "load_dotenv()\n",
    "openai_api_key = os.getenv(\"OPENAI_KEY\")\n",
    "\n",
    "cwd = os.getcwd()\n",
    "parent_dir = os.path.dirname(cwd)\n",
    "os.chdir(parent_dir)\n",
    "\n",
    "client = weaviate.connect_to_local(\n",
    "    port=8080,\n",
    "    grpc_port=50051,\n",
    "    additional_config=weaviate.config.AdditionalConfig(timeout=(60, 180)),\n",
    "    headers={\n",
    "        \"X-OpenAI-Api-Key\": openai_api_key  # Replace with your inference API key\n",
    "    }\n",
    ")\n",
    "path_to_pdf = 'pdf_docs'\n",
    "\n",
    "documents_text = []\n",
    "\n",
    "for doc in os.listdir(path_to_pdf):\n",
    "\n",
    "    doc_path = f'{path_to_pdf}/{doc}'\n",
    "    loader = PyPDFLoader(doc_path)\n",
    "    pages = loader.load_and_split()\n",
    "    text_splitter = CharacterTextSplitter(chunk_size = 1000, chunk_overlap = 100)\n",
    "    docs = text_splitter.split_documents(pages)\n",
    "    documents_text.append(docs)\n",
    "\n",
    "documents_text = [item for sublist in documents_text for item in sublist]"
   ]
  },
  {
   "cell_type": "code",
   "execution_count": null,
   "metadata": {},
   "outputs": [],
   "source": [
    "model = SentenceTransformer('sentence-transformers/all-MiniLM-L6-v2')\n",
    "\n",
    "body_vectors = []\n",
    "for d in documents_text:\n",
    "    body = d.page_content\n",
    "    embeddings = model.encode(body)\n",
    "    body_vectors.append(embeddings)\n",
    "\n",
    "document_objs = list()\n",
    "for d in documents_text:\n",
    "    # Extract data from each document\n",
    "    title = d.metadata['source']\n",
    "    page = str(d.metadata['page'])  # page number to string\n",
    "    body = d.page_content\n",
    "\n",
    "    # Prepare properties for the data object\n",
    "    document_objs.append({\n",
    "        \"page\": page,\n",
    "        \"title\": title,\n",
    "        \"body\": body\n",
    "    })"
   ]
  },
  {
   "cell_type": "code",
   "execution_count": null,
   "metadata": {},
   "outputs": [],
   "source": [
    "client.collections.delete(\"citizens_info_docs\") \n",
    "client.collections.create(\n",
    "    \"citizens_info_docs\",\n",
    "\n",
    "    properties=[  \n",
    "        Property(name=\"page\", data_type=DataType.TEXT),\n",
    "        Property(name=\"title\", data_type=DataType.TEXT),\n",
    "        Property(name=\"body\", data_type=DataType.TEXT),\n",
    "    ]\n",
    ")\n",
    "\n",
    "collection = client.collections.get(\"citizens_info_docs\")\n",
    "\n",
    "with collection.batch.dynamic() as batch:\n",
    "    for i, data_row in enumerate(document_objs):\n",
    "        batch.add_object(\n",
    "            # print(data_row),\n",
    "            properties=data_row,\n",
    "            vector = body_vectors[i].tolist(),\n",
    "        )"
   ]
  },
  {
   "cell_type": "code",
   "execution_count": null,
   "metadata": {},
   "outputs": [],
   "source": [
    "data_object = collection.query.fetch_objects(\n",
    "    include_vector=True  # Specify names of the vectors to include\n",
    ")"
   ]
  },
  {
   "cell_type": "code",
   "execution_count": null,
   "metadata": {},
   "outputs": [],
   "source": [
    "data_object.objects[0].vector"
   ]
  },
  {
   "cell_type": "code",
   "execution_count": null,
   "metadata": {},
   "outputs": [],
   "source": [
    "from weaviate.classes.query import MetadataQuery\n",
    "collection = client.collections.get(\"citizens_info_docs\")\n",
    "question = f\"What do I do if my neighbour is having a party\"\n",
    "question_output = model.encode(question).tolist()\n",
    "\n",
    "response = collection.query.near_vector(\n",
    "    near_vector=question_output,  # Pass the list of vectors\n",
    "    target_vector='default', \n",
    "    return_properties=['body', 'title'],\n",
    "    limit=2,\n",
    "    return_metadata=MetadataQuery(distance=True)\n",
    ")\n",
    "\n",
    "for o in response.objects:\n",
    "    print(o.properties)\n",
    "    print(o.metadata.distance)"
   ]
  },
  {
   "cell_type": "code",
   "execution_count": null,
   "metadata": {},
   "outputs": [],
   "source": [
    "from weaviate.classes.query import MetadataQuery\n",
    "collection = client.collections.get(\"citizens_info_docs\")\n",
    "question = f\"How do I apply for maternity leave\"\n",
    "question_output = model.encode(question).tolist()\n",
    "\n",
    "response = collection.query.near_vector(\n",
    "    near_vector=question_output,  # Pass the list of vectors\n",
    "    target_vector='default', \n",
    "    return_properties=['body', 'title'],\n",
    "    limit=2,\n",
    "    return_metadata=MetadataQuery(distance=True)\n",
    ")\n",
    "\n",
    "for o in response.objects:\n",
    "    print(o.properties)\n",
    "    print(o.metadata.distance)"
   ]
  },
  {
   "cell_type": "code",
   "execution_count": null,
   "metadata": {},
   "outputs": [],
   "source": [
    "from weaviate.classes.query import MetadataQuery\n",
    "collection = client.collections.get(\"citizens_info_docs\")\n",
    "question = f\"How do I ship from the UK\"\n",
    "question_output = model.encode(question).tolist()\n",
    "\n",
    "response = collection.query.near_vector(\n",
    "    near_vector=question_output,  # Pass the list of vectors\n",
    "    target_vector='default', \n",
    "    return_properties=['body', 'title'],\n",
    "    limit=2,\n",
    "    return_metadata=MetadataQuery(distance=True)\n",
    ")\n",
    "\n",
    "for o in response.objects:\n",
    "    print(o.properties)\n",
    "    print(o.metadata.distance)"
   ]
  }
 ],
 "metadata": {
  "kernelspec": {
   "display_name": "m_enmb",
   "language": "python",
   "name": "python3"
  },
  "language_info": {
   "codemirror_mode": {
    "name": "ipython",
    "version": 3
   },
   "file_extension": ".py",
   "mimetype": "text/x-python",
   "name": "python",
   "nbconvert_exporter": "python",
   "pygments_lexer": "ipython3",
   "version": "3.11.8"
  }
 },
 "nbformat": 4,
 "nbformat_minor": 2
}
