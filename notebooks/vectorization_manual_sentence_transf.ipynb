{
 "cells": [
  {
   "cell_type": "code",
   "execution_count": 1,
   "metadata": {},
   "outputs": [
    {
     "name": "stderr",
     "output_type": "stream",
     "text": [
      "/root/miniconda3/envs/m_enmb/lib/python3.11/site-packages/tqdm/auto.py:21: TqdmWarning: IProgress not found. Please update jupyter and ipywidgets. See https://ipywidgets.readthedocs.io/en/stable/user_install.html\n",
      "  from .autonotebook import tqdm as notebook_tqdm\n"
     ]
    }
   ],
   "source": [
    "import weaviate\n",
    "import weaviate.classes as wvc\n",
    "import os\n",
    "from dotenv import load_dotenv\n",
    "from weaviate.classes.config import Property, DataType\n",
    "from langchain_community.document_loaders import PyPDFLoader\n",
    "from langchain_text_splitters import CharacterTextSplitter\n",
    "from sklearn.metrics.pairwise import cosine_similarity\n",
    "from sentence_transformers import SentenceTransformer\n",
    "\n",
    "import torch.nn.functional as F\n",
    "\n",
    "load_dotenv()\n",
    "openai_api_key = os.getenv(\"OPENAI_KEY\")\n",
    "\n",
    "cwd = os.getcwd()\n",
    "parent_dir = os.path.dirname(cwd)\n",
    "os.chdir(parent_dir)\n",
    "\n",
    "client = weaviate.connect_to_local(\n",
    "    port=8080,\n",
    "    grpc_port=50051,\n",
    "    additional_config=weaviate.config.AdditionalConfig(timeout=(60, 180)),\n",
    "    headers={\n",
    "        \"X-OpenAI-Api-Key\": openai_api_key  # Replace with your inference API key\n",
    "    }\n",
    ")\n",
    "path_to_pdf = 'pdf_docs'\n",
    "\n",
    "documents_text = []\n",
    "\n",
    "for doc in os.listdir(path_to_pdf):\n",
    "\n",
    "    doc_path = f'{path_to_pdf}/{doc}'\n",
    "    loader = PyPDFLoader(doc_path)\n",
    "    pages = loader.load_and_split()\n",
    "    text_splitter = CharacterTextSplitter(chunk_size = 1000, chunk_overlap = 100)\n",
    "    docs = text_splitter.split_documents(pages)\n",
    "    documents_text.append(docs)\n",
    "\n",
    "documents_text = [item for sublist in documents_text for item in sublist]"
   ]
  },
  {
   "cell_type": "code",
   "execution_count": 2,
   "metadata": {},
   "outputs": [],
   "source": [
    "model = SentenceTransformer('sentence-transformers/all-MiniLM-L6-v2')\n",
    "\n",
    "body_vectors = []\n",
    "for d in documents_text:\n",
    "    body = d.page_content\n",
    "    embeddings = model.encode(body)\n",
    "    body_vectors.append(embeddings)\n",
    "\n",
    "document_objs = list()\n",
    "for d in documents_text:\n",
    "    # Extract data from each document\n",
    "    title = d.metadata['source']\n",
    "    page = str(d.metadata['page'])  # page number to string\n",
    "    body = d.page_content\n",
    "\n",
    "    # Prepare properties for the data object\n",
    "    document_objs.append({\n",
    "        \"page\": page,\n",
    "        \"title\": title,\n",
    "        \"body\": body\n",
    "    })"
   ]
  },
  {
   "cell_type": "code",
   "execution_count": 3,
   "metadata": {},
   "outputs": [],
   "source": [
    "client.collections.delete(\"citizens_info_docs\") \n",
    "client.collections.create(\n",
    "    \"citizens_info_docs\",\n",
    "\n",
    "    properties=[  \n",
    "        Property(name=\"page\", data_type=DataType.TEXT),\n",
    "        Property(name=\"title\", data_type=DataType.TEXT),\n",
    "        Property(name=\"body\", data_type=DataType.TEXT),\n",
    "    ]\n",
    ")\n",
    "\n",
    "collection = client.collections.get(\"citizens_info_docs\")\n",
    "\n",
    "with collection.batch.dynamic() as batch:\n",
    "    for i, data_row in enumerate(document_objs):\n",
    "        batch.add_object(\n",
    "            # print(data_row),\n",
    "            properties=data_row,\n",
    "            vector = body_vectors[i].tolist(),\n",
    "        )"
   ]
  },
  {
   "cell_type": "code",
   "execution_count": 4,
   "metadata": {},
   "outputs": [],
   "source": [
    "data_object = collection.query.fetch_objects(\n",
    "    include_vector=True  # Specify names of the vectors to include\n",
    ")"
   ]
  },
  {
   "cell_type": "code",
   "execution_count": 5,
   "metadata": {},
   "outputs": [
    {
     "name": "stdout",
     "output_type": "stream",
     "text": [
      "{'title': 'pdf_docs/Noise pollution and noise complaints.pdf', 'body': 'If your pet is distressed by ﬁreworks, dogstrust.ie have ﬁrework advice and resources available.\\nNoise from homes\\nDomes\\x00c noise is noise from a domes\\x00c se\\x00ng, like a home. Depending on the cause of the noise, you will\\ncomplain in a diﬀerent way. This is outlined below.\\nIf the noise is coming from a person’s home, the Gardaí can ask them to lower noise but they can’t enter the\\nproperty with the sole inten\\x00on of asking them to lower the noise.\\nIf the noise con\\x00nues, you can complain to the District Court (see above).\\nThere is useful informa\\x00on in the leaﬂet on neighbour disputes (pdf) published by FLAC, the Free Legal Advice\\nCentres.\\nNoise from rented proper\\x00es\\nIf there is noise coming from a rented home, you should approach the tenant ﬁrst and ask them to lower the\\nnoise. If this doesn’t work, you can complain to the landlord. This may be a:\\nPrivate landlord\\nLocal authority\\nHousing associa\\x00on\\nPeople who are ren\\x00ng from private landlords or housing associa\\x00ons have certain obliga\\x00ons. These include\\nnot engaging in an\\x00-social behaviour, which includes persistent noise that aﬀects others around them.\\nYou can complain to the Residen\\x00al Tenancies Board (RTB) if a private landlord or housing associa\\x00on doesn’t\\nenforce these obliga\\x00ons.\\nIf the tenant is ren\\x00ng from a local authority housing, they must avoid causing any nuisance such as noise to\\nother proper\\x00es around you. If they do make excessive and persistent noise, they are breaking the tenancy\\nagreement and the local authority can take steps to make sure they follow the terms of the agreement. You can\\nread the legisla\\x00on on noise from rented proper\\x00es.\\nNoise from alarms\\nAll alarm installers must have licences from the Private Security Authority. To get a licence, they have to follow\\ncertain standards. This includes a limit on the length of \\x00me an external alarm can sound for – the maximum\\nunder the European standard is 15 minutes.\\nThe local authority, the EPA or an individual may take ac\\x00on under the EPA Act to deal with breaches of these\\nstandards.\\nYou can read about car alarms in the Noise from transport sec\\x00on below.\\nNoise from dogs\\nIf your neighbour’s dog is barking, you should go to your neighbour directly to try resolve the issue. If this\\ndoesn’t work, you can complain to the District Court.\\nYou can do this by comple\\x00ng a Sec\\x00on 108 Form, which you can get from your local authority or District\\nCourt. Before you do this, you must let the dog owner know that you are making a complaint.\\nTo deal with noise from a dog, the Court can:'}\n",
      "0.6026598215103149\n",
      "{'title': 'pdf_docs/Noise pollution and noise complaints.pdf', 'body': 'Noise pollu\\x00on and noise complaints\\nWhat is noise pollu\\x00on?\\nWho do I complain to about noise pollu\\x00on?\\nHow to make a noise complaint\\nWhat is environmental noise?\\nNoise from homes\\nNoise from entertainment venues and events\\nNoise from transport\\nCommercial or industrial noise\\nPlanning permission and noise complaints\\nFurther informa\\x00on and contacts\\nWhat is noise pollu\\x00on?\\nNoise pollu\\x00on can come from diﬀerent sources, and can be broadly deﬁned as noise which:\\nIs considered a nuisance\\nIs dangerous to human health\\nCould damage property\\nCould damage the environment\\nThere are no universal noise standard laws that apply in Ireland but your local authority may refer to par\\x00cular\\nnoise standards.\\nNoise pollu\\x00on is outlined in the Environmental Protec\\x00on Agency Act 1992.\\nWho do I complain to about noise pollu\\x00on?\\nWhile the law does not men\\x00on an exact level or standard of noise that is illegal, if noise is aﬀec\\x00ng your\\nquality of life, then you have a right to complain. Who you complain to depends on the source of the noise.\\nYour ﬁrst step should generally be to contact the person causing the noise to try to ﬁx the issue. If this doesn’t\\nwork, you can take the necessary next steps to make your complaint.\\nThere are diﬀerent bodies who deal with these complaints, but the 2 main places to make your complaints are:\\nLocal authori\\x00es\\nThe District Court\\nLocal authori\\x00es\\nYou can report a noise nuisance to the Environment Sec\\x00on of your local authority, who can take ac\\x00ons to\\nprevent or limit noise.\\nRead more detail about the role of the local authori\\x00es in noise complaints.\\nDistrict Court\\nIf you are s\\x00ll concerned about excessive noise, you can make a formal complaint to the District Court. This\\nshould be the last step you take to resolving the issue. This is outlined in regula\\x00ons made under the Act.\\nYou can get a complaint form in your local district court oﬃce and will have to pay a fee to process the\\ncomplaint.'}\n",
      "0.6757621169090271\n"
     ]
    }
   ],
   "source": [
    "from weaviate.classes.query import MetadataQuery\n",
    "collection = client.collections.get(\"citizens_info_docs\")\n",
    "question = f\"What do I do if my neighbour is having a party\"\n",
    "question_output = model.encode(question).tolist()\n",
    "\n",
    "response = collection.query.near_vector(\n",
    "    near_vector=question_output,  # Pass the list of vectors\n",
    "    target_vector='default', \n",
    "    return_properties=['body', 'title'],\n",
    "    limit=2,\n",
    "    return_metadata=MetadataQuery(distance=True)\n",
    ")\n",
    "\n",
    "for o in response.objects:\n",
    "    print(o.properties)\n",
    "    print(o.metadata.distance)"
   ]
  },
  {
   "cell_type": "code",
   "execution_count": 6,
   "metadata": {},
   "outputs": [
    {
     "name": "stdout",
     "output_type": "stream",
     "text": [
      "{'title': 'pdf_docs/Pregnancy and social welfare payments.pdf', 'body': \"4/12/24, 2:46 PM Pregnancy and social welfare payments\\nhttps://www.citizensinformation.ie/en/social-welfare/families-and-children/pregnancy-and-social-welfare-payments/#5011b8 1/3Pregnancy and social welfare payments\\nIntroduc\\x00on\\nPregnancy and jobseeker's payments\\nPregnancy and Illness Beneﬁt\\nPregnancy and One-Parent Family Payment\\nPregnancy and employment schemes\\nIntroduc\\x00on\\nIf you are pregnant and ge\\x00ng a social welfare payment, you may be able to con\\x00nue to get your\\npayment as long as you sa\\x00sfy the condi\\x00ons, or transfer to another payment that be\\x00er suits your\\nneeds.\\nThis page explains how pregnancy is treated if you are ge\\x00ng Jobseeker’s Beneﬁt, Jobseeker’s\\nAllowance, Illness Beneﬁt, One-Parent Family Payment or are on an employment scheme.\\nPregnancy and Maternity Beneﬁt\\nIf you are on maternity leave from work and have paid enough social insurance (PRSI), you can get\\nMaternity Beneﬁt. You should apply for Maternity Beneﬁt at least 6 weeks before you plan to go on\\nmaternity leave or 12 weeks if you are self-employed.\\nIf you don’t qualify for Maternity Beneﬁt, you may be able to stay on your current payment or you\\nmay qualify for another payment.\\nWorking family payment\\nIf you are on maternity leave from work, you may get the Working Family Payment (WFP) with your\\nMaternity Beneﬁt if you meet the condi\\x00ons for the WFP. If you are pregnant and have no other\\nchildren, you will not qualify for WFP un\\x00l your baby is born.\\nPregnancy and jobseeker's payments\\nIf you are pregnant, and claiming Jobseeker’s Beneﬁt or Jobseeker's Allowance, you can con\\x00nue to\\nget your payment. You are considered capable of work unless you have complica\\x00ons during your\\npregnancy, or you are ill.\\nYou must be available for and genuinely seeking work to get a jobseeker's payment. This means that\\nyou must con\\x00nue to look for work throughout your pregnancy.\\nYou do not have to sign-on at your local Social Welfare or Intreo oﬃce 4 weeks before your baby is\\ndue to be born and for 8 weeks a\\x00er the birth. You also do not have to prove that you are seeking\\nwork. You must tell your Intreo Centre or local Social Welfare Branch Oﬃce about your pregnancy.\\nYour Jobseeker’s Beneﬁt will only be paid for the number of weeks remaining on your claim. If you\\nno longer qualify for Jobseeker’s Beneﬁt, you can apply for Jobseeker’s Allowance. The rules for\\nJobseeker's Allowance are similar to Jobseeker's Beneﬁt but you will have to pass a means test.\\nIncrease for a qualiﬁed child\\nWhen your baby is born, you may qualify for an increase in your Jobseeker’s Beneﬁt or Allowance for\\nyour child. If you are paren\\x00ng alone, you may qualify for the One-Parent Family Payment.\"}\n",
      "0.47678685188293457\n",
      "{'title': 'pdf_docs/Pregnancy and social welfare payments.pdf', 'body': '4/12/24, 2:46 PM Pregnancy and social welfare payments\\nhttps://www.citizensinformation.ie/en/social-welfare/families-and-children/pregnancy-and-social-welfare-payments/#5011b8 3/3If you are taking part in an employment scheme you have the full range of statutory employment\\nrights including maternity leave.\\nIf you become pregnant while on an employment scheme (Community Employment, Rural Social\\nScheme, Tús and Gateway schemes) you are en\\x00tled to take 26 weeks’ maternity leave including an\\naddi\\x00onal 16 weeks of op\\x00onal unpaid leave. If possible, you will be supported to complete your 52\\nweeks of paid work on the same or another project when you ﬁnish your maternity leave.\\nYou should discuss with your sponsor the payment you qualify for while you are on maternity leave.\\nYou may qualify for Maternity Beneﬁt if you have enough PRSI contribu\\x00ons. Otherwise, if your\\nspouse or partner is ge\\x00ng a social welfare payment, you may get a qualiﬁed adult increase on their\\npayment.\\nPage edited: 21 September 2023\\nManage cookie preferences\\nManage preferences'}\n",
      "0.4874499440193176\n"
     ]
    }
   ],
   "source": [
    "from weaviate.classes.query import MetadataQuery\n",
    "collection = client.collections.get(\"citizens_info_docs\")\n",
    "question = f\"How do I apply for maternity leave\"\n",
    "question_output = model.encode(question).tolist()\n",
    "\n",
    "response = collection.query.near_vector(\n",
    "    near_vector=question_output,  # Pass the list of vectors\n",
    "    target_vector='default', \n",
    "    return_properties=['body', 'title'],\n",
    "    limit=2,\n",
    "    return_metadata=MetadataQuery(distance=True)\n",
    ")\n",
    "\n",
    "for o in response.objects:\n",
    "    print(o.properties)\n",
    "    print(o.metadata.distance)"
   ]
  },
  {
   "cell_type": "code",
   "execution_count": 7,
   "metadata": {},
   "outputs": [
    {
     "name": "stdout",
     "output_type": "stream",
     "text": [
      "{'title': 'pdf_docs/Shipping your personal belongings back to Ireland.pdf', 'body': '4/17/24, 8:43 AM Shipping your personal belongings back to Ireland\\nhttps://www.citizensinformation.ie/en/returning-to-ireland/planning-your-journey-home/shipping-your-belongings-back-to-ireland/ 4/5If you are travelling from the UK to Ireland with your belongings via passenger ferry, go to customs\\nwhen you arrive at the port.\\nFreight ferry\\nIf shipping your belongings by freight ferry, you must give the ferry company your ‘Pre-Boarding\\nNo\\x00ﬁca\\x00on (PBN) ID’. You can get your PBN ID from Revenue – simply request it when sending your\\ncompleted ‘Transfer of residence’ form. See ‘Moving to Ireland from outside the EU’ above.\\nRead more in Revenue’s guide to the procedure at importa\\x00on.\\nHow do I bring my car to Ireland?\\nIf you bring your vehicle to Ireland, you must register the vehicle at a Na\\x00onal Car Tes\\x00ng Service\\n(NCTS) centre. You may also have to pay Vehicle Registra\\x00on Tax (VRT).\\nIf you’re impor\\x00ng a car or small van, the amount of VRT you pay is based on a percentage of its\\nrecommended retail price, including all taxes. This is known as the Open Market Selling Price\\n(OMSP). Use Revenue’s VRT calculator to es\\x00mate how much VRT you will pay.\\nYou can claim a relief from VRT if:\\nYou are transferring your residence to Ireland (moving here permanently)\\nYou were using the vehicle for more than 6 months before you moved to Ireland\\nIn this case, you must s\\x00ll register your vehicle, but you do not have to pay VRT.\\nIf you are exempt from paying VRT, you cannot sell your vehicle for 12 months a\\x00er the vehicle is\\nregistered. If you are not exempt from paying VRT, you can sell your vehicle in Ireland once it has\\nbeen registered.\\nSee how to claim this tax relief in our page Bringing your vehicle to Ireland.\\nShould I insure my items?\\nAs items can be damaged during shipping, it is important to insure your belongings.\\nMany shipping companies oﬀer insurance in their packages. If you take out an insurance policy,\\ncheck what items are covered and in what circumstances.\\nIf you hire the shipping company to wrap your belongings and pack the container on your behalf,\\nkeep a detailed list of every item you are shipping. Keep any relevant receipts and sales invoices for\\nthe items too.\\nMore informa\\x00on\\nYou can ﬁnd more informa\\x00on about shipping belongings to Ireland from outside the EU on\\nRevenue’s website.\\nCustoms Informa\\x00on Oﬃce\\nNew Custom House\\nPromenade Road'}\n",
      "0.5459630489349365\n",
      "{'title': 'pdf_docs/Shipping your personal belongings back to Ireland.pdf', 'body': '4/17/24, 8:43 AM Shipping your personal belongings back to Ireland\\nhttps://www.citizensinformation.ie/en/returning-to-ireland/planning-your-journey-home/shipping-your-belongings-back-to-ireland/ 1/5Shipping your personal belongings back to Ireland\\nIntroduc\\x00on\\nHow much does it cost to ship belongings to Ireland?\\nDo I have to pay customs duty or tax?\\nClaim relief from customs duty and VAT\\nWhat documents do I need when shipping my items?\\nHow do I bring my car to Ireland?\\nShould I insure my items?\\nMore informa\\x00on\\nIntroduc\\x00on\\nIf you’re returning to Ireland, you may want to move your belongings home too.\\nYou can send smaller items by courier or post, but you should tell Revenue about this in advance.\\nYou will need a shipping container if you are returning with bigger items, such as furniture or cars.\\nThere are many interna\\x00onal shipping services available. Do your research and shop around for the\\ncompany that best suits your needs.\\nHow much does it cost to ship belongings to Ireland?\\nThe cost of shipping your belongings to Ireland depends on their size, weight and shape. It also\\ndepends on the distance you are shipping them. You may also have to pay du\\x00es and tax on your\\nitems when shipping them home.\\nTo give you a quote, your chosen shipping company will need an es\\x00mate of the size of your goods,\\nin cubic meters or feet.\\nIf something is an irregular shape, try to measure it in small, regular-shaped parts and then add the\\nparts together. For example, if measuring a chair, measure the base and the back separately, then\\nadd the totals together.\\nHow to measure your items in cubic metres\\n1. Measure the length, width and height of your belongings in cen\\x00metres\\n2. Mul\\x00ply the length, width, and height together (L x W x H)\\n3. Divide your total by 1,000,000\\nYour answer is the size (also called the ‘volume’ or ‘capacity’) of your belongings in cubic metres.\\nHow to measure your items in cubic feet\\n1. Measure the length, width and height of your belongings in inches\\n2. Mul\\x00ply the length, width, and height together (L x W x H)\\n3. Divide your total by 1,728 (this is because there are 1,728 cubic inches in a cubic foot)\\nYour answer is the size (‘volume’ or ‘capacity’) of your belongings in cubic feet.\\nChoose a ‘Full Container Load’ or ‘Less than Container Load’'}\n",
      "0.5814448595046997\n"
     ]
    }
   ],
   "source": [
    "from weaviate.classes.query import MetadataQuery\n",
    "collection = client.collections.get(\"citizens_info_docs\")\n",
    "question = f\"How do I ship from the UK\"\n",
    "question_output = model.encode(question).tolist()\n",
    "\n",
    "response = collection.query.near_vector(\n",
    "    near_vector=question_output,  # Pass the list of vectors\n",
    "    target_vector='default', \n",
    "    return_properties=['body', 'title'],\n",
    "    limit=2,\n",
    "    return_metadata=MetadataQuery(distance=True)\n",
    ")\n",
    "\n",
    "for o in response.objects:\n",
    "    print(o.properties)\n",
    "    print(o.metadata.distance)"
   ]
  }
 ],
 "metadata": {
  "kernelspec": {
   "display_name": "m_enmb",
   "language": "python",
   "name": "python3"
  },
  "language_info": {
   "codemirror_mode": {
    "name": "ipython",
    "version": 3
   },
   "file_extension": ".py",
   "mimetype": "text/x-python",
   "name": "python",
   "nbconvert_exporter": "python",
   "pygments_lexer": "ipython3",
   "version": "3.11.8"
  }
 },
 "nbformat": 4,
 "nbformat_minor": 2
}
