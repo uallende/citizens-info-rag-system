{
 "cells": [
  {
   "cell_type": "code",
   "execution_count": 1,
   "metadata": {},
   "outputs": [
    {
     "name": "stderr",
     "output_type": "stream",
     "text": [
      "/root/miniconda3/envs/m_enmb/lib/python3.11/site-packages/tqdm/auto.py:21: TqdmWarning: IProgress not found. Please update jupyter and ipywidgets. See https://ipywidgets.readthedocs.io/en/stable/user_install.html\n",
      "  from .autonotebook import tqdm as notebook_tqdm\n"
     ]
    }
   ],
   "source": [
    "import weaviate\n",
    "import weaviate.classes as wvc\n",
    "import os\n",
    "from dotenv import load_dotenv\n",
    "from weaviate.classes.config import Property, DataType\n",
    "from langchain_community.document_loaders import PyPDFLoader\n",
    "from langchain_text_splitters import CharacterTextSplitter\n",
    "from sklearn.metrics.pairwise import cosine_similarity\n",
    "from sentence_transformers import SentenceTransformer\n",
    "from weaviate.classes.query import MetadataQuery\n",
    "\n",
    "import torch.nn.functional as F\n",
    "\n",
    "cwd = os.getcwd()\n",
    "parent_dir = os.path.dirname(cwd)\n",
    "os.chdir(parent_dir)\n",
    "\n",
    "load_dotenv()\n",
    "openai_api_key = os.getenv(\"OPENAI_KEY\")\n",
    "\n",
    "client = weaviate.connect_to_local(\n",
    "    port=8080,\n",
    "    grpc_port=50051,\n",
    "    additional_config=weaviate.config.AdditionalConfig(timeout=(60, 180)),\n",
    "    headers={\n",
    "        \"X-OpenAI-Api-Key\": openai_api_key  # Replace with your inference API key\n",
    "    }\n",
    ")\n",
    "path_to_pdf = 'pdf_docs'\n",
    "\n",
    "documents_text = []\n",
    "\n",
    "for doc in os.listdir(path_to_pdf):\n",
    "\n",
    "    doc_path = f'{path_to_pdf}/{doc}'\n",
    "    loader = PyPDFLoader(doc_path)\n",
    "    pages = loader.load_and_split()\n",
    "    text_splitter = CharacterTextSplitter(chunk_size = 1000, chunk_overlap = 100)\n",
    "    docs = text_splitter.split_documents(pages)\n",
    "    documents_text.append(docs)\n",
    "\n",
    "documents_text = [item for sublist in documents_text for item in sublist]"
   ]
  },
  {
   "cell_type": "code",
   "execution_count": 2,
   "metadata": {},
   "outputs": [],
   "source": [
    "document_objs = list()\n",
    "for d in documents_text:\n",
    "    # Extract data from each document\n",
    "    title = d.metadata['source']\n",
    "    page = str(d.metadata['page'])  # page number to string\n",
    "    body = d.page_content\n",
    "\n",
    "    # Prepare properties for the data object\n",
    "    document_objs.append({\n",
    "        \"page\": page,\n",
    "        \"title\": title,\n",
    "        \"body\": body\n",
    "    })"
   ]
  },
  {
   "cell_type": "code",
   "execution_count": 3,
   "metadata": {},
   "outputs": [
    {
     "name": "stderr",
     "output_type": "stream",
     "text": [
      "Loading checkpoint shards: 100%|██████████| 3/3 [00:15<00:00,  5.22s/it]\n"
     ]
    }
   ],
   "source": [
    "from transformers import BitsAndBytesConfig, AutoModel, AutoTokenizer, BitsAndBytesConfig\n",
    "from torch.nn.functional import Tensor\n",
    "import torch\n",
    "\n",
    "bnb_config = BitsAndBytesConfig(\n",
    "    load_in_4bit=True,\n",
    "    bnb_4bit_use_double_quant=True,\n",
    "    bnb_4bit_quant_type=\"nf4\",\n",
    "    bnb_4bit_compute_dtype=torch.bfloat16\n",
    ")\n",
    "\n",
    "encoder = AutoModel.from_pretrained(\n",
    "    'Salesforce/SFR-Embedding-Mistral',\n",
    "    trust_remote_code=True,\n",
    "    device_map='auto',\n",
    "    torch_dtype=torch.bfloat16,\n",
    "    quantization_config=bnb_config\n",
    ")\n",
    "\n",
    "def last_token_pool(last_hidden_states: Tensor,\n",
    "                 attention_mask: Tensor) -> Tensor:\n",
    "    left_padding = (attention_mask[:, -1].sum() == attention_mask.shape[0])\n",
    "    if left_padding:\n",
    "        return last_hidden_states[:, -1]\n",
    "    else:\n",
    "        sequence_lengths = attention_mask.sum(dim=1) - 1\n",
    "        batch_size = last_hidden_states.shape[0]\n",
    "    return last_hidden_states[torch.arange(batch_size, device=last_hidden_states.device), sequence_lengths]"
   ]
  },
  {
   "cell_type": "code",
   "execution_count": 4,
   "metadata": {},
   "outputs": [],
   "source": [
    "tokenizer = AutoTokenizer.from_pretrained('Salesforce/SFR-Embedding-Mistral')\n",
    "max_length = 4096\n",
    "body_vectors = []\n",
    "title_vectors = []\n",
    "\n",
    "for d in documents_text:\n",
    "\n",
    "    body = d.page_content\n",
    "    title = d.metadata['source']\n",
    "    body_batch_dict = tokenizer(body, max_length=max_length, padding=True, truncation=True, return_tensors=\"pt\").to('cuda')\n",
    "    title_batch_dict = tokenizer(title, max_length=max_length, padding=True, truncation=True, return_tensors=\"pt\").to('cuda')\n",
    "    with torch.no_grad():\n",
    "        body_outputs = encoder(**body_batch_dict)\n",
    "        title_outputs = encoder(**title_batch_dict)\n",
    "    body_embs = last_token_pool(body_outputs.last_hidden_state, body_batch_dict['attention_mask'])[0].float().cpu().detach().numpy()\n",
    "    title_embs = last_token_pool(title_outputs.last_hidden_state, title_batch_dict['attention_mask'])[0].float().cpu().detach().numpy()\n",
    "\n",
    "    body_vectors.append(body_embs)\n",
    "    title_vectors.append(title_embs)\n",
    "\n",
    "torch.cuda.empty_cache()"
   ]
  },
  {
   "cell_type": "code",
   "execution_count": 5,
   "metadata": {},
   "outputs": [],
   "source": [
    "client.collections.delete(\"citizens_info_docs\") \n",
    "client.collections.create(\n",
    "    \"citizens_info_docs\",\n",
    "\n",
    "    properties=[  \n",
    "        Property(name=\"page\", data_type=DataType.TEXT),\n",
    "        Property(name=\"title\", data_type=DataType.TEXT),\n",
    "        Property(name=\"body\", data_type=DataType.TEXT),\n",
    "    ]\n",
    ")\n",
    "\n",
    "collection = client.collections.get(\"citizens_info_docs\")\n",
    "\n",
    "with collection.batch.dynamic() as batch:\n",
    "    for i, data_row in enumerate(document_objs):\n",
    "        batch.add_object(\n",
    "            properties=data_row,\n",
    "            vector = body_vectors[i].tolist(),\n",
    "        )"
   ]
  },
  {
   "cell_type": "code",
   "execution_count": 6,
   "metadata": {},
   "outputs": [],
   "source": [
    "data_object = collection.query.fetch_objects(\n",
    "    include_vector=True  # Specify names of the vectors to include\n",
    ")"
   ]
  },
  {
   "cell_type": "code",
   "execution_count": 7,
   "metadata": {},
   "outputs": [],
   "source": [
    "def convert_text_to_tokens(text:str, tokenizer, max_length):\n",
    "\n",
    "    batch_dict = tokenizer(text, max_length=max_length, padding=True, truncation=True, return_tensors=\"pt\").to('cuda')\n",
    "    output = encoder(**batch_dict)\n",
    "    embeddings = last_token_pool(output.last_hidden_state, batch_dict['attention_mask'])[0].float().cpu().detach().numpy()\n",
    "    return embeddings"
   ]
  },
  {
   "cell_type": "code",
   "execution_count": 8,
   "metadata": {},
   "outputs": [
    {
     "name": "stdout",
     "output_type": "stream",
     "text": [
      "{'title': 'pdf_docs/Noise pollution and noise complaints.pdf', 'body': 'If your pet is distressed by ﬁreworks, dogstrust.ie have ﬁrework advice and resources available.\\nNoise from homes\\nDomes\\x00c noise is noise from a domes\\x00c se\\x00ng, like a home. Depending on the cause of the noise, you will\\ncomplain in a diﬀerent way. This is outlined below.\\nIf the noise is coming from a person’s home, the Gardaí can ask them to lower noise but they can’t enter the\\nproperty with the sole inten\\x00on of asking them to lower the noise.\\nIf the noise con\\x00nues, you can complain to the District Court (see above).\\nThere is useful informa\\x00on in the leaﬂet on neighbour disputes (pdf) published by FLAC, the Free Legal Advice\\nCentres.\\nNoise from rented proper\\x00es\\nIf there is noise coming from a rented home, you should approach the tenant ﬁrst and ask them to lower the\\nnoise. If this doesn’t work, you can complain to the landlord. This may be a:\\nPrivate landlord\\nLocal authority\\nHousing associa\\x00on\\nPeople who are ren\\x00ng from private landlords or housing associa\\x00ons have certain obliga\\x00ons. These include\\nnot engaging in an\\x00-social behaviour, which includes persistent noise that aﬀects others around them.\\nYou can complain to the Residen\\x00al Tenancies Board (RTB) if a private landlord or housing associa\\x00on doesn’t\\nenforce these obliga\\x00ons.\\nIf the tenant is ren\\x00ng from a local authority housing, they must avoid causing any nuisance such as noise to\\nother proper\\x00es around you. If they do make excessive and persistent noise, they are breaking the tenancy\\nagreement and the local authority can take steps to make sure they follow the terms of the agreement. You can\\nread the legisla\\x00on on noise from rented proper\\x00es.\\nNoise from alarms\\nAll alarm installers must have licences from the Private Security Authority. To get a licence, they have to follow\\ncertain standards. This includes a limit on the length of \\x00me an external alarm can sound for – the maximum\\nunder the European standard is 15 minutes.\\nThe local authority, the EPA or an individual may take ac\\x00on under the EPA Act to deal with breaches of these\\nstandards.\\nYou can read about car alarms in the Noise from transport sec\\x00on below.\\nNoise from dogs\\nIf your neighbour’s dog is barking, you should go to your neighbour directly to try resolve the issue. If this\\ndoesn’t work, you can complain to the District Court.\\nYou can do this by comple\\x00ng a Sec\\x00on 108 Form, which you can get from your local authority or District\\nCourt. Before you do this, you must let the dog owner know that you are making a complaint.\\nTo deal with noise from a dog, the Court can:'}\n",
      "0.3146440386772156\n",
      "{'title': 'pdf_docs/Noise pollution and noise complaints.pdf', 'body': 'When gran\\x00ng planning permission for a building, the local authority can include condi\\x00ons to prevent or\\nreduce noise. These condi\\x00ons can relate to the construc\\x00on or building phase and/or to the use of the\\nbuilding when it is complete.\\nYou can appeal to An Bord Pleanála against these requirements (or the absence of them).\\nFurther informa\\x00on and contacts\\nContact your local authority for more informa\\x00on on noise complaints.\\nContact your local Garda sta\\x00on.\\nEnvironmental Protec\\x00on Agency\\nPO Box 3000\\nJohnstown Castle Estate\\nWexford\\nIreland\\nTel: (053) 916 0600\\nLocall: 0818 33 55 99\\nFax: (053) 916 0699\\nHomepage: h\\x00p://www.epa.ie\\nEmail: info@epa.ie\\nTransport Infrastructure Ireland\\nParkgate Business Centre\\nParkgate Street\\nDublin 8\\nIreland\\nTel: +353 1 646 3600\\nHomepage: h\\x00p://www.\\x00i.ie\\nEmail: info@\\x00i.ie\\nResiden\\x00al Tenancies Board\\nPO Box 47\\nClonakilty\\nCo. Cork\\nIreland\\nOpening Hours: 9am to 5pm\\nTel: 0818 303 037 or 01 702 8100\\nFax: 0818 303 039\\nHomepage: h\\x00p://www.rtb.ie/\\nPage edited: 2 February 2024\\nManage cookie preferences\\nManage preferences'}\n",
      "0.3323918581008911\n"
     ]
    }
   ],
   "source": [
    "collection = client.collections.get(\"citizens_info_docs\")\n",
    "question = f\"What do I do if my neighbour is having a party\"\n",
    "question_embeddings = convert_text_to_tokens(question, tokenizer, max_length)\n",
    "\n",
    "response = collection.query.near_vector(\n",
    "    near_vector=question_embeddings.tolist(),  # Pass the list of vectors\n",
    "    target_vector='default', \n",
    "    return_properties=['body', 'title'],\n",
    "    limit=2,\n",
    "    return_metadata=MetadataQuery(distance=True)\n",
    ")\n",
    "\n",
    "for o in response.objects:\n",
    "    print(o.properties)\n",
    "    print(o.metadata.distance)"
   ]
  },
  {
   "cell_type": "code",
   "execution_count": 9,
   "metadata": {},
   "outputs": [
    {
     "name": "stdout",
     "output_type": "stream",
     "text": [
      "{'title': 'pdf_docs/Shipping your personal belongings back to Ireland.pdf', 'body': '4/17/24, 8:43 AM Shipping your personal belongings back to Ireland\\nhttps://www.citizensinformation.ie/en/returning-to-ireland/planning-your-journey-home/shipping-your-belongings-back-to-ireland/ 5/5Dublin\\nIreland\\nHomepage: h\\x00ps://www.revenue.ie/en/contact-us/index.aspx\\nPage edited: 12 January 2024\\nManage cookie preferences\\nManage preferences'}\n",
      "0.2523820400238037\n",
      "{'title': 'pdf_docs/Shipping your personal belongings back to Ireland.pdf', 'body': '4/17/24, 8:43 AM Shipping your personal belongings back to Ireland\\nhttps://www.citizensinformation.ie/en/returning-to-ireland/planning-your-journey-home/shipping-your-belongings-back-to-ireland/ 1/5Shipping your personal belongings back to Ireland\\nIntroduc\\x00on\\nHow much does it cost to ship belongings to Ireland?\\nDo I have to pay customs duty or tax?\\nClaim relief from customs duty and VAT\\nWhat documents do I need when shipping my items?\\nHow do I bring my car to Ireland?\\nShould I insure my items?\\nMore informa\\x00on\\nIntroduc\\x00on\\nIf you’re returning to Ireland, you may want to move your belongings home too.\\nYou can send smaller items by courier or post, but you should tell Revenue about this in advance.\\nYou will need a shipping container if you are returning with bigger items, such as furniture or cars.\\nThere are many interna\\x00onal shipping services available. Do your research and shop around for the\\ncompany that best suits your needs.\\nHow much does it cost to ship belongings to Ireland?\\nThe cost of shipping your belongings to Ireland depends on their size, weight and shape. It also\\ndepends on the distance you are shipping them. You may also have to pay du\\x00es and tax on your\\nitems when shipping them home.\\nTo give you a quote, your chosen shipping company will need an es\\x00mate of the size of your goods,\\nin cubic meters or feet.\\nIf something is an irregular shape, try to measure it in small, regular-shaped parts and then add the\\nparts together. For example, if measuring a chair, measure the base and the back separately, then\\nadd the totals together.\\nHow to measure your items in cubic metres\\n1. Measure the length, width and height of your belongings in cen\\x00metres\\n2. Mul\\x00ply the length, width, and height together (L x W x H)\\n3. Divide your total by 1,000,000\\nYour answer is the size (also called the ‘volume’ or ‘capacity’) of your belongings in cubic metres.\\nHow to measure your items in cubic feet\\n1. Measure the length, width and height of your belongings in inches\\n2. Mul\\x00ply the length, width, and height together (L x W x H)\\n3. Divide your total by 1,728 (this is because there are 1,728 cubic inches in a cubic foot)\\nYour answer is the size (‘volume’ or ‘capacity’) of your belongings in cubic feet.\\nChoose a ‘Full Container Load’ or ‘Less than Container Load’'}\n",
      "0.2586316466331482\n"
     ]
    }
   ],
   "source": [
    "collection = client.collections.get(\"citizens_info_docs\")\n",
    "question = f\"What is the cheapeast way to return back to Ireland\"\n",
    "question_embeddings = convert_text_to_tokens(question, tokenizer, max_length)\n",
    "\n",
    "response = collection.query.near_vector(\n",
    "    near_vector=question_embeddings.tolist(),  # Pass the list of vectors\n",
    "    target_vector='default', \n",
    "    return_properties=['body', 'title'],\n",
    "    limit=2,\n",
    "    return_metadata=MetadataQuery(distance=True)\n",
    ")\n",
    "\n",
    "for o in response.objects:\n",
    "    print(o.properties)\n",
    "    print(o.metadata.distance)"
   ]
  }
 ],
 "metadata": {
  "kernelspec": {
   "display_name": "cit",
   "language": "python",
   "name": "python3"
  },
  "language_info": {
   "codemirror_mode": {
    "name": "ipython",
    "version": 3
   },
   "file_extension": ".py",
   "mimetype": "text/x-python",
   "name": "python",
   "nbconvert_exporter": "python",
   "pygments_lexer": "ipython3",
   "version": "3.11.8"
  }
 },
 "nbformat": 4,
 "nbformat_minor": 2
}
