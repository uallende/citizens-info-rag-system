{
 "cells": [
  {
   "cell_type": "code",
   "execution_count": 1,
   "metadata": {},
   "outputs": [],
   "source": [
    "## NEED TO SPIN UP THE WEAVIATE CONTAINER FIRST (docker-compose up)\n",
    "import weaviate\n",
    "import weaviate.classes as wvc\n",
    "import os\n",
    "import requests\n",
    "import json\n",
    "from dotenv import load_dotenv\n",
    "\n",
    "load_dotenv()\n",
    "openai_api_key = os.getenv(\"OPENAI_KEY\")\n",
    "\n",
    "client = weaviate.connect_to_local(\n",
    "    port=8080,\n",
    "    grpc_port=50051,\n",
    "    additional_config=weaviate.config.AdditionalConfig(timeout=(10, 25)),\n",
    "    headers={\n",
    "        \"X-OpenAI-Api-Key\": openai_api_key  # Replace with your inference API key\n",
    "    }\n",
    ")"
   ]
  },
  {
   "cell_type": "code",
   "execution_count": 2,
   "metadata": {},
   "outputs": [],
   "source": [
    "questions = client.collections.create(\n",
    "    name=\"Question\",\n",
    "    vectorizer_config=wvc.config.Configure.Vectorizer.text2vec_openai(),  # If set to \"none\" you must always provide vectors yourself. Could be any other \"text2vec-*\" also.\n",
    "    generative_config=wvc.config.Configure.Generative.openai()  # Ensure the `generative-openai` module is used for generative queries\n",
    ")"
   ]
  },
  {
   "cell_type": "code",
   "execution_count": 3,
   "metadata": {},
   "outputs": [
    {
     "data": {
      "text/plain": [
       "BatchObjectReturn(all_responses=[UUID('68fab113-99bf-42f3-b4cb-033ae93afb26'), UUID('fb606e50-ed78-4a18-a2e8-83496b6a02cd'), UUID('324a4d24-6ddc-4468-befd-dc591c16ab09'), UUID('d3be47a4-b6e0-4d9c-97f8-5c995ae989ef'), UUID('b7f85617-e5c9-4063-be2f-e018bead71e9'), UUID('18e4a4f8-a62f-4565-9eff-7c975758a298'), UUID('6072f010-9b41-49d4-a193-147f5d642714'), UUID('2cdcc266-301c-4bdb-9e65-d00b859b4386'), UUID('4298ab2d-4082-413a-8ad6-d76e60dd2b64'), UUID('a28b10df-df9d-42b5-ac65-dbddcced06c3')], elapsed_seconds=0.5401656627655029, errors={}, uuids={0: UUID('68fab113-99bf-42f3-b4cb-033ae93afb26'), 1: UUID('fb606e50-ed78-4a18-a2e8-83496b6a02cd'), 2: UUID('324a4d24-6ddc-4468-befd-dc591c16ab09'), 3: UUID('d3be47a4-b6e0-4d9c-97f8-5c995ae989ef'), 4: UUID('b7f85617-e5c9-4063-be2f-e018bead71e9'), 5: UUID('18e4a4f8-a62f-4565-9eff-7c975758a298'), 6: UUID('6072f010-9b41-49d4-a193-147f5d642714'), 7: UUID('2cdcc266-301c-4bdb-9e65-d00b859b4386'), 8: UUID('4298ab2d-4082-413a-8ad6-d76e60dd2b64'), 9: UUID('a28b10df-df9d-42b5-ac65-dbddcced06c3')}, has_errors=False)"
      ]
     },
     "execution_count": 3,
     "metadata": {},
     "output_type": "execute_result"
    }
   ],
   "source": [
    "resp = requests.get('https://raw.githubusercontent.com/weaviate-tutorials/quickstart/main/data/jeopardy_tiny.json')\n",
    "data = json.loads(resp.text)  # Load data\n",
    "\n",
    "question_objs = list()\n",
    "for i, d in enumerate(data):\n",
    "    question_objs.append({\n",
    "        \"answer\": d[\"Answer\"],\n",
    "        \"question\": d[\"Question\"],\n",
    "        \"category\": d[\"Category\"],\n",
    "    })\n",
    "\n",
    "questions = client.collections.get(\"Question\")\n",
    "questions.data.insert_many(question_objs)"
   ]
  },
  {
   "cell_type": "code",
   "execution_count": 10,
   "metadata": {},
   "outputs": [
    {
     "name": "stdout",
     "output_type": "stream",
     "text": [
      "{'answer': 'Sound barrier', 'question': 'In 70-degree air, a plane traveling at about 1,130 feet per second breaks it', 'category': 'SCIENCE'}\n"
     ]
    }
   ],
   "source": [
    "response = questions.query.near_text(\n",
    "    query=\"technology\",\n",
    "    limit=2\n",
    ")\n",
    "\n",
    "print(response.objects[0].properties)  # Inspect the first object"
   ]
  },
  {
   "cell_type": "code",
   "execution_count": 11,
   "metadata": {},
   "outputs": [
    {
     "name": "stdout",
     "output_type": "stream",
     "text": [
      "{'answer': 'the nose or snout', 'question': 'The gavial looks very much like a crocodile except for this bodily feature', 'category': 'ANIMALS'}\n"
     ]
    }
   ],
   "source": [
    "response = questions.query.near_text(\n",
    "    query=\"biology\",\n",
    "    limit=2,\n",
    "    filters=wvc.query.Filter.by_property(\"category\").equal(\"ANIMALS\")\n",
    ")\n",
    "\n",
    "print(response.objects[0].properties)  # Inspect the first object"
   ]
  },
  {
   "cell_type": "code",
   "execution_count": 14,
   "metadata": {},
   "outputs": [
    {
     "name": "stdout",
     "output_type": "stream",
     "text": [
      "DNA is like a recipe book that tells our bodies how to grow and work. It is made up of tiny instructions that are passed down from our parents and help make us who we are. Just like how a recipe tells you how to make a cake, DNA tells our bodies how to make us!\n"
     ]
    }
   ],
   "source": [
    "response = questions.generate.near_text(\n",
    "    query=\"biology\",\n",
    "    limit=2,\n",
    "    single_prompt=\"Explain {answer} as you might to a five-year-old.\"\n",
    ")\n",
    "\n",
    "print(response.objects[0].generated)  # Inspect the generated text"
   ]
  },
  {
   "cell_type": "code",
   "execution_count": 15,
   "metadata": {},
   "outputs": [
    {
     "name": "stdout",
     "output_type": "stream",
     "text": [
      "🧬 In 1953 Watson & Crick built a model of the molecular structure of DNA, the gene-carrying substance! 🧬🔬\n",
      "\n",
      "🐦 2000 news: the Gunnison sage grouse isn't just another northern sage grouse, but a new species! 🦆🌿 #ScienceFacts #DNA #SpeciesDiscovery\n"
     ]
    }
   ],
   "source": [
    "response = questions.generate.near_text(\n",
    "    query=\"biology\",\n",
    "    limit=2,\n",
    "    grouped_task=\"Write a tweet with emojis about these facts.\"\n",
    ")\n",
    "\n",
    "print(response.generated)  # Inspect the generated text"
   ]
  },
  {
   "cell_type": "code",
   "execution_count": 2,
   "metadata": {},
   "outputs": [],
   "source": [
    "# from langchain_community.document_loaders import PyPDFLoader\n",
    "# from langchain_community.embeddings import OllamaEmbeddings\n",
    "# from langchain_text_splitters import CharacterTextSplitter\n",
    "# from langchain_community.vectorstores import FAISS\n",
    "\n",
    "\n",
    "# embeddings = OllamaEmbeddings()\n",
    "\n",
    "# path_to_pdf = 'Pregnancy and social welfare payments.pdf'\n",
    "# loader = PyPDFLoader(path_to_pdf)\n",
    "# pages = loader.load_and_split()\n",
    "# text_splitter = CharacterTextSplitter(chunk_size = 1000, chunk_overlap = 100)\n",
    "# docs = text_splitter.split_documents(pages)\n",
    "# retriever = FAISS.from_documents(docs, embeddings).as_retriever()"
   ]
  }
 ],
 "metadata": {
  "kernelspec": {
   "display_name": "cit",
   "language": "python",
   "name": "python3"
  },
  "language_info": {
   "codemirror_mode": {
    "name": "ipython",
    "version": 3
   },
   "file_extension": ".py",
   "mimetype": "text/x-python",
   "name": "python",
   "nbconvert_exporter": "python",
   "pygments_lexer": "ipython3",
   "version": "3.10.14"
  }
 },
 "nbformat": 4,
 "nbformat_minor": 2
}
