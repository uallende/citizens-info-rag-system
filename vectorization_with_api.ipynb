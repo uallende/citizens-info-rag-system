{
 "cells": [
  {
   "cell_type": "code",
   "execution_count": 1,
   "metadata": {},
   "outputs": [],
   "source": [
    "import weaviate\n",
    "import weaviate.classes as wvc\n",
    "import os\n",
    "import requests\n",
    "import json\n",
    "from dotenv import load_dotenv\n",
    "from weaviate.classes.config import Configure, Property, DataType, Tokenization\n",
    "from langchain_community.document_loaders import PyPDFLoader\n",
    "from langchain_text_splitters import CharacterTextSplitter\n",
    "\n",
    "load_dotenv()\n",
    "openai_api_key = os.getenv(\"OPENAI_KEY\")\n",
    "\n",
    "client = weaviate.connect_to_local(\n",
    "    port=8080,\n",
    "    grpc_port=50051,\n",
    "    additional_config=weaviate.config.AdditionalConfig(timeout=(60, 180)),\n",
    "    headers={\n",
    "        \"X-OpenAI-Api-Key\": openai_api_key  # Replace with your inference API key\n",
    "    }\n",
    ")"
   ]
  },
  {
   "cell_type": "code",
   "execution_count": 2,
   "metadata": {},
   "outputs": [],
   "source": [
    "path_to_pdf = 'pdf_docs'\n",
    "\n",
    "documents_text = []\n",
    "\n",
    "for doc in os.listdir(path_to_pdf):\n",
    "\n",
    "    doc_path = f'{path_to_pdf}/{doc}'\n",
    "    loader = PyPDFLoader(doc_path)\n",
    "    pages = loader.load_and_split()\n",
    "    text_splitter = CharacterTextSplitter(chunk_size = 1000, chunk_overlap = 100)\n",
    "    docs = text_splitter.split_documents(pages)\n",
    "    documents_text.append(docs)\n",
    "\n",
    "documents_text = [item for sublist in documents_text for item in sublist]"
   ]
  },
  {
   "cell_type": "code",
   "execution_count": 3,
   "metadata": {},
   "outputs": [
    {
     "data": {
      "text/plain": [
       "[Document(page_content='4/17/24, 8:43 AM Shipping your personal belongings back to Ireland\\nhttps://www.citizensinformation.ie/en/returning-to-ireland/planning-your-journey-home/shipping-your-belongings-back-to-ireland/ 1/5Shipping your personal belongings back to Ireland\\nIntroduc\\x00on\\nHow much does it cost to ship belongings to Ireland?\\nDo I have to pay customs duty or tax?\\nClaim relief from customs duty and VAT\\nWhat documents do I need when shipping my items?\\nHow do I bring my car to Ireland?\\nShould I insure my items?\\nMore informa\\x00on\\nIntroduc\\x00on\\nIf you’re returning to Ireland, you may want to move your belongings home too.\\nYou can send smaller items by courier or post, but you should tell Revenue about this in advance.\\nYou will need a shipping container if you are returning with bigger items, such as furniture or cars.\\nThere are many interna\\x00onal shipping services available. Do your research and shop around for the\\ncompany that best suits your needs.\\nHow much does it cost to ship belongings to Ireland?\\nThe cost of shipping your belongings to Ireland depends on their size, weight and shape. It also\\ndepends on the distance you are shipping them. You may also have to pay du\\x00es and tax on your\\nitems when shipping them home.\\nTo give you a quote, your chosen shipping company will need an es\\x00mate of the size of your goods,\\nin cubic meters or feet.\\nIf something is an irregular shape, try to measure it in small, regular-shaped parts and then add the\\nparts together. For example, if measuring a chair, measure the base and the back separately, then\\nadd the totals together.\\nHow to measure your items in cubic metres\\n1. Measure the length, width and height of your belongings in cen\\x00metres\\n2. Mul\\x00ply the length, width, and height together (L x W x H)\\n3. Divide your total by 1,000,000\\nYour answer is the size (also called the ‘volume’ or ‘capacity’) of your belongings in cubic metres.\\nHow to measure your items in cubic feet\\n1. Measure the length, width and height of your belongings in inches\\n2. Mul\\x00ply the length, width, and height together (L x W x H)\\n3. Divide your total by 1,728 (this is because there are 1,728 cubic inches in a cubic foot)\\nYour answer is the size (‘volume’ or ‘capacity’) of your belongings in cubic feet.\\nChoose a ‘Full Container Load’ or ‘Less than Container Load’', metadata={'source': 'pdf_docs/Shipping your personal belongings back to Ireland.pdf', 'page': 0}),\n",
       " Document(page_content='4/17/24, 8:43 AM Shipping your personal belongings back to Ireland\\nhttps://www.citizensinformation.ie/en/returning-to-ireland/planning-your-journey-home/shipping-your-belongings-back-to-ireland/ 2/5The shipping company will ask if you want your goods to travel in a ‘Full Container Load’ (FCL) or a\\n‘Less than Container Load’ (LCL).\\nFCL means only your goods are in the container\\nLCL means your goods will travel in a shared container with other people’s belongings\\nMake sure to ask the interna\\x00onal shipping company what is included in the quote, such as\\naddi\\x00onal charges for VAT, or shipping insurance.\\nDo I have to pay customs duty or tax?\\nYou may have to pay customs duty, excise duty and Value Added Tax (VAT) on your items.\\nCustoms duty is a tax on the import of goods. It is normally calculated as a percentage of the goods’\\nvalue. For non-commercial goods, valued at €700 or less, you may get a standard rate of 2.5%.\\nExcise duty is a tax charged on the import of alcohol and tobacco products.\\nValue Added Tax (VAT) is a tax on the sale of goods and services. VAT is charged at the point of\\nimporta\\x00on, at the rate you would have paid if you bought the goods in Ireland. Use Revenue’s A-Z\\ndatabase of VAT rates to check the VAT rate on your belongings.\\nShipping from another EU country to Ireland\\nIf you’re shipping your personal belongings from an EU country, you do not have to pay any extra\\nValue Added Tax (VAT) or customs duty in Ireland. This is because you already paid VAT and duty in\\nthe EU member state where you bought the goods.\\nThere are some excep\\x00ons to this, such as when shipping a vehicle home. You may also have to pay\\nexcise duty on items such as alcohol and tobacco.\\nClaim relief from customs duty and VAT\\nIf you are shipping personal belongings home from outside the EU, you can claim relief from customs\\nduty and Value Added Tax (VAT) on your:\\nPersonal property and household goods, including items belonging to people you live with\\nBicycles, motorcycles, private cars, trailers, caravans, small boats and private aeroplanes\\nWedding presents valued up to €1,000 each, if you’re returning to Ireland a\\x00er ge\\x00ng married\\n(read more about shipping wedding-related items)\\nYou can’t get relief from customs duty and VAT for:\\nTobacco or alcohol exceeding your normal duty-free allowance\\nTools that are used in a trade (for business)\\nProperty being imported for commercial reasons, unless you are transferring your business to\\nIreland\\nTime limit to claim tax relief\\nTo be eligible for the relief, you must import your belongings to Ireland within the:\\n6 months before you move\\n12 months a\\x00er you move', metadata={'source': 'pdf_docs/Shipping your personal belongings back to Ireland.pdf', 'page': 1}),\n",
       " Document(page_content=\"4/17/24, 8:43 AM Shipping your personal belongings back to Ireland\\nhttps://www.citizensinformation.ie/en/returning-to-ireland/planning-your-journey-home/shipping-your-belongings-back-to-ireland/ 3/5There are stricter \\x00me limits if you are claiming relief when impor\\x00ng wedding clothes and presents.\\nHow to claim tax relief\\nYou must complete a ‘Transfer of Residence C and E 1076' form (pdf) to claim the relief. See ‘What\\ndocuments do I need?’ below for more informa\\x00on.\\nYou can visit Revenue’s website for more informa\\x00on on relief from Customs Duty and VAT. You can\\nalso check if your goods are banned or need a licence in Revenue’s guide on prohibited and\\nrestricted items (pdf).\\nWhat documents do I need when shipping my items?\\nDepending on where you’re shipping your goods from, you may need certain documenta\\x00on.\\nMoving to Ireland from within the EU\\nIf you are shipping personal goods (excluding vehicles) from another EU country to Ireland, you do\\nnot need to submit any documenta\\x00on to Revenue.\\nMoving to Ireland from outside the EU\\nIf you are shipping from outside the EU, your personal belongings must be cleared by customs\\n(Revenue). This is the case whether you are shipping belongings yourself, or using a courier or\\nmoving company.\\nYou should email a completed transfer of residence form C & E 1076 (pdf) to Revenue 2 weeks\\nbefore your goods arrive in Ireland. You can claim relief from customs duty and VAT by submi\\x00ng\\nthis form.\\nYou don’t need to list individual items of used clothing, toiletries, or accessories. Instead, these can\\nbe grouped together as ‘personal items’. Make sure to include the current market value of any\\nvaluable belongings.\\nWhen your form is complete, send it to the relevant port or airport. If you are using an interna\\x00onal\\nshipping company, they may help you with documenta\\x00on for customs.\\nAddi\\x00onal documenta\\x00on\\nTo support your ‘Transfer of residence’ form, you will be asked to show:\\nProof that you’re moving to Ireland, such as a le\\x00er from an employer in Ireland, or a le\\x00er\\nrela\\x00ng to the purchase or rental of a property in Ireland\\nProof you previously lived abroad (such as a u\\x00lity bill, or a le\\x00er to show you’ve ended your\\nemployment)\\nProof that you own and use the goods you are impor\\x00ng (such as invoices or receipts)\\nYou need to complete separate forms if you are impor\\x00ng wedding presents (pdf) or silver and gold\\nplated (pdf) items.\\nMoving to Ireland from the UK\\nPassenger ferry\", metadata={'source': 'pdf_docs/Shipping your personal belongings back to Ireland.pdf', 'page': 2}),\n",
       " Document(page_content='4/17/24, 8:43 AM Shipping your personal belongings back to Ireland\\nhttps://www.citizensinformation.ie/en/returning-to-ireland/planning-your-journey-home/shipping-your-belongings-back-to-ireland/ 4/5If you are travelling from the UK to Ireland with your belongings via passenger ferry, go to customs\\nwhen you arrive at the port.\\nFreight ferry\\nIf shipping your belongings by freight ferry, you must give the ferry company your ‘Pre-Boarding\\nNo\\x00ﬁca\\x00on (PBN) ID’. You can get your PBN ID from Revenue – simply request it when sending your\\ncompleted ‘Transfer of residence’ form. See ‘Moving to Ireland from outside the EU’ above.\\nRead more in Revenue’s guide to the procedure at importa\\x00on.\\nHow do I bring my car to Ireland?\\nIf you bring your vehicle to Ireland, you must register the vehicle at a Na\\x00onal Car Tes\\x00ng Service\\n(NCTS) centre. You may also have to pay Vehicle Registra\\x00on Tax (VRT).\\nIf you’re impor\\x00ng a car or small van, the amount of VRT you pay is based on a percentage of its\\nrecommended retail price, including all taxes. This is known as the Open Market Selling Price\\n(OMSP). Use Revenue’s VRT calculator to es\\x00mate how much VRT you will pay.\\nYou can claim a relief from VRT if:\\nYou are transferring your residence to Ireland (moving here permanently)\\nYou were using the vehicle for more than 6 months before you moved to Ireland\\nIn this case, you must s\\x00ll register your vehicle, but you do not have to pay VRT.\\nIf you are exempt from paying VRT, you cannot sell your vehicle for 12 months a\\x00er the vehicle is\\nregistered. If you are not exempt from paying VRT, you can sell your vehicle in Ireland once it has\\nbeen registered.\\nSee how to claim this tax relief in our page Bringing your vehicle to Ireland.\\nShould I insure my items?\\nAs items can be damaged during shipping, it is important to insure your belongings.\\nMany shipping companies oﬀer insurance in their packages. If you take out an insurance policy,\\ncheck what items are covered and in what circumstances.\\nIf you hire the shipping company to wrap your belongings and pack the container on your behalf,\\nkeep a detailed list of every item you are shipping. Keep any relevant receipts and sales invoices for\\nthe items too.\\nMore informa\\x00on\\nYou can ﬁnd more informa\\x00on about shipping belongings to Ireland from outside the EU on\\nRevenue’s website.\\nCustoms Informa\\x00on Oﬃce\\nNew Custom House\\nPromenade Road', metadata={'source': 'pdf_docs/Shipping your personal belongings back to Ireland.pdf', 'page': 3}),\n",
       " Document(page_content='4/17/24, 8:43 AM Shipping your personal belongings back to Ireland\\nhttps://www.citizensinformation.ie/en/returning-to-ireland/planning-your-journey-home/shipping-your-belongings-back-to-ireland/ 5/5Dublin\\nIreland\\nHomepage: h\\x00ps://www.revenue.ie/en/contact-us/index.aspx\\nPage edited: 12 January 2024\\nManage cookie preferences\\nManage preferences', metadata={'source': 'pdf_docs/Shipping your personal belongings back to Ireland.pdf', 'page': 4}),\n",
       " Document(page_content='4/16/24, 10:04 PM Claiming a social welfare payment\\nhttps://www.citizensinformation.ie/en/social-welfare/irish-social-welfare-system/claiming-a-social-welfare-payment/applying-for-a-social-welfare-p… 1/4Claiming a social welfare payment\\nIntroduc\\x00on\\nRules\\nHow to apply\\nWhere to apply\\nFurther informa\\x00on\\nIntroduc\\x00on\\nThe Department of Social Protec\\x00on has a range of social welfare payments that provide ﬁnancial\\nsupport. To get a social welfare payment, you must apply for it. So, if you think you are en\\x00tled to a\\npayment you should always apply.\\nYour ﬁrst step before applying, is to ﬁnd out which payment you may be en\\x00tled to.\\nPayments are available for:\\nPeople who are unemployed\\nFamilies and children\\nWidows, widowers and surviving civil partners\\nGuardians or orphans\\nOlder and re\\x00red people\\nPeople with a disability\\nCarers\\nIf you get a social welfare payment you may also qualify for extra social welfare beneﬁts.\\nHousehold Budget Scheme\\nIf you get certain social welfare payments, you can put a regular amount towards your household\\nbills using the Household Budget Scheme. For example, telephone, gas, electricity, and local\\nauthority rent.\\nRules\\nTo apply for a social welfare payment, you must ﬁll in an applica\\x00on form and provide other\\nsuppor\\x00ng documenta\\x00on. The informa\\x00on and documents you must submit depend on the\\npayment and your personal circumstances. However, in general you must submit some documents\\nwhen you apply for a payment.\\nIf you apply for, or are currently ge\\x00ng a social welfare payment (including Child Beneﬁt) you may\\nbe asked to register for a Public Services Card.\\nAdult and child dependents\\nIf you qualify for a payment, you may be able to get an increase in your payment for an adult\\ndependant or a child dependant. If it is possible to claim for dependants, the Department of Social\\nProtec\\x00on will ask for informa\\x00on about your dependants on the applica\\x00on form.\\nHow long to process claims', metadata={'source': 'pdf_docs/Claiming a social welfare payment.pdf', 'page': 0}),\n",
       " Document(page_content=\"4/16/24, 10:04 PM Claiming a social welfare payment\\nhttps://www.citizensinformation.ie/en/social-welfare/irish-social-welfare-system/claiming-a-social-welfare-payment/applying-for-a-social-welfare-p… 2/4It may take some \\x00me for the Department to process your claim. As part of the procedure, you may\\nbe interviewed in your home or asked to a\\x00end an interview at your local social welfare oﬃce.\\nWhile your claim is being processed by the Department, you may qualify for Supplementary Welfare\\nAllowance.\\nLate claims\\nIt is important that you make your claim as soon as you know you are en\\x00tled to the payment. All\\npayments must be claimed within a speciﬁc period of \\x00me. If you don't claim on \\x00me you may lose\\nout. Find out more about making a late claim.\\nFurther informa\\x00on or documents\\nIf you are asked to provide informa\\x00on reasonably required by a social welfare inspector when\\ninves\\x00ga\\x00ng your claim, you must provide the statements, informa\\x00on or documents within 21\\ndays. The same \\x00me period applies to your spouse, civil partner, cohabitant, employer and certain\\nother people (for example, landlords).\\nIf you are refused a social welfare payment or get a lesser amount than you expected, you have 21\\ndays to appeal the decision of the Department of Social Protec\\x00on.\\nThere is more informa\\x00on about how the Department makes decisions on claims in 'More\\ninforma\\x00on' below.\\nHow to apply\\nYou must complete the applica\\x00on form and provide suppor\\x00ng documents.\\nYou can apply for most payments online. You can also get an applica\\x00on form from your local Intreo\\nCentre or Social Welfare Branch Oﬃce or your local Ci\\x00zens Informa\\x00on Centre. You can also get an\\napplica\\x00on form on gov.ie.\\nYour Intreo Centre, Social Welfare Branch Oﬃce or your local Ci\\x00zens Informa\\x00on Centre can help\\nyou ﬁll in your applica\\x00on form.\\nBirth certs for social welfare\\nYou are no longer required to provide copies of birth cer\\x00ﬁcates for social welfare purposes if you\\nwere born in Ireland and your birth is in the Register of Births. The Department of Social Protec\\x00on\\ncan access this informa\\x00on directly.\\nYou can get more informa\\x00on about ge\\x00ng a Birth, Marriage or Death cer\\x00ﬁcate.\\nWhere to apply\\nTo apply for a social welfare payment you should either:\\nApply online at MyWelfare.ie (only certain payments)\\nSend a paper applica\\x00on form to the address printed on the form\\nYou can get informa\\x00on about applying for social welfare payments through MyWelfare.ie. You can\\nalso call 0818 405 060.\", metadata={'source': 'pdf_docs/Claiming a social welfare payment.pdf', 'page': 1}),\n",
       " Document(page_content=\"4/16/24, 10:04 PM Claiming a social welfare payment\\nhttps://www.citizensinformation.ie/en/social-welfare/irish-social-welfare-system/claiming-a-social-welfare-payment/applying-for-a-social-welfare-p… 3/4Further informa\\x00on\\nHow social welfare decisions are made\\nDeciding Oﬃcers are employed by the Department of Social Protec\\x00on to accept or reject claims\\nmade in Ireland for social welfare payments. Deciding oﬃcers are given the power to make these\\ndecisions through the Social Welfare Consolida\\x00on Act 2005 as amended and other social welfare\\nlegisla\\x00on.\\nBefore making a claim or applying for a social welfare payment you must complete the applica\\x00on\\nform. The applica\\x00on form will ask for various details, such as your name, address, PPS number,\\nincome etc. These details will help the Department of Social Protec\\x00on to process your applica\\x00on\\nand if your claim is successful, to arrange your payment.\\nAs part of the applica\\x00on process, you must also provide suppor\\x00ng documenta\\x00on to prove that\\nthe informa\\x00on you have given on the applica\\x00on form is correct. For example, a payslip to show\\nyour employment income.\\nTo qualify for a social welfare payment, you must meet all the qualifying criteria for that payment.\\nDiﬀerent social welfare payments have diﬀerent qualifying criteria. It is your responsibility to prove\\nto the Department that you qualify for the payment you have applied for.\\nIf you are applying for a payment due to an illness or disability your doctor must ﬁll in part of the\\napplica\\x00on from. If you are in work, your employer may have to ﬁll in a part of the form.\\nWhat happens when I send my applica\\x00on?\\nWhen you send your applica\\x00on form to the Department of Social Protec\\x00on, it will be assessed to\\nmake sure that it is correctly completed and that you have sent all the required documents.\\nAt this point, the Department may request more informa\\x00on from you or ask you to a\\x00end a\\nmedical examina\\x00on to ﬁnd out if you qualify for the payment you applied for. For example, if you\\napply for Disability Allowance you may be asked to a\\x00end for a medical examina\\x00on. If this is the\\ncase, the doctor's report sta\\x00ng whether you meet the medical criteria is sent to the person at the\\nDepartment of Social Protec\\x00on who is responsible for making a decision on your claim.\\nWhat does a Deciding Oﬃcer do?\\nWhen the Department has all the informa\\x00on it needs, a Deciding Oﬃcer will examine your claim\\nand will either accept or reject your claim for the social welfare payment you applied for. The\\nDeciding Oﬃcer must apply the law as set out in Social Welfare Acts, Statutory Instruments, and\\nrelevant Department guidelines, circulars and other regula\\x00ons when making a decision on your\\nclaim. If your claim is approved, the Deciding Oﬃcer will determine the rate of your payment.\\nA Deciding Oﬃcer must record their decision on your claim in wri\\x00ng. Generally, if your applica\\x00on\\nfor a payment has been successful you will get a le\\x00er sta\\x00ng this. If your applica\\x00on is rejected, the\\nDeciding Oﬃcer must give you a le\\x00er in wri\\x00ng sta\\x00ng your claim has been rejected and the\\nreasons for this decision.\\nIf you have been awarded less than the maximum rate of payment, you must get a le\\x00er sta\\x00ng the\\nreasons for this.\\nIt is useful to know the reason or reasons why a deciding oﬃcer rejected your claim or awarded you\\nless than the maximum rate of payment, especially if you wish to appeal their decision.\", metadata={'source': 'pdf_docs/Claiming a social welfare payment.pdf', 'page': 2}),\n",
       " Document(page_content='4/16/24, 10:04 PM Claiming a social welfare payment\\nhttps://www.citizensinformation.ie/en/social-welfare/irish-social-welfare-system/claiming-a-social-welfare-payment/applying-for-a-social-welfare-p… 4/4Page edited: 5 October 2023\\nManage cookie preferences\\nManage preferences', metadata={'source': 'pdf_docs/Claiming a social welfare payment.pdf', 'page': 3}),\n",
       " Document(page_content='Noise pollu\\x00on and noise complaints\\nWhat is noise pollu\\x00on?\\nWho do I complain to about noise pollu\\x00on?\\nHow to make a noise complaint\\nWhat is environmental noise?\\nNoise from homes\\nNoise from entertainment venues and events\\nNoise from transport\\nCommercial or industrial noise\\nPlanning permission and noise complaints\\nFurther informa\\x00on and contacts\\nWhat is noise pollu\\x00on?\\nNoise pollu\\x00on can come from diﬀerent sources, and can be broadly deﬁned as noise which:\\nIs considered a nuisance\\nIs dangerous to human health\\nCould damage property\\nCould damage the environment\\nThere are no universal noise standard laws that apply in Ireland but your local authority may refer to par\\x00cular\\nnoise standards.\\nNoise pollu\\x00on is outlined in the Environmental Protec\\x00on Agency Act 1992.\\nWho do I complain to about noise pollu\\x00on?\\nWhile the law does not men\\x00on an exact level or standard of noise that is illegal, if noise is aﬀec\\x00ng your\\nquality of life, then you have a right to complain. Who you complain to depends on the source of the noise.\\nYour ﬁrst step should generally be to contact the person causing the noise to try to ﬁx the issue. If this doesn’t\\nwork, you can take the necessary next steps to make your complaint.\\nThere are diﬀerent bodies who deal with these complaints, but the 2 main places to make your complaints are:\\nLocal authori\\x00es\\nThe District Court\\nLocal authori\\x00es\\nYou can report a noise nuisance to the Environment Sec\\x00on of your local authority, who can take ac\\x00ons to\\nprevent or limit noise.\\nRead more detail about the role of the local authori\\x00es in noise complaints.\\nDistrict Court\\nIf you are s\\x00ll concerned about excessive noise, you can make a formal complaint to the District Court. This\\nshould be the last step you take to resolving the issue. This is outlined in regula\\x00ons made under the Act.\\nYou can get a complaint form in your local district court oﬃce and will have to pay a fee to process the\\ncomplaint.', metadata={'source': 'pdf_docs/Noise pollution and noise complaints.pdf', 'page': 0}),\n",
       " Document(page_content='Other organisa\\x00ons for noise complaints\\nDepending on the source of the noise, you may complain elsewhere. Other places where you can lodge a\\ncomplaint include:\\nAn Garda Síochánna\\nThe Environmental Protec\\x00on Agency (EPA)\\nResiden\\x00al Tenancies Board (RTB)\\nTransport Infrastructure Ireland (TII)\\nYou can read the gov.ie Guide to Noise Regula\\x00ons on the steps you can take if you are experiencing a\\nnuisance caused by noise.\\nHow to make a noise complaint\\nIf you plan to complain about excessive noise, try to keep a detailed list of:\\nThe \\x00mes when the noise occurred\\nHow long the noise lasted\\nThe levels of noise involved (if possible)\\nStep 1: Try to resolve the issue yourself\\nYou should ﬁrst contact the person or business causing the noise, explain that it is a nuisance and try to solve\\nthe issue together.\\nStep 2: Contact your local authority or the EPA\\nIf this doesn’t work, you can contact your local authority or the EPA who may be able to advise you on how to\\ndeal with the noise complaint.\\nThe local authority or the EPA are not likely to get involved in disputes between neighbours.\\nBut if it is coming from an industrial or commercial source, the EPA or the local authority may serve a no\\x00ce to\\nthose causing the noise.\\nStep 3: Apply to the District Court\\nIf this does not work, you can make a noise complaint to the District Court, following the steps outlined below.\\nThere is a small fee a\\x00ached.\\nHow to apply to the District Court with a noise complaint\\n1. Get an appointment for a hearing: Ask the local District Court Clerk about an appointment for a hearing.\\nYou will need to refer exactly to the legisla\\x00on under which you are making the complaint:\\n1. Sec\\x00on 108 of the Environmental Protec\\x00on Agency Act 1992\\n2. The Environmental Protec\\x00on Agency Act (Noise) Regula\\x00ons 1994\\n2. Inform the other party: At least 7 days before the date of your hearing, you must inform the person or\\nbusiness you are complaining about that you have made a complaint to the District Court about them.\\n3. Fill in the form: The District Court will give you a form for making the complaint, which you must ﬁll out in\\nfull.\\n4. A\\x00end the hearing date: You must then a\\x00end court at your appointment \\x00me to present you complaint.\\nOutcome of District Court noise complaints\\nIf the person is making noise during trade or business, they may have a defence if they can show that:', metadata={'source': 'pdf_docs/Noise pollution and noise complaints.pdf', 'page': 1}),\n",
       " Document(page_content='They took all reasonable care to prevent the noise\\nThe noise is in line with a licence issued under the Act\\nIf you win the case, the Court can order those responsible for the noise to take measures to prevent or limit the\\nnoise. These orders must be obeyed.\\nWhat is environmental noise?\\nEnvironmental noise means unwanted or harmful outdoor sound created by human ac\\x00vi\\x00es. This can come\\nfrom a variety of sources and includes noise from:\\nTransport\\nRoad traﬃc\\nRail traﬃc\\nAir traﬃc\\nIndustrial sites\\nYou can experience environmental noise anywhere, for example in or around:\\nBuilt-up areas\\nPublic parks or other quiet areas within built-up areas\\nIn quiet areas in open country\\nSchools\\nHospitals\\nOther noise-sensi\\x00ve buildings and areas\\nWhat is not considered environmental noise?\\nIn Ireland, environmental noise does not apply to noise:\\nFrom domes\\x00c ac\\x00vi\\x00es\\nCreated by neighbours\\nAt workplaces\\nInside transport vehicles\\nDue to military ac\\x00vi\\x00es in military areas\\nCaused by the person exposed to the noise\\nThis is outlined in the European Communi\\x00es (Environmental Noise) Regula\\x00ons 2018.\\nWhat are the impacts of environmental noise?\\nIf you are exposed to environmental noise long-term, it can have nega\\x00ve eﬀects on your health. It can:\\nImpact your sleep\\nContribute to heart disease\\nImpact your mental health and wellbeing\\nCause annoyance and interfere with your daily ac\\x00vi\\x00es\\nCause cogni\\x00ve impairment (damage to your ability to think)\\nCause hearing problems including \\x00nnitus\\nThe EPA have more informa\\x00on on the poten\\x00al impacts of long-term exposure to environmental noise.\\nNoise from ﬁreworks\\nIf there are ﬁreworks being set oﬀ where you live, you can report it to your local Garda sta\\x00on, or you can call\\nthe Garda conﬁden\\x00al line on 1800 666 111.', metadata={'source': 'pdf_docs/Noise pollution and noise complaints.pdf', 'page': 2}),\n",
       " Document(page_content='If your pet is distressed by ﬁreworks, dogstrust.ie have ﬁrework advice and resources available.\\nNoise from homes\\nDomes\\x00c noise is noise from a domes\\x00c se\\x00ng, like a home. Depending on the cause of the noise, you will\\ncomplain in a diﬀerent way. This is outlined below.\\nIf the noise is coming from a person’s home, the Gardaí can ask them to lower noise but they can’t enter the\\nproperty with the sole inten\\x00on of asking them to lower the noise.\\nIf the noise con\\x00nues, you can complain to the District Court (see above).\\nThere is useful informa\\x00on in the leaﬂet on neighbour disputes (pdf) published by FLAC, the Free Legal Advice\\nCentres.\\nNoise from rented proper\\x00es\\nIf there is noise coming from a rented home, you should approach the tenant ﬁrst and ask them to lower the\\nnoise. If this doesn’t work, you can complain to the landlord. This may be a:\\nPrivate landlord\\nLocal authority\\nHousing associa\\x00on\\nPeople who are ren\\x00ng from private landlords or housing associa\\x00ons have certain obliga\\x00ons. These include\\nnot engaging in an\\x00-social behaviour, which includes persistent noise that aﬀects others around them.\\nYou can complain to the Residen\\x00al Tenancies Board (RTB) if a private landlord or housing associa\\x00on doesn’t\\nenforce these obliga\\x00ons.\\nIf the tenant is ren\\x00ng from a local authority housing, they must avoid causing any nuisance such as noise to\\nother proper\\x00es around you. If they do make excessive and persistent noise, they are breaking the tenancy\\nagreement and the local authority can take steps to make sure they follow the terms of the agreement. You can\\nread the legisla\\x00on on noise from rented proper\\x00es.\\nNoise from alarms\\nAll alarm installers must have licences from the Private Security Authority. To get a licence, they have to follow\\ncertain standards. This includes a limit on the length of \\x00me an external alarm can sound for – the maximum\\nunder the European standard is 15 minutes.\\nThe local authority, the EPA or an individual may take ac\\x00on under the EPA Act to deal with breaches of these\\nstandards.\\nYou can read about car alarms in the Noise from transport sec\\x00on below.\\nNoise from dogs\\nIf your neighbour’s dog is barking, you should go to your neighbour directly to try resolve the issue. If this\\ndoesn’t work, you can complain to the District Court.\\nYou can do this by comple\\x00ng a Sec\\x00on 108 Form, which you can get from your local authority or District\\nCourt. Before you do this, you must let the dog owner know that you are making a complaint.\\nTo deal with noise from a dog, the Court can:', metadata={'source': 'pdf_docs/Noise pollution and noise complaints.pdf', 'page': 3}),\n",
       " Document(page_content='Order the dog owner (or occupier of the house where the dog is kept) to exercise control over the dog to\\nreduce the barking\\nLimit the number of dogs that can be kept on a property\\nOrder that the dog warden takes the dog to the dog shelter\\nMake the owner pay a ﬁne for the noise and cost of taking and keeping the in the shelter.\\nYou can ﬁnd out more about owning a dog on our page Dog licences and ownership.\\nNoise from bird scarers (such as crow bangers)\\nBird scarers are used by farmers to keep birds away from their crops. They can work by making a loud noise to\\nscare away any birds or pests in the area.\\nSome bird scarers, such as crow bangers, can be extremely loud. There are no laws in place to deal with bird\\nscarers speciﬁcally.\\nIf you want to complain about the noise from a crow banger, follow the steps in the How to make a noise\\ncomplaint sec\\x00on above.\\nNoise from entertainment venues and events\\nContact your local authority if you want to complain about noise coming from:\\nBars\\nRestaurants\\nNightclubs\\nConcerts\\nOther out-door events\\nYour local authority may serve a no\\x00ce to the organisers of the entertainment to prevent or limit noise. Then if\\nthe organisers do not stop or limit the noise, the local authority may prosecute them.\\nIf you want to complain about noise from outside a premise or event, for example, an\\x00-social behaviour, you\\nshould contact An Garda Síochánna. The Gardaí have the power to arrest a person for breach of the peace in a\\npublic place.\\nNoise from transport\\nNoise from motor vehicles\\nAll vehicles with an internal combus\\x00on engine must be ﬁ\\x00ed with a silencer or a similar device to reduce the\\nnoise. This does not apply to vehicles taking part in a trial, compe\\x00\\x00on or race carried out on a closed road.\\nRead the laws on vehicle noise.\\nThis does not apply to electric vehicles, as they don’t have an internal combus\\x00on engine; they have an electric\\nengine.\\nYou can’t drive a vehicle that causes excessive noise in a public place. The Na\\x00onal Car Test (NCT) assess how\\neﬀec\\x00vely the silencer reduces exhaust-related noise.\\nBeeping a car horn\\nYou should only beep or use a horn to warn other road users of oncoming danger, or to make them aware of\\nyour presence for safety reasons.\\nYou shouldn’t use a horn in a built-up area between 11pm and 7am unless there is a traﬃc emergency.', metadata={'source': 'pdf_docs/Noise pollution and noise complaints.pdf', 'page': 4}),\n",
       " Document(page_content='Contact the Gardaí if you wish to complain about breaches of these rules.\\nCar alarms\\nNo standards have been set in Ireland for the opera\\x00on of car alarm noise. The EU standards for car alarms set\\nminimum and maximum \\x00me limits for the sounding of the alarm (25 seconds minimum and 30 seconds\\nmaximum).\\nNoise from aircra\\x00s\\nIf you want to make a complaint about aeroplane noise, you can make it directly to the airport in ques\\x00on. The\\nAircra\\x00 Noise Competent Authority is responsible for managing noise regula\\x00on at Dublin airport.\\nYou can read more about making a noise complaint to Dublin Airport.\\nThe Irish Avia\\x00on Authority (IAA) is responsible for controlling noise from aircra\\x00.\\nCheck the law on noise from aircra\\x00s in Dublin airport.\\nCommercial or industrial noise\\nIf there is excessive noise coming from commercial or industrial works, you may be able to make a complaint to\\nthe Environmental Protec\\x00on Agency (EPA) or your local authority.\\nSites licenced by the EPA\\nYou can search for a licenced premise on the EPA website. If the commercial or industrial work site is licenced\\nwith the EPA, they can take steps to make sure the site is following the terms of a no\\x00ce to control noise. The\\nEPA can then recover the cost of doing this.\\nThe EPA can tell the person or body to take speciﬁc ac\\x00on to prevent or limit noise. If those causing the noise\\ndon’t comply, they can be prosecuted.\\nThe EPA usually deals with waste disposal ac\\x00vi\\x00es and ac\\x00vi\\x00es that require Integrated Pollu\\x00on Preven\\x00on\\nand Control (IPPC) licences.\\nSites not licenced with the EPA\\nIf the premise is not licenced with the EPA, you can report it to your local authority.\\nLocal authori\\x00es have similar powers to the EPA and can also serve no\\x00ces. This no\\x00ce requires the person in\\ncharge to follow instruc\\x00ons set out in the no\\x00ce to prevent or limit noise.\\nThe local authority can prosecute you if you fail to comply with the no\\x00ce.\\nOr, it may take steps itself to ensure compliance and then recover the costs from the person in charge.\\nNoise from within your workplace\\nIf you want to make a complaint about noise at work, you should contact your HR department ﬁrst.\\nIf this doesn’t work, you can contact the Health and Safety Authority (HSA). The HAS deals with queries\\nregarding noise in the workplace and it has FAQs on this issue.\\nYou can read more in our page on health and safety at work.\\nPlanning permission and noise complaints', metadata={'source': 'pdf_docs/Noise pollution and noise complaints.pdf', 'page': 5}),\n",
       " Document(page_content='When gran\\x00ng planning permission for a building, the local authority can include condi\\x00ons to prevent or\\nreduce noise. These condi\\x00ons can relate to the construc\\x00on or building phase and/or to the use of the\\nbuilding when it is complete.\\nYou can appeal to An Bord Pleanála against these requirements (or the absence of them).\\nFurther informa\\x00on and contacts\\nContact your local authority for more informa\\x00on on noise complaints.\\nContact your local Garda sta\\x00on.\\nEnvironmental Protec\\x00on Agency\\nPO Box 3000\\nJohnstown Castle Estate\\nWexford\\nIreland\\nTel: (053) 916 0600\\nLocall: 0818 33 55 99\\nFax: (053) 916 0699\\nHomepage: h\\x00p://www.epa.ie\\nEmail: info@epa.ie\\nTransport Infrastructure Ireland\\nParkgate Business Centre\\nParkgate Street\\nDublin 8\\nIreland\\nTel: +353 1 646 3600\\nHomepage: h\\x00p://www.\\x00i.ie\\nEmail: info@\\x00i.ie\\nResiden\\x00al Tenancies Board\\nPO Box 47\\nClonakilty\\nCo. Cork\\nIreland\\nOpening Hours: 9am to 5pm\\nTel: 0818 303 037 or 01 702 8100\\nFax: 0818 303 039\\nHomepage: h\\x00p://www.rtb.ie/\\nPage edited: 2 February 2024\\nManage cookie preferences\\nManage preferences', metadata={'source': 'pdf_docs/Noise pollution and noise complaints.pdf', 'page': 6}),\n",
       " Document(page_content=\"4/12/24, 2:46 PM Pregnancy and social welfare payments\\nhttps://www.citizensinformation.ie/en/social-welfare/families-and-children/pregnancy-and-social-welfare-payments/#5011b8 1/3Pregnancy and social welfare payments\\nIntroduc\\x00on\\nPregnancy and jobseeker's payments\\nPregnancy and Illness Beneﬁt\\nPregnancy and One-Parent Family Payment\\nPregnancy and employment schemes\\nIntroduc\\x00on\\nIf you are pregnant and ge\\x00ng a social welfare payment, you may be able to con\\x00nue to get your\\npayment as long as you sa\\x00sfy the condi\\x00ons, or transfer to another payment that be\\x00er suits your\\nneeds.\\nThis page explains how pregnancy is treated if you are ge\\x00ng Jobseeker’s Beneﬁt, Jobseeker’s\\nAllowance, Illness Beneﬁt, One-Parent Family Payment or are on an employment scheme.\\nPregnancy and Maternity Beneﬁt\\nIf you are on maternity leave from work and have paid enough social insurance (PRSI), you can get\\nMaternity Beneﬁt. You should apply for Maternity Beneﬁt at least 6 weeks before you plan to go on\\nmaternity leave or 12 weeks if you are self-employed.\\nIf you don’t qualify for Maternity Beneﬁt, you may be able to stay on your current payment or you\\nmay qualify for another payment.\\nWorking family payment\\nIf you are on maternity leave from work, you may get the Working Family Payment (WFP) with your\\nMaternity Beneﬁt if you meet the condi\\x00ons for the WFP. If you are pregnant and have no other\\nchildren, you will not qualify for WFP un\\x00l your baby is born.\\nPregnancy and jobseeker's payments\\nIf you are pregnant, and claiming Jobseeker’s Beneﬁt or Jobseeker's Allowance, you can con\\x00nue to\\nget your payment. You are considered capable of work unless you have complica\\x00ons during your\\npregnancy, or you are ill.\\nYou must be available for and genuinely seeking work to get a jobseeker's payment. This means that\\nyou must con\\x00nue to look for work throughout your pregnancy.\\nYou do not have to sign-on at your local Social Welfare or Intreo oﬃce 4 weeks before your baby is\\ndue to be born and for 8 weeks a\\x00er the birth. You also do not have to prove that you are seeking\\nwork. You must tell your Intreo Centre or local Social Welfare Branch Oﬃce about your pregnancy.\\nYour Jobseeker’s Beneﬁt will only be paid for the number of weeks remaining on your claim. If you\\nno longer qualify for Jobseeker’s Beneﬁt, you can apply for Jobseeker’s Allowance. The rules for\\nJobseeker's Allowance are similar to Jobseeker's Beneﬁt but you will have to pass a means test.\\nIncrease for a qualiﬁed child\\nWhen your baby is born, you may qualify for an increase in your Jobseeker’s Beneﬁt or Allowance for\\nyour child. If you are paren\\x00ng alone, you may qualify for the One-Parent Family Payment.\", metadata={'source': 'pdf_docs/Pregnancy and social welfare payments.pdf', 'page': 0}),\n",
       " Document(page_content=\"4/12/24, 2:46 PM Pregnancy and social welfare payments\\nhttps://www.citizensinformation.ie/en/social-welfare/families-and-children/pregnancy-and-social-welfare-payments/#5011b8 2/3What if I am unemployed but don't qualify for a jobseeker's payment because of illness during\\npregnancy?\\nIf you are sick or ill during your pregnancy you are not en\\x00tled to Jobseeker's Allowance or\\nJobseeker's Beneﬁt.\\nYou may get Illness Beneﬁt if you have worked and have enough social insurance contribu\\x00ons (see\\nbelow). If you are not en\\x00tled to Illness Beneﬁt and your illness is expected to last for more than 12\\nmonths you may be en\\x00tled to Disability Allowance.\\nIf you are pregnant and either not ge\\x00ng a social welfare payment or not en\\x00tled to any of the\\nabove social welfare payments, you may get some ﬁnancial support under the Supplementary\\nWelfare Allowance Scheme.\\nPregnancy and Illness Beneﬁt\\nIf you are pregnant and claiming Illness Beneﬁt, you will con\\x00nue to be paid Illness Beneﬁt if you\\nhave an illness which meets the criteria for the payment. You cannot use pregnancy itself as a\\nmedical reason to claim Illness Beneﬁt. However, medical complica\\x00ons arising from your pregnancy\\ncan sa\\x00sfy the medical criteria for Illness Beneﬁt.\\nYou must con\\x00nue to send in medical cer\\x00ﬁcates to qualify for Illness Beneﬁt.\\nWhen your baby is born you may qualify for an increase in your Illness Beneﬁt for a child dependant.\\nYou should contact the Illness Beneﬁt sec\\x00on to ﬁnd out if you qualify.\\nPregnant and on sick leave from work\\nIf you are on sick leave from work and ge\\x00ng Illness Beneﬁt immediately before you are due to start\\nyour maternity leave, you will transfer from Illness Beneﬁt to Maternity Beneﬁt when your maternity\\nleave starts, if you sa\\x00sfy the social insurance contribu\\x00ons.\\nThe social insurance contribu\\x00ons for Maternity Beneﬁt and Illness Beneﬁt are not the same.\\nTherefore, if you are in employment but on sick leave and not ge\\x00ng Illness Beneﬁt, you may s\\x00ll\\nqualify for Maternity Beneﬁt if you sa\\x00sfy social insurance contribu\\x00ons.\\nHealth and Safety Beneﬁt is a weekly payment for employed women who are pregnant or\\nbreas\\x00eeding, and who are granted health and safety leave by their employer.\\nPregnancy and One-Parent Family Payment\\nIf you are pregnant and ge\\x00ng a One-Parent Family Payment, you will con\\x00nue to get the payment\\nas long as you sa\\x00sfy the condi\\x00ons. When your baby is born you will qualify for an increase in your\\npayment for a child dependant. If you are pregnant and do not have other children, you are not\\nen\\x00tled to One-Parent Family Payment un\\x00l your baby is born.\\nYou may get half-rate Maternity Beneﬁt with your One-Parent Family Payment if you meet the\\nconditons for both payments. If you are not en\\x00tled to a One-Parent Family Payment, and you have\\nno other income you may get some ﬁnancial support under the Supplementary Welfare Allowance\\nScheme.\\nPregnancy and employment schemes\", metadata={'source': 'pdf_docs/Pregnancy and social welfare payments.pdf', 'page': 1}),\n",
       " Document(page_content='4/12/24, 2:46 PM Pregnancy and social welfare payments\\nhttps://www.citizensinformation.ie/en/social-welfare/families-and-children/pregnancy-and-social-welfare-payments/#5011b8 3/3If you are taking part in an employment scheme you have the full range of statutory employment\\nrights including maternity leave.\\nIf you become pregnant while on an employment scheme (Community Employment, Rural Social\\nScheme, Tús and Gateway schemes) you are en\\x00tled to take 26 weeks’ maternity leave including an\\naddi\\x00onal 16 weeks of op\\x00onal unpaid leave. If possible, you will be supported to complete your 52\\nweeks of paid work on the same or another project when you ﬁnish your maternity leave.\\nYou should discuss with your sponsor the payment you qualify for while you are on maternity leave.\\nYou may qualify for Maternity Beneﬁt if you have enough PRSI contribu\\x00ons. Otherwise, if your\\nspouse or partner is ge\\x00ng a social welfare payment, you may get a qualiﬁed adult increase on their\\npayment.\\nPage edited: 21 September 2023\\nManage cookie preferences\\nManage preferences', metadata={'source': 'pdf_docs/Pregnancy and social welfare payments.pdf', 'page': 2})]"
      ]
     },
     "execution_count": 3,
     "metadata": {},
     "output_type": "execute_result"
    }
   ],
   "source": [
    "documents_text"
   ]
  },
  {
   "cell_type": "code",
   "execution_count": 4,
   "metadata": {},
   "outputs": [
    {
     "data": {
      "text/plain": [
       "<weaviate.collections.collection.Collection at 0x7fe744263f70>"
      ]
     },
     "execution_count": 4,
     "metadata": {},
     "output_type": "execute_result"
    }
   ],
   "source": [
    "client.collections.delete(\"citizens_info_docs\") \n",
    "client.collections.create(\n",
    "    \"citizens_info_docs\",\n",
    "\n",
    "    properties=[  \n",
    "        Property(\n",
    "            name=\"source\",\n",
    "            data_type=DataType.TEXT,\n",
    "\n",
    "        ),\n",
    "        Property(\n",
    "            name=\"page\", \n",
    "            data_type=DataType.TEXT\n",
    "        ),\n",
    "\n",
    "        Property(\n",
    "            name=\"content\", \n",
    "            data_type=DataType.TEXT,\n",
    "            vectorize_property_name=True,\n",
    "            tokenization=Tokenization.LOWERCASE\n",
    "        )\n",
    "    ],\n",
    "\n",
    "    vectorizer_config=[\n",
    "        Configure.NamedVectors.text2vec_openai(\n",
    "            name=\"content\", source_properties=['content','source']\n",
    "        )\n",
    "    ]\n",
    ")"
   ]
  },
  {
   "cell_type": "code",
   "execution_count": 5,
   "metadata": {},
   "outputs": [
    {
     "ename": "WeaviateInsertManyAllFailedError",
     "evalue": "Every object failed during insertion. Here is the set of all errors: vectorize target vector content: update vector: send POST request: Post \"https://api.openai.com/v1/embeddings\": dial tcp 104.18.7.192:443: i/o timeout",
     "output_type": "error",
     "traceback": [
      "\u001b[0;31m---------------------------------------------------------------------------\u001b[0m",
      "\u001b[0;31mWeaviateInsertManyAllFailedError\u001b[0m          Traceback (most recent call last)",
      "Cell \u001b[0;32mIn[5], line 18\u001b[0m\n\u001b[1;32m     16\u001b[0m \u001b[38;5;66;03m# Assuming you have a collection named 'Documents' set up in Weaviate\u001b[39;00m\n\u001b[1;32m     17\u001b[0m documents \u001b[38;5;241m=\u001b[39m client\u001b[38;5;241m.\u001b[39mcollections\u001b[38;5;241m.\u001b[39mget(\u001b[38;5;124m\"\u001b[39m\u001b[38;5;124mcitizens_info_docs\u001b[39m\u001b[38;5;124m\"\u001b[39m)\n\u001b[0;32m---> 18\u001b[0m \u001b[43mdocuments\u001b[49m\u001b[38;5;241;43m.\u001b[39;49m\u001b[43mdata\u001b[49m\u001b[38;5;241;43m.\u001b[39;49m\u001b[43minsert_many\u001b[49m\u001b[43m(\u001b[49m\u001b[43mdocument_objs\u001b[49m\u001b[43m)\u001b[49m  \u001b[38;5;66;03m# Insert all documents at once\u001b[39;00m\n",
      "File \u001b[0;32m~/miniconda3/envs/cit/lib/python3.10/site-packages/weaviate/collections/data.py:413\u001b[0m, in \u001b[0;36m_DataCollection.insert_many\u001b[0;34m(self, objects)\u001b[0m\n\u001b[1;32m    393\u001b[0m \u001b[38;5;28;01mdef\u001b[39;00m \u001b[38;5;21minsert_many\u001b[39m(\n\u001b[1;32m    394\u001b[0m     \u001b[38;5;28mself\u001b[39m,\n\u001b[1;32m    395\u001b[0m     objects: Sequence[Union[Properties, DataObject[Properties, Optional[ReferenceInputs]]]],\n\u001b[1;32m    396\u001b[0m ) \u001b[38;5;241m-\u001b[39m\u001b[38;5;241m>\u001b[39m BatchObjectReturn:\n\u001b[1;32m    397\u001b[0m \u001b[38;5;250m    \u001b[39m\u001b[38;5;124;03m\"\"\"Insert multiple objects into the collection.\u001b[39;00m\n\u001b[1;32m    398\u001b[0m \n\u001b[1;32m    399\u001b[0m \u001b[38;5;124;03m    Arguments:\u001b[39;00m\n\u001b[0;32m   (...)\u001b[0m\n\u001b[1;32m    411\u001b[0m \u001b[38;5;124;03m            If every object in the batch fails to be inserted. The exception message contains details about the failure.\u001b[39;00m\n\u001b[1;32m    412\u001b[0m \u001b[38;5;124;03m    \"\"\"\u001b[39;00m\n\u001b[0;32m--> 413\u001b[0m     \u001b[38;5;28;01mreturn\u001b[39;00m \u001b[38;5;28;43mself\u001b[39;49m\u001b[38;5;241;43m.\u001b[39;49m\u001b[43m_batch_grpc\u001b[49m\u001b[38;5;241;43m.\u001b[39;49m\u001b[43mobjects\u001b[49m\u001b[43m(\u001b[49m\n\u001b[1;32m    414\u001b[0m \u001b[43m        \u001b[49m\u001b[43m[\u001b[49m\n\u001b[1;32m    415\u001b[0m \u001b[43m            \u001b[49m\u001b[43m(\u001b[49m\n\u001b[1;32m    416\u001b[0m \u001b[43m                \u001b[49m\u001b[43m_BatchObject\u001b[49m\u001b[43m(\u001b[49m\n\u001b[1;32m    417\u001b[0m \u001b[43m                    \u001b[49m\u001b[43mcollection\u001b[49m\u001b[38;5;241;43m=\u001b[39;49m\u001b[38;5;28;43mself\u001b[39;49m\u001b[38;5;241;43m.\u001b[39;49m\u001b[43mname\u001b[49m\u001b[43m,\u001b[49m\n\u001b[1;32m    418\u001b[0m \u001b[43m                    \u001b[49m\u001b[43mvector\u001b[49m\u001b[38;5;241;43m=\u001b[39;49m\u001b[43mobj\u001b[49m\u001b[38;5;241;43m.\u001b[39;49m\u001b[43mvector\u001b[49m\u001b[43m,\u001b[49m\n\u001b[1;32m    419\u001b[0m \u001b[43m                    \u001b[49m\u001b[43muuid\u001b[49m\u001b[38;5;241;43m=\u001b[39;49m\u001b[38;5;28;43mstr\u001b[39;49m\u001b[43m(\u001b[49m\u001b[43mobj\u001b[49m\u001b[38;5;241;43m.\u001b[39;49m\u001b[43muuid\u001b[49m\u001b[43m \u001b[49m\u001b[38;5;28;43;01mif\u001b[39;49;00m\u001b[43m \u001b[49m\u001b[43mobj\u001b[49m\u001b[38;5;241;43m.\u001b[39;49m\u001b[43muuid\u001b[49m\u001b[43m \u001b[49m\u001b[38;5;129;43;01mis\u001b[39;49;00m\u001b[43m \u001b[49m\u001b[38;5;129;43;01mnot\u001b[39;49;00m\u001b[43m \u001b[49m\u001b[38;5;28;43;01mNone\u001b[39;49;00m\u001b[43m \u001b[49m\u001b[38;5;28;43;01melse\u001b[39;49;00m\u001b[43m \u001b[49m\u001b[43muuid_package\u001b[49m\u001b[38;5;241;43m.\u001b[39;49m\u001b[43muuid4\u001b[49m\u001b[43m(\u001b[49m\u001b[43m)\u001b[49m\u001b[43m)\u001b[49m\u001b[43m,\u001b[49m\n\u001b[1;32m    420\u001b[0m \u001b[43m                    \u001b[49m\u001b[43mproperties\u001b[49m\u001b[38;5;241;43m=\u001b[39;49m\u001b[43mcast\u001b[49m\u001b[43m(\u001b[49m\u001b[38;5;28;43mdict\u001b[39;49m\u001b[43m,\u001b[49m\u001b[43m \u001b[49m\u001b[43mobj\u001b[49m\u001b[38;5;241;43m.\u001b[39;49m\u001b[43mproperties\u001b[49m\u001b[43m)\u001b[49m\u001b[43m,\u001b[49m\n\u001b[1;32m    421\u001b[0m \u001b[43m                    \u001b[49m\u001b[43mtenant\u001b[49m\u001b[38;5;241;43m=\u001b[39;49m\u001b[38;5;28;43mself\u001b[39;49m\u001b[38;5;241;43m.\u001b[39;49m\u001b[43m_tenant\u001b[49m\u001b[43m,\u001b[49m\n\u001b[1;32m    422\u001b[0m \u001b[43m                    \u001b[49m\u001b[43mreferences\u001b[49m\u001b[38;5;241;43m=\u001b[39;49m\u001b[43mobj\u001b[49m\u001b[38;5;241;43m.\u001b[39;49m\u001b[43mreferences\u001b[49m\u001b[43m,\u001b[49m\n\u001b[1;32m    423\u001b[0m \u001b[43m                \u001b[49m\u001b[43m)\u001b[49m\n\u001b[1;32m    424\u001b[0m \u001b[43m                \u001b[49m\u001b[38;5;28;43;01mif\u001b[39;49;00m\u001b[43m \u001b[49m\u001b[38;5;28;43misinstance\u001b[39;49m\u001b[43m(\u001b[49m\u001b[43mobj\u001b[49m\u001b[43m,\u001b[49m\u001b[43m \u001b[49m\u001b[43mDataObject\u001b[49m\u001b[43m)\u001b[49m\n\u001b[1;32m    425\u001b[0m \u001b[43m                \u001b[49m\u001b[38;5;28;43;01melse\u001b[39;49;00m\u001b[43m \u001b[49m\u001b[43m_BatchObject\u001b[49m\u001b[43m(\u001b[49m\n\u001b[1;32m    426\u001b[0m \u001b[43m                    \u001b[49m\u001b[43mcollection\u001b[49m\u001b[38;5;241;43m=\u001b[39;49m\u001b[38;5;28;43mself\u001b[39;49m\u001b[38;5;241;43m.\u001b[39;49m\u001b[43mname\u001b[49m\u001b[43m,\u001b[49m\n\u001b[1;32m    427\u001b[0m \u001b[43m                    \u001b[49m\u001b[43mvector\u001b[49m\u001b[38;5;241;43m=\u001b[39;49m\u001b[38;5;28;43;01mNone\u001b[39;49;00m\u001b[43m,\u001b[49m\n\u001b[1;32m    428\u001b[0m \u001b[43m                    \u001b[49m\u001b[43muuid\u001b[49m\u001b[38;5;241;43m=\u001b[39;49m\u001b[38;5;28;43mstr\u001b[39;49m\u001b[43m(\u001b[49m\u001b[43muuid_package\u001b[49m\u001b[38;5;241;43m.\u001b[39;49m\u001b[43muuid4\u001b[49m\u001b[43m(\u001b[49m\u001b[43m)\u001b[49m\u001b[43m)\u001b[49m\u001b[43m,\u001b[49m\n\u001b[1;32m    429\u001b[0m \u001b[43m                    \u001b[49m\u001b[43mproperties\u001b[49m\u001b[38;5;241;43m=\u001b[39;49m\u001b[43mcast\u001b[49m\u001b[43m(\u001b[49m\u001b[38;5;28;43mdict\u001b[39;49m\u001b[43m,\u001b[49m\u001b[43m \u001b[49m\u001b[43mobj\u001b[49m\u001b[43m)\u001b[49m\u001b[43m,\u001b[49m\n\u001b[1;32m    430\u001b[0m \u001b[43m                    \u001b[49m\u001b[43mtenant\u001b[49m\u001b[38;5;241;43m=\u001b[39;49m\u001b[38;5;28;43mself\u001b[39;49m\u001b[38;5;241;43m.\u001b[39;49m\u001b[43m_tenant\u001b[49m\u001b[43m,\u001b[49m\n\u001b[1;32m    431\u001b[0m \u001b[43m                    \u001b[49m\u001b[43mreferences\u001b[49m\u001b[38;5;241;43m=\u001b[39;49m\u001b[38;5;28;43;01mNone\u001b[39;49;00m\u001b[43m,\u001b[49m\n\u001b[1;32m    432\u001b[0m \u001b[43m                \u001b[49m\u001b[43m)\u001b[49m\n\u001b[1;32m    433\u001b[0m \u001b[43m            \u001b[49m\u001b[43m)\u001b[49m\n\u001b[1;32m    434\u001b[0m \u001b[43m            \u001b[49m\u001b[38;5;28;43;01mfor\u001b[39;49;00m\u001b[43m \u001b[49m\u001b[43mobj\u001b[49m\u001b[43m \u001b[49m\u001b[38;5;129;43;01min\u001b[39;49;00m\u001b[43m \u001b[49m\u001b[43mobjects\u001b[49m\n\u001b[1;32m    435\u001b[0m \u001b[43m        \u001b[49m\u001b[43m]\u001b[49m\u001b[43m,\u001b[49m\n\u001b[1;32m    436\u001b[0m \u001b[43m        \u001b[49m\u001b[43mtimeout\u001b[49m\u001b[38;5;241;43m=\u001b[39;49m\u001b[38;5;28;43mself\u001b[39;49m\u001b[38;5;241;43m.\u001b[39;49m\u001b[43m_connection\u001b[49m\u001b[38;5;241;43m.\u001b[39;49m\u001b[43mtimeout_config\u001b[49m\u001b[38;5;241;43m.\u001b[39;49m\u001b[43minsert\u001b[49m\u001b[43m,\u001b[49m\n\u001b[1;32m    437\u001b[0m \u001b[43m    \u001b[49m\u001b[43m)\u001b[49m\n",
      "File \u001b[0;32m~/miniconda3/envs/cit/lib/python3.10/site-packages/weaviate/collections/batch/grpc_batch_objects.py:102\u001b[0m, in \u001b[0;36m_BatchGRPC.objects\u001b[0;34m(self, objects, timeout)\u001b[0m\n\u001b[1;32m     98\u001b[0m elapsed_time \u001b[38;5;241m=\u001b[39m time\u001b[38;5;241m.\u001b[39mtime() \u001b[38;5;241m-\u001b[39m start\n\u001b[1;32m    100\u001b[0m \u001b[38;5;28;01mif\u001b[39;00m \u001b[38;5;28mlen\u001b[39m(errors) \u001b[38;5;241m==\u001b[39m \u001b[38;5;28mlen\u001b[39m(weaviate_objs):\n\u001b[1;32m    101\u001b[0m     \u001b[38;5;66;03m# Escape sequence (backslash) not allowed in expression portion of f-string prior to Python 3.12: pylance\u001b[39;00m\n\u001b[0;32m--> 102\u001b[0m     \u001b[38;5;28;01mraise\u001b[39;00m WeaviateInsertManyAllFailedError(\n\u001b[1;32m    103\u001b[0m         \u001b[38;5;124m\"\u001b[39m\u001b[38;5;124mHere is the set of all errors: \u001b[39m\u001b[38;5;132;01m{}\u001b[39;00m\u001b[38;5;124m\"\u001b[39m\u001b[38;5;241m.\u001b[39mformat(\n\u001b[1;32m    104\u001b[0m             \u001b[38;5;124m\"\u001b[39m\u001b[38;5;130;01m\\n\u001b[39;00m\u001b[38;5;124m\"\u001b[39m\u001b[38;5;241m.\u001b[39mjoin(err \u001b[38;5;28;01mfor\u001b[39;00m err \u001b[38;5;129;01min\u001b[39;00m \u001b[38;5;28mset\u001b[39m(errors\u001b[38;5;241m.\u001b[39mvalues()))\n\u001b[1;32m    105\u001b[0m         )\n\u001b[1;32m    106\u001b[0m     )\n\u001b[1;32m    108\u001b[0m all_responses: List[Union[uuid_package\u001b[38;5;241m.\u001b[39mUUID, ErrorObject]] \u001b[38;5;241m=\u001b[39m cast(\n\u001b[1;32m    109\u001b[0m     List[Union[uuid_package\u001b[38;5;241m.\u001b[39mUUID, ErrorObject]], \u001b[38;5;28mlist\u001b[39m(\u001b[38;5;28mrange\u001b[39m(\u001b[38;5;28mlen\u001b[39m(weaviate_objs)))\n\u001b[1;32m    110\u001b[0m )\n\u001b[1;32m    111\u001b[0m return_success: Dict[\u001b[38;5;28mint\u001b[39m, uuid_package\u001b[38;5;241m.\u001b[39mUUID] \u001b[38;5;241m=\u001b[39m {}\n",
      "\u001b[0;31mWeaviateInsertManyAllFailedError\u001b[0m: Every object failed during insertion. Here is the set of all errors: vectorize target vector content: update vector: send POST request: Post \"https://api.openai.com/v1/embeddings\": dial tcp 104.18.7.192:443: i/o timeout"
     ]
    }
   ],
   "source": [
    "document_objs = list()\n",
    "\n",
    "for d in documents_text:\n",
    "    # Extract data from each document\n",
    "    source = d.metadata['source']\n",
    "    page = str(d.metadata['page'])  # page number to string\n",
    "    content = d.page_content\n",
    "\n",
    "    # Prepare properties for the data object\n",
    "    document_objs.append({\n",
    "        \"source\": source,\n",
    "        \"page\": page,\n",
    "        \"content\": content\n",
    "    })\n",
    "\n",
    "# Assuming you have a collection named 'Documents' set up in Weaviate\n",
    "documents = client.collections.get(\"citizens_info_docs\")\n",
    "documents.data.insert_many(document_objs)  # Insert all documents at once"
   ]
  },
  {
   "cell_type": "code",
   "execution_count": null,
   "metadata": {},
   "outputs": [],
   "source": [
    "query_return = documents.query.fetch_objects(\n",
    "    include_vector=True, \n",
    "    limit=2)"
   ]
  },
  {
   "cell_type": "code",
   "execution_count": null,
   "metadata": {},
   "outputs": [
    {
     "name": "stdout",
     "output_type": "stream",
     "text": [
      "4/12/24, 2:46 PM Pregnancy and social welfare payments\n",
      "https://www.citizensinformation.ie/en/social-welfare/families-and-children/pregnancy-and-social-welfare-payments/#5011b8 3/3If you are taking part in an employment scheme you have the full range of statutory employment\n",
      "rights including maternity leave.\n",
      "If you become pregnant while on an employment scheme (Community Employment, Rural Social\n",
      "Scheme, Tús and Gateway schemes) you are en\u0000tled to take 26 weeks’ maternity leave including an\n",
      "addi\u0000onal 16 weeks of op\u0000onal unpaid leave. If possible, you will be supported to complete your 52\n",
      "weeks of paid work on the same or another project when you ﬁnish your maternity leave.\n",
      "You should discuss with your sponsor the payment you qualify for while you are on maternity leave.\n",
      "You may qualify for Maternity Beneﬁt if you have enough PRSI contribu\u0000ons. Otherwise, if your\n",
      "spouse or partner is ge\u0000ng a social welfare payment, you may get a qualiﬁed adult increase on their\n",
      "payment.\n",
      "Page edited: 21 September 2023\n",
      "Manage cookie preferences\n",
      "Manage preferences\n"
     ]
    }
   ],
   "source": [
    "response = documents.query.near_text(\n",
    "    query=\"How should one apply for Maternity Benefit and what are the deadlines?\",\n",
    "    limit=1\n",
    ")\n",
    "\n",
    "for o in response.objects:\n",
    "    print(o.properties['content'])  # Object properties"
   ]
  },
  {
   "cell_type": "code",
   "execution_count": null,
   "metadata": {},
   "outputs": [
    {
     "name": "stdout",
     "output_type": "stream",
     "text": [
      "4/16/24, 10:04 PM Claiming a social welfare payment\n",
      "https://www.citizensinformation.ie/en/social-welfare/irish-social-welfare-system/claiming-a-social-welfare-payment/applying-for-a-social-welfare-p… 1/4Claiming a social welfare payment\n",
      "Introduc\u0000on\n",
      "Rules\n",
      "How to apply\n",
      "Where to apply\n",
      "Further informa\u0000on\n",
      "Introduc\u0000on\n",
      "The Department of Social Protec\u0000on has a range of social welfare payments that provide ﬁnancial\n",
      "support. To get a social welfare payment, you must apply for it. So, if you think you are en\u0000tled to a\n",
      "payment you should always apply.\n",
      "Your ﬁrst step before applying, is to ﬁnd out which payment you may be en\u0000tled to.\n",
      "Payments are available for:\n",
      "People who are unemployed\n",
      "Families and children\n",
      "Widows, widowers and surviving civil partners\n",
      "Guardians or orphans\n",
      "Older and re\u0000red people\n",
      "People with a disability\n",
      "Carers\n",
      "If you get a social welfare payment you may also qualify for extra social welfare beneﬁts.\n",
      "Household Budget Scheme\n",
      "If you get certain social welfare payments, you can put a regular amount towards your household\n",
      "bills using the Household Budget Scheme. For example, telephone, gas, electricity, and local\n",
      "authority rent.\n",
      "Rules\n",
      "To apply for a social welfare payment, you must ﬁll in an applica\u0000on form and provide other\n",
      "suppor\u0000ng documenta\u0000on. The informa\u0000on and documents you must submit depend on the\n",
      "payment and your personal circumstances. However, in general you must submit some documents\n",
      "when you apply for a payment.\n",
      "If you apply for, or are currently ge\u0000ng a social welfare payment (including Child Beneﬁt) you may\n",
      "be asked to register for a Public Services Card.\n",
      "Adult and child dependents\n",
      "If you qualify for a payment, you may be able to get an increase in your payment for an adult\n",
      "dependant or a child dependant. If it is possible to claim for dependants, the Department of Social\n",
      "Protec\u0000on will ask for informa\u0000on about your dependants on the applica\u0000on form.\n",
      "How long to process claims\n",
      "4/16/24, 10:04 PM Claiming a social welfare payment\n",
      "https://www.citizensinformation.ie/en/social-welfare/irish-social-welfare-system/claiming-a-social-welfare-payment/applying-for-a-social-welfare-p… 2/4It may take some \u0000me for the Department to process your claim. As part of the procedure, you may\n",
      "be interviewed in your home or asked to a\u0000end an interview at your local social welfare oﬃce.\n",
      "While your claim is being processed by the Department, you may qualify for Supplementary Welfare\n",
      "Allowance.\n",
      "Late claims\n",
      "It is important that you make your claim as soon as you know you are en\u0000tled to the payment. All\n",
      "payments must be claimed within a speciﬁc period of \u0000me. If you don't claim on \u0000me you may lose\n",
      "out. Find out more about making a late claim.\n",
      "Further informa\u0000on or documents\n",
      "If you are asked to provide informa\u0000on reasonably required by a social welfare inspector when\n",
      "inves\u0000ga\u0000ng your claim, you must provide the statements, informa\u0000on or documents within 21\n",
      "days. The same \u0000me period applies to your spouse, civil partner, cohabitant, employer and certain\n",
      "other people (for example, landlords).\n",
      "If you are refused a social welfare payment or get a lesser amount than you expected, you have 21\n",
      "days to appeal the decision of the Department of Social Protec\u0000on.\n",
      "There is more informa\u0000on about how the Department makes decisions on claims in 'More\n",
      "informa\u0000on' below.\n",
      "How to apply\n",
      "You must complete the applica\u0000on form and provide suppor\u0000ng documents.\n",
      "You can apply for most payments online. You can also get an applica\u0000on form from your local Intreo\n",
      "Centre or Social Welfare Branch Oﬃce or your local Ci\u0000zens Informa\u0000on Centre. You can also get an\n",
      "applica\u0000on form on gov.ie.\n",
      "Your Intreo Centre, Social Welfare Branch Oﬃce or your local Ci\u0000zens Informa\u0000on Centre can help\n",
      "you ﬁll in your applica\u0000on form.\n",
      "Birth certs for social welfare\n",
      "You are no longer required to provide copies of birth cer\u0000ﬁcates for social welfare purposes if you\n",
      "were born in Ireland and your birth is in the Register of Births. The Department of Social Protec\u0000on\n",
      "can access this informa\u0000on directly.\n",
      "You can get more informa\u0000on about ge\u0000ng a Birth, Marriage or Death cer\u0000ﬁcate.\n",
      "Where to apply\n",
      "To apply for a social welfare payment you should either:\n",
      "Apply online at MyWelfare.ie (only certain payments)\n",
      "Send a paper applica\u0000on form to the address printed on the form\n",
      "You can get informa\u0000on about applying for social welfare payments through MyWelfare.ie. You can\n",
      "also call 0818 405 060.\n"
     ]
    }
   ],
   "source": [
    "# Assuming 'client' has been properly initialized and connected to Weaviate\n",
    "response = documents.query.near_text(\n",
    "    query=\"How to apply for social walfare\",\n",
    "    limit=2\n",
    ")\n",
    "\n",
    "# Printing properties of the objects retrieved\n",
    "for o in response.objects:\n",
    "    print(o.properties['content'])  # Object properties"
   ]
  },
  {
   "cell_type": "code",
   "execution_count": null,
   "metadata": {},
   "outputs": [
    {
     "name": "stdout",
     "output_type": "stream",
     "text": [
      "4/16/24, 10:04 PM Claiming a social welfare payment\n",
      "https://www.citizensinformation.ie/en/social-welfare/irish-social-welfare-system/claiming-a-social-welfare-payment/applying-for-a-social-welfare-p… 1/4Claiming a social welfare payment\n",
      "Introduc\u0000on\n",
      "Rules\n",
      "How to apply\n",
      "Where to apply\n",
      "Further informa\u0000on\n",
      "Introduc\u0000on\n",
      "The Department of Social Protec\u0000on has a range of social welfare payments that provide ﬁnancial\n",
      "support. To get a social welfare payment, you must apply for it. So, if you think you are en\u0000tled to a\n",
      "payment you should always apply.\n",
      "Your ﬁrst step before applying, is to ﬁnd out which payment you may be en\u0000tled to.\n",
      "Payments are available for:\n",
      "People who are unemployed\n",
      "Families and children\n",
      "Widows, widowers and surviving civil partners\n",
      "Guardians or orphans\n",
      "Older and re\u0000red people\n",
      "People with a disability\n",
      "Carers\n",
      "If you get a social welfare payment you may also qualify for extra social welfare beneﬁts.\n",
      "Household Budget Scheme\n",
      "If you get certain social welfare payments, you can put a regular amount towards your household\n",
      "bills using the Household Budget Scheme. For example, telephone, gas, electricity, and local\n",
      "authority rent.\n",
      "Rules\n",
      "To apply for a social welfare payment, you must ﬁll in an applica\u0000on form and provide other\n",
      "suppor\u0000ng documenta\u0000on. The informa\u0000on and documents you must submit depend on the\n",
      "payment and your personal circumstances. However, in general you must submit some documents\n",
      "when you apply for a payment.\n",
      "If you apply for, or are currently ge\u0000ng a social welfare payment (including Child Beneﬁt) you may\n",
      "be asked to register for a Public Services Card.\n",
      "Adult and child dependents\n",
      "If you qualify for a payment, you may be able to get an increase in your payment for an adult\n",
      "dependant or a child dependant. If it is possible to claim for dependants, the Department of Social\n",
      "Protec\u0000on will ask for informa\u0000on about your dependants on the applica\u0000on form.\n",
      "How long to process claims\n",
      "4/16/24, 10:04 PM Claiming a social welfare payment\n",
      "https://www.citizensinformation.ie/en/social-welfare/irish-social-welfare-system/claiming-a-social-welfare-payment/applying-for-a-social-welfare-p… 2/4It may take some \u0000me for the Department to process your claim. As part of the procedure, you may\n",
      "be interviewed in your home or asked to a\u0000end an interview at your local social welfare oﬃce.\n",
      "While your claim is being processed by the Department, you may qualify for Supplementary Welfare\n",
      "Allowance.\n",
      "Late claims\n",
      "It is important that you make your claim as soon as you know you are en\u0000tled to the payment. All\n",
      "payments must be claimed within a speciﬁc period of \u0000me. If you don't claim on \u0000me you may lose\n",
      "out. Find out more about making a late claim.\n",
      "Further informa\u0000on or documents\n",
      "If you are asked to provide informa\u0000on reasonably required by a social welfare inspector when\n",
      "inves\u0000ga\u0000ng your claim, you must provide the statements, informa\u0000on or documents within 21\n",
      "days. The same \u0000me period applies to your spouse, civil partner, cohabitant, employer and certain\n",
      "other people (for example, landlords).\n",
      "If you are refused a social welfare payment or get a lesser amount than you expected, you have 21\n",
      "days to appeal the decision of the Department of Social Protec\u0000on.\n",
      "There is more informa\u0000on about how the Department makes decisions on claims in 'More\n",
      "informa\u0000on' below.\n",
      "How to apply\n",
      "You must complete the applica\u0000on form and provide suppor\u0000ng documents.\n",
      "You can apply for most payments online. You can also get an applica\u0000on form from your local Intreo\n",
      "Centre or Social Welfare Branch Oﬃce or your local Ci\u0000zens Informa\u0000on Centre. You can also get an\n",
      "applica\u0000on form on gov.ie.\n",
      "Your Intreo Centre, Social Welfare Branch Oﬃce or your local Ci\u0000zens Informa\u0000on Centre can help\n",
      "you ﬁll in your applica\u0000on form.\n",
      "Birth certs for social welfare\n",
      "You are no longer required to provide copies of birth cer\u0000ﬁcates for social welfare purposes if you\n",
      "were born in Ireland and your birth is in the Register of Births. The Department of Social Protec\u0000on\n",
      "can access this informa\u0000on directly.\n",
      "You can get more informa\u0000on about ge\u0000ng a Birth, Marriage or Death cer\u0000ﬁcate.\n",
      "Where to apply\n",
      "To apply for a social welfare payment you should either:\n",
      "Apply online at MyWelfare.ie (only certain payments)\n",
      "Send a paper applica\u0000on form to the address printed on the form\n",
      "You can get informa\u0000on about applying for social welfare payments through MyWelfare.ie. You can\n",
      "also call 0818 405 060.\n"
     ]
    }
   ],
   "source": [
    "# Assuming 'client' has been properly initialized and connected to Weaviate\n",
    "response = documents.query.near_text(\n",
    "    query=\"What ways do I have to move stuff from the UK\",\n",
    "    limit=2\n",
    ")\n",
    "\n",
    "# Printing properties of the objects retrieved\n",
    "for o in response.objects:\n",
    "    print(o.properties['content'])  # Object properties"
   ]
  }
 ],
 "metadata": {
  "kernelspec": {
   "display_name": "cit",
   "language": "python",
   "name": "python3"
  },
  "language_info": {
   "codemirror_mode": {
    "name": "ipython",
    "version": 3
   },
   "file_extension": ".py",
   "mimetype": "text/x-python",
   "name": "python",
   "nbconvert_exporter": "python",
   "pygments_lexer": "ipython3",
   "version": "3.10.14"
  }
 },
 "nbformat": 4,
 "nbformat_minor": 2
}
