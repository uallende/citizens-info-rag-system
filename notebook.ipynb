{
 "cells": [
  {
   "cell_type": "code",
   "execution_count": 1,
   "metadata": {},
   "outputs": [],
   "source": [
    "### SVPINO uses loader.load_and_split() from PyPDFLoader (pypdf)\n",
    "### https://ollama.com/blog/embedding-models"
   ]
  },
  {
   "cell_type": "code",
   "execution_count": 2,
   "metadata": {},
   "outputs": [],
   "source": [
    "import os\n",
    "from langchain_community.llms import Ollama\n",
    "from langchain_community.embeddings import OllamaEmbeddings\n",
    "from langchain_community.document_loaders import PyPDFLoader\n",
    "from langchain_core.output_parsers import StrOutputParser\n",
    "from langchain_community.vectorstores import DocArrayInMemorySearch\n",
    "from langchain.prompts import PromptTemplate\n",
    "from operator import itemgetter"
   ]
  },
  {
   "cell_type": "code",
   "execution_count": 3,
   "metadata": {},
   "outputs": [],
   "source": [
    "MODEL = 'llama2'\n",
    "model = Ollama(model=MODEL)\n",
    "embeddings = OllamaEmbeddings()\n",
    "\n",
    "loader = PyPDFLoader('Pregnancy and social welfare payments.pdf')\n",
    "pages = loader.load_and_split()"
   ]
  },
  {
   "cell_type": "code",
   "execution_count": 4,
   "metadata": {},
   "outputs": [
    {
     "name": "stdout",
     "output_type": "stream",
     "text": [
      "\n",
      "Why don't scientists trust atoms? Because they make up everything! 😂\n"
     ]
    }
   ],
   "source": [
    "# Chaining test\n",
    "parser = StrOutputParser()\n",
    "chain = model | parser\n",
    "print(chain.invoke('Tell me a joke'))"
   ]
  },
  {
   "cell_type": "code",
   "execution_count": 5,
   "metadata": {},
   "outputs": [
    {
     "name": "stdout",
     "output_type": "stream",
     "text": [
      "\n",
      "Answer the question based on the context below. If you can't\n",
      "answer the question, reply \"I don't know\"\n",
      "\n",
      "Context: Here is some context\n",
      "\n",
      "Question: Here is a question\n",
      "\n"
     ]
    }
   ],
   "source": [
    "# PromptTemplate testing\n",
    "template = \"\"\"\n",
    "Answer the question based on the context below. If you can't\n",
    "answer the question, reply \"I don't know\"\n",
    "\n",
    "Context: {context}\n",
    "\n",
    "Question: {question}\n",
    "\"\"\"\n",
    "\n",
    "prompt = PromptTemplate.from_template(template)\n",
    "print(prompt.format(context='Here is some context', question='Here is a question'))"
   ]
  },
  {
   "cell_type": "code",
   "execution_count": 6,
   "metadata": {},
   "outputs": [
    {
     "name": "stdout",
     "output_type": "stream",
     "text": [
      "page_content='4/12/24, 2:46 PM Pregnancy and social welfare payments\\nhttps://www.citizensinformation.ie/en/social-welfare/families-and-children/pregnancy-and-social-welfare-payments/#5011b8 3/3If you are taking part in an employment scheme you have the full range of statutory employment\\nrights including maternity leave.\\nIf you become pregnant while on an employment scheme (Community Employment, Rural Social\\nScheme, Tús and Gateway schemes) you are en\\x00tled to take 26 weeks’ maternity leave including an\\naddi\\x00onal 16 weeks of op\\x00onal unpaid leave. If possible, you will be supported to complete your 52\\nweeks of paid work on the same or another project when you ﬁnish your maternity leave.\\nYou should discuss with your sponsor the payment you qualify for while you are on maternity leave.\\nYou may qualify for Maternity Beneﬁt if you have enough PRSI contribu\\x00ons. Otherwise, if your\\nspouse or partner is ge\\x00ng a social welfare payment, you may get a qualiﬁed adult increase on their\\npayment.\\nPage edited: 21 September 2023\\nManage cookie preferences\\nManage preferences' metadata={'source': 'Pregnancy and social welfare payments.pdf', 'page': 2}\n",
      "page_content=\"4/12/24, 2:46 PM Pregnancy and social welfare payments\\nhttps://www.citizensinformation.ie/en/social-welfare/families-and-children/pregnancy-and-social-welfare-payments/#5011b8 2/3What if I am unemployed but don't qualify for a jobseeker's payment because of illness during\\npregnancy?\\nIf you are sick or ill during your pregnancy you are not en\\x00tled to Jobseeker's Allowance or\\nJobseeker's Beneﬁt.\\nYou may get Illness Beneﬁt if you have worked and have enough social insurance contribu\\x00ons (see\\nbelow). If you are not en\\x00tled to Illness Beneﬁt and your illness is expected to last for more than 12\\nmonths you may be en\\x00tled to Disability Allowance.\\nIf you are pregnant and either not ge\\x00ng a social welfare payment or not en\\x00tled to any of the\\nabove social welfare payments, you may get some ﬁnancial support under the Supplementary\\nWelfare Allowance Scheme.\\nPregnancy and Illness Beneﬁt\\nIf you are pregnant and claiming Illness Beneﬁt, you will con\\x00nue to be paid Illness Beneﬁt if you\\nhave an illness which meets the criteria for the payment. You cannot use pregnancy itself as a\\nmedical reason to claim Illness Beneﬁt. However, medical complica\\x00ons arising from your pregnancy\\ncan sa\\x00sfy the medical criteria for Illness Beneﬁt.\\nYou must con\\x00nue to send in medical cer\\x00ﬁcates to qualify for Illness Beneﬁt.\\nWhen your baby is born you may qualify for an increase in your Illness Beneﬁt for a child dependant.\\nYou should contact the Illness Beneﬁt sec\\x00on to ﬁnd out if you qualify.\\nPregnant and on sick leave from work\\nIf you are on sick leave from work and ge\\x00ng Illness Beneﬁt immediately before you are due to start\\nyour maternity leave, you will transfer from Illness Beneﬁt to Maternity Beneﬁt when your maternity\\nleave starts, if you sa\\x00sfy the social insurance contribu\\x00ons.\\nThe social insurance contribu\\x00ons for Maternity Beneﬁt and Illness Beneﬁt are not the same.\\nTherefore, if you are in employment but on sick leave and not ge\\x00ng Illness Beneﬁt, you may s\\x00ll\\nqualify for Maternity Beneﬁt if you sa\\x00sfy social insurance contribu\\x00ons.\\nHealth and Safety Beneﬁt is a weekly payment for employed women who are pregnant or\\nbreas\\x00eeding, and who are granted health and safety leave by their employer.\\nPregnancy and One-Parent Family Payment\\nIf you are pregnant and ge\\x00ng a One-Parent Family Payment, you will con\\x00nue to get the payment\\nas long as you sa\\x00sfy the condi\\x00ons. When your baby is born you will qualify for an increase in your\\npayment for a child dependant. If you are pregnant and do not have other children, you are not\\nen\\x00tled to One-Parent Family Payment un\\x00l your baby is born.\\nYou may get half-rate Maternity Beneﬁt with your One-Parent Family Payment if you meet the\\nconditons for both payments. If you are not en\\x00tled to a One-Parent Family Payment, and you have\\nno other income you may get some ﬁnancial support under the Supplementary Welfare Allowance\\nScheme.\\nPregnancy and employment schemes\" metadata={'source': 'Pregnancy and social welfare payments.pdf', 'page': 1}\n",
      "page_content=\"4/12/24, 2:46 PM Pregnancy and social welfare payments\\nhttps://www.citizensinformation.ie/en/social-welfare/families-and-children/pregnancy-and-social-welfare-payments/#5011b8 1/3Pregnancy and social welfare payments\\nIntroduc\\x00on\\nPregnancy and jobseeker's payments\\nPregnancy and Illness Beneﬁt\\nPregnancy and One-Parent Family Payment\\nPregnancy and employment schemes\\nIntroduc\\x00on\\nIf you are pregnant and ge\\x00ng a social welfare payment, you may be able to con\\x00nue to get your\\npayment as long as you sa\\x00sfy the condi\\x00ons, or transfer to another payment that be\\x00er suits your\\nneeds.\\nThis page explains how pregnancy is treated if you are ge\\x00ng Jobseeker’s Beneﬁt, Jobseeker’s\\nAllowance, Illness Beneﬁt, One-Parent Family Payment or are on an employment scheme.\\nPregnancy and Maternity Beneﬁt\\nIf you are on maternity leave from work and have paid enough social insurance (PRSI), you can get\\nMaternity Beneﬁt. You should apply for Maternity Beneﬁt at least 6 weeks before you plan to go on\\nmaternity leave or 12 weeks if you are self-employed.\\nIf you don’t qualify for Maternity Beneﬁt, you may be able to stay on your current payment or you\\nmay qualify for another payment.\\nWorking family payment\\nIf you are on maternity leave from work, you may get the Working Family Payment (WFP) with your\\nMaternity Beneﬁt if you meet the condi\\x00ons for the WFP. If you are pregnant and have no other\\nchildren, you will not qualify for WFP un\\x00l your baby is born.\\nPregnancy and jobseeker's payments\\nIf you are pregnant, and claiming Jobseeker’s Beneﬁt or Jobseeker's Allowance, you can con\\x00nue to\\nget your payment. You are considered capable of work unless you have complica\\x00ons during your\\npregnancy, or you are ill.\\nYou must be available for and genuinely seeking work to get a jobseeker's payment. This means that\\nyou must con\\x00nue to look for work throughout your pregnancy.\\nYou do not have to sign-on at your local Social Welfare or Intreo oﬃce 4 weeks before your baby is\\ndue to be born and for 8 weeks a\\x00er the birth. You also do not have to prove that you are seeking\\nwork. You must tell your Intreo Centre or local Social Welfare Branch Oﬃce about your pregnancy.\\nYour Jobseeker’s Beneﬁt will only be paid for the number of weeks remaining on your claim. If you\\nno longer qualify for Jobseeker’s Beneﬁt, you can apply for Jobseeker’s Allowance. The rules for\\nJobseeker's Allowance are similar to Jobseeker's Beneﬁt but you will have to pass a means test.\\nIncrease for a qualiﬁed child\\nWhen your baby is born, you may qualify for an increase in your Jobseeker’s Beneﬁt or Allowance for\\nyour child. If you are paren\\x00ng alone, you may qualify for the One-Parent Family Payment.\" metadata={'source': 'Pregnancy and social welfare payments.pdf', 'page': 0}\n"
     ]
    }
   ],
   "source": [
    "# Vectorstore\n",
    "vectorstore = DocArrayInMemorySearch.from_documents(\n",
    "    pages,\n",
    "    embedding=embeddings\n",
    ")\n",
    "\n",
    "retriever = vectorstore.as_retriever()\n",
    "for chunk in retriever.invoke(\"payment\"):\n",
    "    print(chunk)\n",
    "    break"
   ]
  },
  {
   "cell_type": "code",
   "execution_count": 13,
   "metadata": {},
   "outputs": [
    {
     "name": "stdout",
     "output_type": "stream",
     "text": [
      "Question 1: What are the conditions to continue receiving social welfare payments if pregnant?\n",
      "Answer: The conditions to continue receiving social welfare payments if pregnant are as follows:\n",
      "\n",
      "1. You must be available for and genuinely seeking work throughout your pregnancy.\n",
      "2. You must be capable of work unless you have complications during your pregnancy or you are ill.\n",
      "3. You must be claiming Jobseeker's Beneﬁt or Jobseeker's Allowance when you become pregnant.\n",
      "4. If you are on maternity leave from work, you may qualify for Maternity Beneﬁt if you have paid enough social insurance (PRSI).\n",
      "5. If you do not qualify for Maternity Beneﬁt, you may be able to stay on your current payment or transfer to another payment that better suits your needs.\n",
      "6. If you are pregnant and have no other children, you will not qualify for the Working Family Payment (WFP) unless your baby is born.\n",
      "7. You must tell your Intreo Centre or local Social Welfare Branch Oﬃce about your pregnancy to ensure that your payment is adjusted accordingly.\n",
      "8. Your Jobseeker's Beneﬁt will only be paid for the number of weeks remaining on your claim, and you may qualify for an increase in your payment for your child when they are born.\n",
      "\n",
      "It is important to note that these conditions are subject to change, so it is best to check with your local Social Welfare office for the most up-to-date information.\n",
      "\n",
      "\n",
      "Question 2: How should one apply for Maternity Benefit and what are the deadlines?\n",
      "Answer: Answer: To apply for Maternity Benefit in Ireland, you can contact the Maternity Benefit section of your local Social Welfare office or submit an application online through the Citizens Information website. The application process typically involves providing documentation to support your claim, such as proof of pregnancy and social insurance contributions.\n",
      "\n",
      "The deadline for applying for Maternity Benefit is generally 6 weeks before the expected date of delivery, but this can vary depending on your circumstances. If you are self-employed, the deadline is 12 weeks before the expected date of delivery. It's important to apply as early as possible to ensure that you receive the benefit without interruption.\n",
      "\n",
      "Here are the steps you can follow to apply for Maternity Benefit:\n",
      "\n",
      "1. Check your eligibility: Before applying, check if you are eligible for Maternity Benefit based on your social insurance contributions and other requirements. You can find more information on the Citizens Information website or by contacting your local Social Welfare office.\n",
      "2. Gather required documents: To apply for Maternity Benefit, you will need to provide documentation to support your claim. These may include:\n",
      "\t* Proof of pregnancy (e.g., a medical certificate or ultrasound report)\n",
      "\t* Proof of social insurance contributions (e.g., P60 form or payment records)\n",
      "\t* Other relevant documents, such as your PPS number and bank details for the payment\n",
      "3. Apply online or in person: You can apply for Maternity Benefit online through the Citizens Information website or in person at your local Social Welfare office. If you are applying in person, it's best to make an appointment to ensure that someone is available to assist you.\n",
      "4. Submit your application: Once you have gathered all the necessary documents and applied, your application will be processed by the Social Welfare department. You should receive a decision on your application within 2-3 weeks.\n",
      "5. Follow up on your application: If you haven't received a decision on your application after 2-3 weeks, you can contact your local Social Welfare office to follow up on the status of your application.\n",
      "\n",
      "It's important to note that the application process and deadlines may vary depending on your individual circumstances, so it's best to check with your local Social Welfare office for specific guidance.\n",
      "\n",
      "\n",
      "Question 3: Under what conditions can a pregnant woman qualify for the Working Family Payment?\n",
      "Answer: According to the provided document, a pregnant woman can qualify for the Working Family Payment (WFP) if she meets the following conditions:\n",
      "\n",
      "1. She is on maternity leave from work and has paid enough social insurance (PRSI).\n",
      "2. She is not already receiving Maternity Benefit.\n",
      "3. She is available for and genuinely seeking work.\n",
      "4. She has no other children and is not eligible for the One-Parent Family Payment until after her baby is born.\n",
      "\n",
      "If a pregnant woman meets these conditions, she may be able to get the WFP with her Maternity Benefit. It is important to note that the rules for WFP are subject to change, so it is best to check with the relevant authorities for the most up-to-date information.\n",
      "\n",
      "\n",
      "Question 4: What are the requirements for receiving Jobseekers Benefit or Allowance while pregnant?\n",
      "Answer: Answer: According to the provided document, if you are pregnant and claiming Jobseeker's Beneﬁt or Jobseeker's Allowance, you can continue to get your payment. However, you must be available for and genuinely seeking work throughout your pregnancy. You do not have to sign-on at your local Social Welfare or Intreo oﬃce 4 weeks before your baby is due to be born and for 8 weeks ater the birth. Additionally, you must tell your Intreo Centre or local Social Welfare Branch Oﬃce about your pregnancy. Your Jobseeker's Beneﬁt will only be paid for the number of weeks remaining on your claim. If you no longer qualify for Jobseeker's Beneﬁt, you can apply for Jobseeker's Allowance. The rules for Jobseeker's Allowance are similar to Jobseeker's Beneﬁt but you will have to pass a means test.\n",
      "\n",
      "\n",
      "Question 5: How does the One-Parent Family Payment change when a baby is born?\n",
      "Answer: Answer: According to the information provided in the document, if you are pregnant and receiving the One-Parent Family Payment, you will continue to receive the payment as long as you satisfy the conditions. However, when your baby is born, you may qualify for an increase in your payment for your child dependant. If you are a single parent, you may also qualify for the One-Parent Family Payment un\\x00l your baby is born.\n",
      "\n",
      "Additionally, if you are pregnant and do not have other children, you are not entitled to the One-Parent Family Payment unless your baby is born. If you are on maternity leave from work and have paid enough social insurance (PRSI), you can get Maternity Beneﬁt. You should apply for Maternity Beneﬁt at least 6 weeks before you plan to go on maternity leave or 12 weeks if you are self-employed.\n",
      "\n",
      "It's important to note that the information provided is based on the current rules and regulations of the Irish social welfare system, and may be subject to change. It's always best to consult with the relevant authorities or a trusted source for the most up-to-date and accurate information.\n",
      "\n",
      "\n",
      "Question 6: What are the rules for switching from Illness Benefit to Maternity Benefit?\n",
      "Answer: Answer:\n",
      "\n",
      "The rules for switching from Illness Benefit to Maternity Benefit vary depending on your individual circumstances. Generally, if you are pregnant and already receiving Illness Benefit, you may be able to switch to Maternity Benefit once you start your maternity leave.\n",
      "\n",
      "To qualify for Maternity Benefit, you must have paid enough social insurance contributions (PRSI) to qualify for the benefit. You can apply for Maternity Benefit at least 6 weeks before you plan to go on maternity leave or 12 weeks if you are self-employed.\n",
      "\n",
      "If you are receiving Illness Benefit and become pregnant, you may be able to continue receiving both benefits for a short period. However, you will need to notify the Department of Social Protection (DSP) of your pregnancy and switch to Maternity Benefit once your baby is born.\n",
      "\n",
      "It's important to note that the DSP will assess your eligibility for Maternity Benefit based on your individual circumstances, including your age, how many weeks you have been receiving Illness Benefit, and whether you have paid enough PRSI contributions to qualify for the benefit.\n",
      "\n",
      "In some cases, you may be able to transfer your Illness Benefit entitlement to your partner or spouse if they are also eligible for Maternity Benefit. However, this will depend on your individual circumstances and the rules of the Maternity Benefit scheme.\n",
      "\n",
      "It's always a good idea to consult with the DSP or a social welfare advisor to determine your specific entitlements and options when switching from Illness Benefit to Maternity Benefit.\n",
      "\n",
      "\n",
      "Question 7: Can you participate in employment schemes while pregnant and what rights do you have?\n",
      "Answer: Answer: Yes, you can participate in employment schemes while pregnant. The Social Welfare Department recognizes that pregnant women may be actively seeking work or training to return to the workforce after giving birth. As such, they are eligible for certain employment schemes and programs designed to support them in their job search.\n",
      "\n",
      "Some of the employment schemes available to pregnant women include:\n",
      "\n",
      "1. JobBridge: This is a placement and training program that provides eligible participants with the opportunity to work and gain valuable work experience while also receiving a weekly allowance. Pregnant women who are actively seeking work can participate in JobBridge.\n",
      "2. Gateway: This is a pre-employment program that helps participants prepare for the job market by providing them with training and work experience. Pregnant women can participate in Gateway if they are actively seeking work.\n",
      "3. Enterprise Ireland's New Horizons Programme: This program provides support to pregnant women who are starting their own business or looking to grow an existing one. The program offers training, mentoring, and networking opportunities.\n",
      "4. Local Employment Services (LES): LES providers offer a range of services to jobseekers, including pregnant women. These services may include career guidance, CV preparation, and job matching.\n",
      "\n",
      "As a pregnant woman participating in employment schemes, you have certain rights under the Social Welfare Acts and the EU's equal treatment Directive. These rights include:\n",
      "\n",
      "1. Equal treatment: You are entitled to the same opportunities and benefits as any other jobseeker, regardless of your pregnancy status.\n",
      "2. Non-discrimination: You cannot be discriminated against based on your pregnancy or maternity leave status.\n",
      "3. Provisions for pregnant women: The Social Welfare Department provides additional provisions for pregnant women, including maternity benefit and illness benefit.\n",
      "4. Access to health and safety measures: You have the right to access health and safety measures while participating in employment schemes, such as access to first aid facilities or modifications to the work environment to accommodate your needs during pregnancy.\n",
      "5. Right to request flexible working arrangements: If you are participating in an employment scheme and are also working outside of these programs, you have the right to request flexible working arrangements during your pregnancy, such as reduced hours or job sharing.\n",
      "\n",
      "It is essential to be aware of your rights and options when participating in employment schemes while pregnant. You can consult with a social welfare officer or seek advice from a legal aid organization if you have any questions or concerns about your eligibility or entitlements.\n",
      "\n",
      "\n"
     ]
    }
   ],
   "source": [
    "chain = (\n",
    "\n",
    "    {\n",
    "        \"context\": itemgetter('question') | retriever,\n",
    "        \"question\": itemgetter('question')\n",
    "    }\n",
    "    | prompt\n",
    "    | model\n",
    "    | parser\n",
    ")\n",
    "\n",
    "questions = [\n",
    "    \"What are the conditions to continue receiving social welfare payments if pregnant?\",\n",
    "    \"How should one apply for Maternity Benefit and what are the deadlines?\",\n",
    "    \"Under what conditions can a pregnant woman qualify for the Working Family Payment?\",\n",
    "    \"What are the requirements for receiving Jobseekers Benefit or Allowance while pregnant?\",\n",
    "    \"How does the One-Parent Family Payment change when a baby is born?\",\n",
    "    \"What are the rules for switching from Illness Benefit to Maternity Benefit?\",\n",
    "    \"Can you participate in employment schemes while pregnant and what rights do you have?\"\n",
    "]\n",
    "\n",
    "c = 1\n",
    "for q in questions:\n",
    "    print(f\"Question {c}: {q}\")\n",
    "    print(f\"Answer: {chain.invoke({'question': {q}})}\")\n",
    "    print(f\"\\n\")\n",
    "    c +=1"
   ]
  },
  {
   "cell_type": "code",
   "execution_count": 19,
   "metadata": {},
   "outputs": [
    {
     "name": "stdout",
     "output_type": "stream",
     "text": [
      "Under what conditions can a pregnant woman qualify for the Working Family Payment? \n",
      "\n",
      "Under the following conditions, a pregnant woman can qualify for the Working Family Payment:\n",
      "\n",
      "1. She must be on maternity leave from work and have paid enough social insurance (PRSI).\n",
      "2. She must meet the conditions for the Working Family Payment.\n",
      "3. If she is pregnant and has no other children, she will not qualify for the Working Family Payment until after her baby is born."
     ]
    }
   ],
   "source": [
    "question = \"Under what conditions can a pregnant woman qualify for the Working Family Payment? \\n\"\n",
    "print(f'{question}')\n",
    "for s in chain.stream({'question': question}):\n",
    "    print(s, end=\"\", flush=True)"
   ]
  }
 ],
 "metadata": {
  "kernelspec": {
   "display_name": "Python 3",
   "language": "python",
   "name": "python3"
  },
  "language_info": {
   "codemirror_mode": {
    "name": "ipython",
    "version": 3
   },
   "file_extension": ".py",
   "mimetype": "text/x-python",
   "name": "python",
   "nbconvert_exporter": "python",
   "pygments_lexer": "ipython3",
   "version": "3.10.14"
  }
 },
 "nbformat": 4,
 "nbformat_minor": 2
}
